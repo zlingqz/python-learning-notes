{
 "cells": [
  {
   "cell_type": "markdown",
   "metadata": {},
   "source": [
    "<img src='data:image/png;base64,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'>"
   ]
  },
  {
   "cell_type": "markdown",
   "metadata": {},
   "source": [
    "\n",
    "# 机器学习集训营第十二期 [@Julyedu.com七月在线 ](http://www.julyedu.com)\n",
    "## 第一阶段：Python基础和数据分析\n",
    "### 第一课  Python环境，基本类型、判断与循环流程等"
   ]
  },
  {
   "cell_type": "markdown",
   "metadata": {},
   "source": [
    "### 本节课程目标\n",
    "\n",
    "***\n",
    "#### 课程整体情况掌握\n",
    "- 掌握课程的形式和安排\n",
    "\n",
    "***\n",
    "#### 运行环境\n",
    "Anaconda本地环境搭建\n",
    "- Jupyter notebook及云平台的使用\n",
    "\n",
    "\n",
    "***\n",
    "#### Python基础\n",
    "\n",
    "- Python简介，解释执行，与运行方式\n",
    "- 基础语法及相应帮助的使用\n",
    "- Python标识符、关键字\n",
    "- Python运算符\n",
    "- 判断循环语句\n",
    "- Python基本数据类型(文本，字符串)与数据结构(列表 集合, 元组, 字典)\n",
    "- 函数\n",
    "- 面向对象\n",
    "- 文件操作\n",
    "- 异常\n"
   ]
  },
  {
   "cell_type": "markdown",
   "metadata": {},
   "source": [
    "#### 集训营整体课程线路\n",
    "\n",
    "- Python基础与数据分析\n",
    "- 机器学习原理\n",
    "- 机器学习实战\n",
    "- 深度学习\n",
    "- 各个方向的应用技能提升\n",
    "- 综合项目指导（NLP/推荐/CV）   \n",
    "                                        \n",
    "#### 课程的时间\n",
    "- 在线直播、在线视频、在线实训、阶段考试、线下课\n",
    "- 周一、周三、周五在线课程\n",
    "- 周二、周四在线实训\n",
    "- 周五阶段考试"
   ]
  },
  {
   "cell_type": "markdown",
   "metadata": {},
   "source": [
    "###  预备:Jupyter Notebook环境快速上手"
   ]
  },
  {
   "cell_type": "markdown",
   "metadata": {},
   "source": [
    "#### Anaconda Jupyter Lab环境配置，安装及使用\n",
    "\n",
    "![](http://jupyter.org/assets/main-logo.svg)\n",
    "\n",
    "\n",
    "\n",
    "#### 推荐:正常安装及启动\n",
    "- [官网下载](https://www.anaconda.com)安装\n",
    "- [清华镜像下载](https://mirrors.tuna.tsinghua.edu.cn/anaconda/archive/)安装\n",
    "\n",
    "启动的方式2种：\n",
    "第一种：直接点击anaconda图标---》找到里面的jupyter notebook\n",
    "第二种：terminal--->输入：jupyter notebook\n"
   ]
  },
  {
   "cell_type": "markdown",
   "metadata": {},
   "source": [
    "### Notebook使用\n",
    "- 目录\n",
    "- 文件新建及导入导出\n",
    "- 菜单\n",
    "- 快捷键 [esc+h]\n",
    "jupyter常用的快捷键：\n",
    "\t选中单元格情况下：M----->markdown，Y------>code\n",
    "    \n",
    "\tshift + Tab :查看方法中的参数\n",
    "    \n",
    "\t双击D，删除当前的单元格（删除之后，Crtl + Z还原无效）\n",
    "    \n",
    "\t插入一行：b（bellow），a（above）\n",
    "    \n",
    "\n",
    "\t执行单元：Ctrl + Enter(运行本单元，选中本单元)\n",
    "    \n",
    "    shift + Enter(运行本单元，选中下一个单元)\n",
    "    \n",
    "    Alt + Enter(运行本单元，向下插入一个单元)\n",
    "    \n",
    "\t更多魔法指令：%lsmagic查看"
   ]
  },
  {
   "cell_type": "markdown",
   "metadata": {},
   "source": []
  },
  {
   "cell_type": "code",
   "execution_count": null,
   "metadata": {},
   "outputs": [],
   "source": []
  },
  {
   "cell_type": "markdown",
   "metadata": {
    "ExecuteTime": {
     "end_time": "2019-01-21T08:14:19.135298Z",
     "start_time": "2019-01-21T08:14:19.103447Z"
    }
   },
   "source": [
    "### Notebook中详解\n",
    "\n",
    "\n",
    "* Python CELL\n",
    "* Markdown CELL &* Latex in markdown cell\n",
    "* Magic\n",
    "\n",
    "shell这边分为两个部分，\n",
    "1.Python cell----写Python代码\n",
    "2.makedown cell\n",
    "3.latex cell---写数学公式"
   ]
  },
  {
   "cell_type": "markdown",
   "metadata": {
    "ExecuteTime": {
     "end_time": "2019-01-21T08:14:59.940394Z",
     "start_time": "2019-01-21T08:14:59.836685Z"
    }
   },
   "source": [
    "#### Python Cell"
   ]
  },
  {
   "cell_type": "markdown",
   "metadata": {
    "ExecuteTime": {
     "end_time": "2019-02-02T00:16:51.285819Z",
     "start_time": "2019-02-02T00:16:51.281572Z"
    }
   },
   "source": [
    "print('julyedu.com')"
   ]
  },
  {
   "cell_type": "markdown",
   "metadata": {
    "ExecuteTime": {
     "end_time": "2019-02-18T13:57:48.448076Z",
     "start_time": "2019-02-18T13:57:48.421322Z"
    }
   },
   "source": [
    "#### Markdown CELL &* Latex in markdown cell\n",
    "LaTeX实现的原理类似于HTML，Notebook中的Markdown格式解释器中内置Latex渲染器，可以将由\\$与\\$包裹的内容进行渲染并产生最终效果。\n",
    "\n",
    "sum求和符号\n",
    "\n",
    "$$\\sum_{i =1}^{n}ab$$\n",
    "\n",
    "\n",
    "\n",
    "##### 希腊字母   \n",
    "|希腊字母小写/大写|LaTeX形式|希腊字母小写/大写|LaTeX形式|\n",
    "|:---|:---|:---|:---|\n",
    "|α A|\\alpha A\t|μ N|\t\\mu N|\n",
    "|β B|\\beta B|ξ Ξ|\\xi \\Xi|\n",
    "|γ Γ\t|\\gamma \\Gamma\t|o O|o O|\n",
    "|δ Δ\t|\\delta \\ Delta\t|π Π|\t\\pi \\Pi|\n",
    "|ϵ ε E\t|\\epsilon \\varepsilon E\t|ρ ϱ P\t|\\rho \\varrho P|\n",
    "|ζ Z\t|\\zeta Z\t|σ Σ|\t\\sigma \\Sigma|\n",
    "|η H\t|\\eta H\t|τ T\t|\\tau T|\n",
    "|θ ϑ Θ\t|\\theta \\vartheta \\Theta|\tυ Υ|\t\\upsilon \\Upsilon|\n",
    "|ι I\t|\\iota I\t|ϕ φ Φ|\t\\phi \\varphi \\Phi|\n",
    "|κ K\t|\\kappa K\t|χ X\t|\\chi X|\n",
    "|λ Λ\t|\\lambda \\Lambda\t|ψ Ψ|\t\\psi \\Psi|\n",
    "\n",
    "##### 不同字体\n",
    "mathbb:$\\mathbb{ABCDEFGHIJKLMNOPQRSTUVWXYZ,abcdefghijklmnopqrstuvwxyz}$   \n",
    "mathscr:$\\mathscr{ABCDEFGHIJKLMNOPQRSTUVWXYZ,abcdefghijklmnopqrstuvwxyz}$   \n",
    "mathcal:$\\mathcal{ABCDEFGHIJKLMNOPQRSTUVWXYZ,abcdefghijklmnopqrstuvwxyz}$   \n",
    "mathbf:$\\mathbf{ABCDEFGHIJKLMNOPQRSTUVWXYZ,abcdefghijklmnopqrstuvwxyz}$\n",
    "\n",
    "##### 取消默认斜体\n",
    "默认倾斜：$ x_{z}$   \n",
    "取消默认倾斜$\\rm x_{z}$\n",
    "##### 特殊符号\n",
    "$\\bigcap_{i=1}^{n} \\bigcup_{i=1}^n  \\binom{5}{3}$   \n",
    "$\\forall$- 全称量词,表示任意的，$\\exists$- 存在量词,表示存在/至少一个   \n",
    "$\\partial$ 偏导符号， $\\propto$ 正比符号，$\\mathop{\\lim}_{n \\to \\infty }f(x)$无穷符号及极限\n",
    "\n",
    "##### 简单公式\n",
    ">$y=x^2$\n",
    "\n",
    ">$e^{i\\pi} + 1 = 0$\n",
    "\n",
    ">$e^x=\\sum_{i=0}^\\infty \\frac{1}{i!}x^i$\n",
    "\n",
    ">独占一行：$$\\frac{n!}{k!(n-k)!} = {n \\choose k}$$\n",
    "\n",
    "##### 矩阵\n",
    "$A_{m,n} =\n",
    " \\begin{pmatrix}\n",
    "  a_{1,1} & a_{1,2} & \\cdots & a_{1,n} \\\\\n",
    "  a_{2,1} & a_{2,2} & \\cdots & a_{2,n} \\\\\n",
    "  \\vdots  & \\vdots  & \\ddots & \\vdots  \\\\\n",
    "  a_{m,1} & a_{m,2} & \\cdots & a_{m,n}\n",
    " \\end{pmatrix}$"
   ]
  },
  {
   "cell_type": "markdown",
   "metadata": {},
   "source": [
    "#### Notebook中的Magic开关\n",
    "\n",
    "这个主要是一些快捷操作，类似快捷键，帮助问你提升效率\n",
    "\n",
    "在jupyter的Code模式下，除了一般的python代码编辑外，jupyter还支持一些其他的编程语言，如R，Julia，bash等，不过需要使用magic单元。\n",
    "- 为实现一些快捷操作，提升效率。Notebook中提供了Magic开关，能极大得优化我们使用Notebook的体验。\n",
    "- Magic 开关分为两大类：%line magic(%表示magic只在本行有效) & %%cell magic(%%表示magic在整个cell单元有效)"
   ]
  },
  {
   "cell_type": "markdown",
   "metadata": {},
   "source": [
    "例如：使用magic产生Linux下的shell环境，"
   ]
  },
  {
   "cell_type": "code",
   "execution_count": 1,
   "metadata": {
    "ExecuteTime": {
     "end_time": "2019-11-18T07:28:49.241949Z",
     "start_time": "2019-11-18T07:28:49.176418Z"
    },
    "collapsed": true
   },
   "outputs": [
    {
     "name": "stdout",
     "output_type": "stream",
     "text": [
      "/Users/sxl/七月在线/课件\n",
      "01.csv\n",
      "Captain information.ipynb\n",
      "MachineLearning-1-Exercise.ipynb\n",
      "Python-1.ipynb\n",
      "Python-2-Copy1.ipynb\n",
      "Python2.ipynb\n",
      "Python第一课作业答案.ipynb\n",
      "matplotlib\n",
      "numpy.ipynb\n",
      "numpy课件.ipynb\n",
      "pandas-2.ipynb\n",
      "python更新版本.ipynb\n",
      "面向对象.ipynb\n"
     ]
    }
   ],
   "source": [
    "%%bash\n",
    "pwd && ls"
   ]
  },
  {
   "cell_type": "markdown",
   "metadata": {},
   "source": [
    "#### Magic开关总览"
   ]
  },
  {
   "cell_type": "code",
   "execution_count": 1,
   "metadata": {
    "ExecuteTime": {
     "end_time": "2020-09-14T12:23:35.286749Z",
     "start_time": "2020-09-14T12:23:35.271878Z"
    }
   },
   "outputs": [
    {
     "data": {
      "application/json": {
       "cell": {
        "!": "OSMagics",
        "HTML": "Other",
        "SVG": "Other",
        "bash": "Other",
        "capture": "ExecutionMagics",
        "debug": "ExecutionMagics",
        "file": "Other",
        "html": "DisplayMagics",
        "javascript": "DisplayMagics",
        "js": "DisplayMagics",
        "latex": "DisplayMagics",
        "markdown": "DisplayMagics",
        "perl": "Other",
        "prun": "ExecutionMagics",
        "pypy": "Other",
        "python": "Other",
        "python2": "Other",
        "python3": "Other",
        "ruby": "Other",
        "script": "ScriptMagics",
        "sh": "Other",
        "svg": "DisplayMagics",
        "sx": "OSMagics",
        "system": "OSMagics",
        "time": "ExecutionMagics",
        "timeit": "ExecutionMagics",
        "writefile": "OSMagics"
       },
       "line": {
        "alias": "OSMagics",
        "alias_magic": "BasicMagics",
        "autoawait": "AsyncMagics",
        "autocall": "AutoMagics",
        "automagic": "AutoMagics",
        "autosave": "KernelMagics",
        "bookmark": "OSMagics",
        "cat": "Other",
        "cd": "OSMagics",
        "clear": "KernelMagics",
        "colors": "BasicMagics",
        "conda": "PackagingMagics",
        "config": "ConfigMagics",
        "connect_info": "KernelMagics",
        "cp": "Other",
        "debug": "ExecutionMagics",
        "dhist": "OSMagics",
        "dirs": "OSMagics",
        "doctest_mode": "BasicMagics",
        "ed": "Other",
        "edit": "KernelMagics",
        "env": "OSMagics",
        "gui": "BasicMagics",
        "hist": "Other",
        "history": "HistoryMagics",
        "killbgscripts": "ScriptMagics",
        "ldir": "Other",
        "less": "KernelMagics",
        "lf": "Other",
        "lk": "Other",
        "ll": "Other",
        "load": "CodeMagics",
        "load_ext": "ExtensionMagics",
        "loadpy": "CodeMagics",
        "logoff": "LoggingMagics",
        "logon": "LoggingMagics",
        "logstart": "LoggingMagics",
        "logstate": "LoggingMagics",
        "logstop": "LoggingMagics",
        "ls": "Other",
        "lsmagic": "BasicMagics",
        "lx": "Other",
        "macro": "ExecutionMagics",
        "magic": "BasicMagics",
        "man": "KernelMagics",
        "matplotlib": "PylabMagics",
        "mkdir": "Other",
        "more": "KernelMagics",
        "mv": "Other",
        "notebook": "BasicMagics",
        "page": "BasicMagics",
        "pastebin": "CodeMagics",
        "pdb": "ExecutionMagics",
        "pdef": "NamespaceMagics",
        "pdoc": "NamespaceMagics",
        "pfile": "NamespaceMagics",
        "pinfo": "NamespaceMagics",
        "pinfo2": "NamespaceMagics",
        "pip": "PackagingMagics",
        "popd": "OSMagics",
        "pprint": "BasicMagics",
        "precision": "BasicMagics",
        "prun": "ExecutionMagics",
        "psearch": "NamespaceMagics",
        "psource": "NamespaceMagics",
        "pushd": "OSMagics",
        "pwd": "OSMagics",
        "pycat": "OSMagics",
        "pylab": "PylabMagics",
        "qtconsole": "KernelMagics",
        "quickref": "BasicMagics",
        "recall": "HistoryMagics",
        "rehashx": "OSMagics",
        "reload_ext": "ExtensionMagics",
        "rep": "Other",
        "rerun": "HistoryMagics",
        "reset": "NamespaceMagics",
        "reset_selective": "NamespaceMagics",
        "rm": "Other",
        "rmdir": "Other",
        "run": "ExecutionMagics",
        "save": "CodeMagics",
        "sc": "OSMagics",
        "set_env": "OSMagics",
        "store": "StoreMagics",
        "sx": "OSMagics",
        "system": "OSMagics",
        "tb": "ExecutionMagics",
        "time": "ExecutionMagics",
        "timeit": "ExecutionMagics",
        "unalias": "OSMagics",
        "unload_ext": "ExtensionMagics",
        "who": "NamespaceMagics",
        "who_ls": "NamespaceMagics",
        "whos": "NamespaceMagics",
        "xdel": "NamespaceMagics",
        "xmode": "BasicMagics"
       }
      },
      "text/plain": [
       "Available line magics:\n",
       "%alias  %alias_magic  %autoawait  %autocall  %automagic  %autosave  %bookmark  %cat  %cd  %clear  %colors  %conda  %config  %connect_info  %cp  %debug  %dhist  %dirs  %doctest_mode  %ed  %edit  %env  %gui  %hist  %history  %killbgscripts  %ldir  %less  %lf  %lk  %ll  %load  %load_ext  %loadpy  %logoff  %logon  %logstart  %logstate  %logstop  %ls  %lsmagic  %lx  %macro  %magic  %man  %matplotlib  %mkdir  %more  %mv  %notebook  %page  %pastebin  %pdb  %pdef  %pdoc  %pfile  %pinfo  %pinfo2  %pip  %popd  %pprint  %precision  %prun  %psearch  %psource  %pushd  %pwd  %pycat  %pylab  %qtconsole  %quickref  %recall  %rehashx  %reload_ext  %rep  %rerun  %reset  %reset_selective  %rm  %rmdir  %run  %save  %sc  %set_env  %store  %sx  %system  %tb  %time  %timeit  %unalias  %unload_ext  %who  %who_ls  %whos  %xdel  %xmode\n",
       "\n",
       "Available cell magics:\n",
       "%%!  %%HTML  %%SVG  %%bash  %%capture  %%debug  %%file  %%html  %%javascript  %%js  %%latex  %%markdown  %%perl  %%prun  %%pypy  %%python  %%python2  %%python3  %%ruby  %%script  %%sh  %%svg  %%sx  %%system  %%time  %%timeit  %%writefile\n",
       "\n",
       "Automagic is ON, % prefix IS NOT needed for line magics."
      ]
     },
     "execution_count": 1,
     "metadata": {},
     "output_type": "execute_result"
    }
   ],
   "source": [
    "#查看magic里面所有的魔法指令\n",
    "%lsmagic"
   ]
  },
  {
   "cell_type": "markdown",
   "metadata": {},
   "source": [
    "##### line magic"
   ]
  },
  {
   "cell_type": "code",
   "execution_count": 2,
   "metadata": {
    "ExecuteTime": {
     "end_time": "2019-11-18T07:34:22.881539Z",
     "start_time": "2019-11-18T07:34:22.868801Z"
    },
    "scrolled": true
   },
   "outputs": [
    {
     "name": "stdout",
     "output_type": "stream",
     "text": [
      "Pretty printing has been turned OFF\n"
     ]
    }
   ],
   "source": [
    "# 格式化输出\n",
    "%pprint"
   ]
  },
  {
   "cell_type": "code",
   "execution_count": 5,
   "metadata": {
    "ExecuteTime": {
     "end_time": "2019-11-18T07:35:04.528644Z",
     "start_time": "2019-11-18T07:35:04.516183Z"
    }
   },
   "outputs": [
    {
     "data": {
      "text/plain": [
       "2"
      ]
     },
     "execution_count": 5,
     "metadata": {},
     "output_type": "execute_result"
    },
    {
     "data": {
      "text/plain": [
       "4"
      ]
     },
     "execution_count": 5,
     "metadata": {},
     "output_type": "execute_result"
    }
   ],
   "source": [
    "#表示一个可以修改内核选项ast_node_interactivity,使得jupyter对独占一行的所有变量都自动显示\n",
    "%config ZMQInteractiveShell.ast_node_interactivity='all'\n",
    "a = 2\n",
    "n = 4\n",
    "a\n",
    "n\n"
   ]
  },
  {
   "cell_type": "markdown",
   "metadata": {},
   "source": [
    "##### cell magic"
   ]
  },
  {
   "cell_type": "markdown",
   "metadata": {},
   "source": [
    "### \t查看代码运行时间\n",
    "- %time 一行\n",
    "- %%time 多行\n",
    "- %%timeit多行的平均时间"
   ]
  },
  {
   "cell_type": "code",
   "execution_count": 6,
   "metadata": {
    "ExecuteTime": {
     "end_time": "2019-11-18T07:35:58.385462Z",
     "start_time": "2019-11-18T07:35:58.377513Z"
    },
    "scrolled": false
   },
   "outputs": [
    {
     "name": "stdout",
     "output_type": "stream",
     "text": [
      "CPU times: user 3 µs, sys: 1 µs, total: 4 µs\n",
      "Wall time: 7.15 µs\n",
      "hello 七月在线\n"
     ]
    }
   ],
   "source": [
    "#查看一行代码运行的时间\n",
    "%time\n",
    "print('hello 七月在线')"
   ]
  },
  {
   "cell_type": "code",
   "execution_count": 7,
   "metadata": {
    "ExecuteTime": {
     "end_time": "2019-11-18T07:36:01.284798Z",
     "start_time": "2019-11-18T07:36:01.277519Z"
    }
   },
   "outputs": [
    {
     "name": "stderr",
     "output_type": "stream",
     "text": [
      "UsageError: Line magic function `%%time` not found.\n"
     ]
    }
   ],
   "source": [
    "#查看多行代码运行的时间\n",
    "%%time\n",
    "for item in range(100):\n",
    "    a=item\n",
    "    del a"
   ]
  },
  {
   "cell_type": "code",
   "execution_count": 8,
   "metadata": {
    "ExecuteTime": {
     "end_time": "2019-11-18T07:37:10.521557Z",
     "start_time": "2019-11-18T07:37:08.835028Z"
    },
    "scrolled": true
   },
   "outputs": [
    {
     "name": "stdout",
     "output_type": "stream",
     "text": [
      "2.07 µs ± 80.8 ns per loop (mean ± std. dev. of 7 runs, 100000 loops each)\n"
     ]
    }
   ],
   "source": [
    "%%timeit\n",
    "for item in range(100):\n",
    "    a=item\n",
    "    del a"
   ]
  },
  {
   "cell_type": "markdown",
   "metadata": {},
   "source": []
  },
  {
   "cell_type": "markdown",
   "metadata": {},
   "source": [
    "### 1. Python简介，解释执行，运行方式\n",
    "\n",
    "#### Python简介\n",
    "<img src='data:image/jpeg;base64,/9j/4AAQSkZJRgABAQIAGwAbAAD/2wBDAAYEBQYFBAYGBQYHBwYIChAKCgkJChQODwwQFxQYGBcUFhYaHSUfGhsjHBYWICwgIyYnKSopGR8tMC0oMCUoKSj/2wBDAQcHBwoIChMKChMoGhYaKCgoKCgoKCgoKCgoKCgoKCgoKCgoKCgoKCgoKCgoKCgoKCgoKCgoKCgoKCgoKCgoKCj/wAARCAKFBc8DASIAAhEBAxEB/8QAHAABAAMBAQEBAQAAAAAAAAAAAAYHCAUEAwIB/8QAWhABAAEDAQMDCw4KBwYFBQEAAAECAwQFBgcREiExCBM2QVFhcXSBsrMUFhciNTdVdYORobHR0iMyQlJUYoKjpMEVU3JzkpTCM0Nmk6LjJEaEw/AlNERj4dP/xAAbAQEAAgMBAQAAAAAAAAAAAAAABAUCAwYBB//EADQRAQACAAMEBwgCAgMBAAAAAAABAgMEEQUUUXESFSExMkHREyIzNFJyocFhgSORQrHw8f/aAAwDAQACEQMRAD8A1SAAAAAAAAAAAAAAAAAAAAAAAAAAAAAAAAAAAAAAAAAAAAAAAAAAAAAAAAAAAAAAAAAAAAAAAAAAAAAAAAAAAAAAAAAAAAAAAAAAAAAAAAAAAAAAAAAAAAAAAAAAAAAAAAAAAAAAAAAAAAAAAAAAAAAAAAAAAAAAAAAAAAAAAAAAAAAAAAAAAAAAAAAAAAAAAAAAAAAAAAAAAAAAAAAAAAAAAAAAAAAAAAAAAAAAAAAAAAAAAAAAAAAAAAAAAAAAAAAAAAAAAAAAAAAAAAAAAAAAAAAAAAAAAAAAAAAAAAAAAAAAAAAAAAAAAAAAAAAAAAAAAAAAAAAAAAAAAAAAAAAAAAAAAAAAAAAAAAAAAAAAAAAAAAAAAAAAAAAAAAAAAAAAAAAAAAAAAAAAAAAAAAAAAAAAAAAAAAAAAAAAAAAAAAAAAAAAAAAAAAAAAAAAAAAAAAAAAAAAAAAAAAAAAAAAAAAAAAAAAAAAAAAAAAAAAAAAAAAAAAAAAAAAAAAAAAAAAAAAAAAAAAAAAAAAAAAAAAAAAAAAAAAAAAAAAAAAAAAAAAAAAAAAAAAAAAAAAAAAAAAAAAAAAAAAAAAAAAAAAAAAAAAAAAAAAAAAAAAAAAAAAAAAAAAAAAAAAAAAAAAAAAAAAAAAAAAAAAAAAAAAAAAAAAAAAAAAAAAAAAAAAAAAAAAAAAAAAAAAAAAAAAAAAAAAAAAAAAAAAAAAAAAAAAAAAAAAAAAAAAAAAAAAAAAAAAAAAAAAAAAAAAAAAAAAAAAAAAAAAAAAAAAAAAAAAAAAAAAAAAAAAAAAAAAAAAAAAAAAAAAAAAAAAAAAAAAAAAAAAAAAAAAAAAAAAAAAAAAAAAAAAAAAAAAAAAAAAAAAAAAAAAAAAAAAAAAAAAAAAAAAAAAAAAAAAAAAAAAAAAAAAAAAAAAAAAAAAAAAAAAAAAAAAAAAAAAAAAAAAAAAAAAAAAAAAAAAAAAAAAAAAAAAAAAAAAAAAAAAAAAAAAAAAAAAAAAAAAAAAAAAAAAAAAAAAAAAAAAAAAAAAAAAAAAAAAAAAAAAAAAAAAAAAAAAAAAAAAAAAAAAAAAAAAAAAAAAAAAAAAAAAAAAAAAAAAAAAAAAAAAAAAAAAAAAAAAAAAAAAAAAAAAAAAAAAAAAAAAAAAAAAAAAAAAAAAAAAAAAAAAAAAAAAAAAAAAAAAAAAAAAAAAAAAAAAAAAAAAAAAAAAAAAAAAAAAAAAAAAAAAAAAAAAAAAAAAAAAAAAAAAAAAAAAAAAAAAAAAAAAAAAAAAAAAAAAAAAAAAAAAAAAAAAAAAAAAAAAAAAAAAAAAAAAAAAAAAAAAAAAAAAAAAAAAAAAAAAAAAAAAAAAAAAAAAAAAAAAAAAAAAAAAAAAAAAAAAAAAAAAAAAAAAAAAAAAAAAAAAAAAAAAAAAAAAAAAAAAAAAAAAAAAAAAAAAAAAAAAAAAAAAAAAAAAAAAAAAAAAAAAAAAAAAAAAAAAAAAAAAAAAAAAAAAAAAAAAAAAAAAAAAAAAAAAAAAAAAAAAAAAAAAAAAAAAAAAAAAAAAAAAAAAAAAAAAAAAAAAAAAAAAAAAAAAAAAAAAAAAAAAAAAAAAAAAAAAAAAAAAAAAAAAAAAAAAAAAAAAAAAAAAAAAAAAAAAAAAAAAAAAAAAAAAAAAAAAAAAAAAAAAAAAAAAAAAAAAAAAAAAAAAAORtRtHpuzOnTmarfi3TPGKLdPPXcnuUx2/qjtqF2v3q63rVddnTq6tMwZ5ops1fhKo/Wr6Y8EcPK24eDbE7mrExa072gNV1zStJj/6nqOJizw4xTdu001T4I6ZR67vN2QtV8mrWaJn9Wxdqj54pZfuV1XK6q7lVVddU8ZqqnjMy/KTGVr5yjzmreUNP+ylsd8Mfwt77h7KWx3wx/C3vuMwD3dacZeb1fhDT/spbHfDH8Le+4eylsd8Mfwt77jMAbrTjJvV+ENP+ylsd8Mfwt77h7KWx3wx/C3vuMwButOMm9X4Q0/7KWx3wx/C3vuHspbHfDH8Le+4zAG604yb1fhDT/spbHfDH8Le+4eylsd8Mfwt77jMAbrTjJvV+ENXYO3uy2dVFNjW8SJnoi7VNrz4hJLV23et03LNdNy3VHGmqmeMTHeli11tB2i1bQb3XNJz7+Nz8Zopq40VeGmeafLDG2Vj/jLKua+qGvhV2wW9jE1i5bwdfpt4OdVPJovUzwtXJ8v4s+Hm7/aWiiXpNJ0lKreLxrAAxZAAAAAAAAAAAAAAAAAAAAAAAAAAAAAAAAAAAAAAAAAAAAAAAAAAAAAAAAAAAAAAAAAAAAAAAAAAAAAAAAAAAAAAAAAAAAAAAAAAAAAAAAAAAAAAAAAAAAAAAAAAAAAAAAAAAAAAAAAAAAAAAAAAAAAAAAAAAAAAAAAAAADj7W7QYmzOiXtRzp400e1t24n21yueimP/AJzREy7DNm+jaWrXNqbmHYrmcHTpmzREdFVz8ur544eCO+24OH7S2jVi4nQrqim0+v5+0mrXc/UrvLuVc1NEfi26e1TTHahyR0NB0fN13VLOBplmbuRcnyUx26qp7UR3Vl2VhXdtpc8aD2e3N6NiWKKtavXs/JmPbU0Vzbtx3o4e2nw8fJD36nui2Xy7NVOJYyMG5w5q7V6qrn78VzLROZpro3xlr6as2iU7d7F6hshm00ZXC/h3ZnrOTRHCmrvTHaq73zcUWb4mLRrDRMTWdJAHrwAAAAAAAAXZua3gXLt2zs/rd2a6qva4mRXPP3rdU/VPk7ik36orqt10126pprpnjTVTPCYnuwwxKReNJZ0vNJ1htIRjdvtH659lMXMuVROXb/A5Ef8A7KeHGfLExPlSdV2iazpKziYtGsADx6AAAAAAAAAAAAAAAAAAAAAAAAAAAAAAAAAAAAAAAAAAAAAAAAAAAAAAAAAAAAAAP5crpt0VV3KqaaKY4zVVPCIh/WTdrdZ1LU9XzKdQzsjIoov100UV1zNNMRVPRT0QDQWt7yNmNJ4016hTlXY/3eJHXZ+ePa/Sh+Nvev6rtFpmn6bptuxj5OXas13L9c11zTVXETwiOERPCe7KkXZ2J7M9B+MMf0lINagAAAAAAAAAAAAAAAAAAAAAAAAAAAAAAAAAAAAAAAAAAAAAAAAAAAAAAAAAAAAAAAAAAAAAAAAAAAAAAAAAAAAAAAAAAAAAAA5u0uo/0Ts9qWocY442PXcp49uqInhHz8GP66qq66q65mqqqeMzPTMtQb4blVrdxrNVPTNNunyTdoifrZdTsrHuzKFmp96IGg9wOi2sTZm9q1VETk5tyqmmuY6LdE8OEftRVx8EdxnxpLcXn28vYKxjU1R1zDvXLVdPb9tVNcT/ANX0MszM9DsY5aI6fasIBXp7h7b6La2g2X1DAu0RVXVbmqzPDnpuRHGmY8v0TLI7Y+t59vStHzc+9VEW8azVdnj3o48PL0McJuUmdJQs1EawAJaKAAAAAAAAAAtvqedUqs65qOmVVfg8ixF6mJ/OonhzeGKp+ZfLMe5W5VRvH0umnouU3qavB1qqfriGnFfmY0un5adaACOkAAAAAAAAAAAAAAAAAAAAAAAAAAAAAAAAAAAAAAAAAAAAAAAAAAAAAAAAAAAAAADH2t+7Wf4xc86WwWPtb92s/wAYuedIPE7OxPZnoPxhj+kpcZ2diezPQfjDH9JSDWoAAAAAAAAAAAAAAAAAAAAAAAAAAAAAAAAAAAAAAAAAAAAAAAAAAAAAAAAAAAAAAAAAAAAAAAAAAAAAAAAAAAAAAAAAAAAAAAIVvm97bWPkfTUMwNP75ve21j5H01DMCflfBPNBzXjjkJTu+2vydkNY9UW6ZvYd6IoyLHHhyqe1MfrRz8PDMdtFhImItGko8TNZ1hrfZ7azRNoLFFzTc+zXXVHPZrqim5TPcmmef+Toanq2n6VZqu6lm4+LbiOPG7cinj4OPSxwIs5SNe9JjNTp3LO3r7xadoqP6K0bl06XTVFVy7VE0zfmJ5ubtU9vn55nh0cFYgk0pFI0hHvebzrIAyYgAAAAAAAAAJruZ98nR/lvQ1tPswbmffJ0f5b0NbT6BmvHHJOyvgnmAIySAAAAAAAAAAAAAAAAAAAAAAAAAAAAAAAAAAAAAAAAAAAAAAAAAAAAA5W1Wt2tndAy9VyLVd63jxTxoo4cZmqqKY6e/VAOq82oahh6bjzf1DKs41mPy7tcUx9Kg9f3v67n8qjTLdnTbU9uiOuXOH9qqOHzRCv8/Py9RyJv5+Vfyb0/l3q5rn55BqXZ7a/SNodRycPSL1eRVj0RXXciiaaOeeHCJnnn5uCQKL6nj3Z1fxejzl6AAAAAMfa37tZ/jFzzpbBY+1v3az/GLnnSDxOzsT2Z6D8YY/pKXGdnYnsz0H4wx/SUg1qAAAAAAAAAAAAAAAAAAAAAAAAAAAAAAAAAAAAAAAAAAAAAAAAAAAAAAAAAAAAAAAAAAAAAAAAAAAAAAAAAAAAAAAAAAAAAAACFb5ve21j5H01DMDXW2eheuXZrM0n1R6m9Ucj8LyOXyeTXTV0cY4/i8Ontqv8AYM/4i/gf+4l5fFrSulpRMfCte2tYUqLq9gz/AIi/gf8AuHsGf8RfwP8A3G/eMPi0+wxOClRdXsGf8RfwP/cPYM/4i/gf+4bxh8T2GJwUqLq9gz/iL+B/7h7Bn/EX8D/3DeMPiewxOClRdXsGf8RfwP8A3D2DP+Iv4H/uG8YfE9hicFKi0Ns91Pra2azNW/pn1T6n5H4L1LyOVyq6aenlzw/G49HaVe2UvF41q12pNJ0sAMmIAAAAACa7mffJ0f5b0NbT7MG5n3ydH+W9DW0+gZrxxyTsr4J5gCMkgAAAAAAAAAAAAAAAAAAAAAAAAAAAAAAAAAA\n",
    "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'>\n",
    "\n",
    "#### python应用场景\n",
    "- web应用开发\n",
    "- 服务器运维\n",
    "- 科学计算\n",
    "\n",
    "#### Python源码目录结构\n",
    "- /Library/Frameworks/Python.framework/Versions/3.6\n",
    " - Include： 这个目录包括了 Python 的所有头文件。\n",
    " - Lib：这里是 Python 标准库，都是用 Python 实现的。\n",
    " - Modules：用 C 语言编写的模块，比如 cStringIO / tkinter 高性能实现\n",
    " - Objects：Python 内建对象，如 int / list 的实现\n",
    " - Parser：Python 解释器的 Scanner 和 Parser\n",
    " - Python：Python 解释器的 Compiler 和执行引擎，运行核心\n",
    " \n",
    "\n",
    " \n",
    "### Python解释与运行\n",
    "\n",
    "\n",
    "Python解释器interpreter\n",
    "\n",
    ">运行在系统线程上的C语言函数+超大循环。每个字节码指令均对应一个完全由C实现的逻辑。"
   ]
  },
  {
   "cell_type": "code",
   "execution_count": null,
   "metadata": {},
   "outputs": [],
   "source": [
    "'''\n",
    "python :   .py  --->编译器---》.pyc--->解释器---》返回结果\n",
    "'''"
   ]
  },
  {
   "cell_type": "markdown",
   "metadata": {},
   "source": [
    "## 基础语法"
   ]
  },
  {
   "cell_type": "markdown",
   "metadata": {},
   "source": [
    "### 注释"
   ]
  },
  {
   "cell_type": "markdown",
   "metadata": {},
   "source": [
    "#### 概述\n",
    "注释在程序中毫无用处，既不解释也不输出。方便后期的阅读"
   ]
  },
  {
   "cell_type": "code",
   "execution_count": 4,
   "metadata": {},
   "outputs": [
    {
     "name": "stdout",
     "output_type": "stream",
     "text": [
      "hello world\n"
     ]
    }
   ],
   "source": [
    "#可以在里写一些功能说明之类的哦\n",
    "print('hello world')\n",
    "'''\n",
    "多行注释\n",
    "'''\n",
    "\"\"\"\n",
    "多行注释\n",
    "\"\"\""
   ]
  },
  {
   "cell_type": "markdown",
   "metadata": {},
   "source": [
    "### 标识符\n",
    "#### 定义\n",
    "开发人员在程序中自定义的一些符号和名称\n",
    "标示符是自己定义的,如变量名 、函数名等\n",
    "#### 规则\n",
    "- 固定规则\n",
    "\n",
    "标示符由字母、下划线和数字组成，且数字不能开头\n",
    "\n",
    "思考：下面的标示符哪些是正确的，哪些不正确为什么\n",
    "fromNo12，from#12，my_Boolean，my-Boolean，Obj2，2ndObj\n",
    "myInt，test1，Mike2jack，My_tExt，_test，test!32，haha(da)tt\n",
    "int，jack_rose，jack&rose，GUI，G.U.I\n",
    "\n",
    "注意：\n",
    "python中的标识符是区分大小写的\n",
    "\n",
    "- 行业内规则\n",
    "\n",
    "1.见名知意\n",
    "\n",
    "    起一个有意义的名字，尽量做到看一眼就知道是什么意思(提高代码可 读性) 比如: 名字 就定义为 name , 定义学生 用 student\n",
    "    \n",
    "2.驼峰命名法\n",
    "\n",
    "       2.1 小驼峰式命名法（lower camel case）： 第一个单词以小写字母开始；第二个单词的首字母大写，例如：myName、aDog\n",
    "   \n",
    "       2.2 大驼峰式命名法（upper camel case）： 每一个单字的首字母都采用大写字母，例如：FirstName、LastName\n",
    "   \n",
    "3.下划线连接法\n",
    "\n",
    "   不过在程序员中还有一种命名法比较流行，就是用下划线“_”来连接所有的单词，比如send_buf"
   ]
  },
  {
   "cell_type": "code",
   "execution_count": null,
   "metadata": {},
   "outputs": [],
   "source": [
    "name = 'zhangsan'\n",
    "my_name = ''"
   ]
  },
  {
   "cell_type": "markdown",
   "metadata": {},
   "source": [
    "#### 好的命名习惯让开发更有效率"
   ]
  },
  {
   "cell_type": "markdown",
   "metadata": {},
   "source": [
    "- 变量，函数或方法:salary,houseworker,booksname\n",
    "- 常量：INTEREST_RATES\n",
    "- 类：BankAccount,Employee,Company,OrderedDict #骆峰命名法\n"
   ]
  },
  {
   "cell_type": "markdown",
   "metadata": {},
   "source": [
    "### 关键字\n",
    "\n",
    "#### 定义：\n",
    "    python一些具有特殊功能的标示符，这就是所谓的关键字\n",
    "    \n",
    "关键字，是python已经使用的了，所以不允许开发者自己定义和关键字相同的名字的标示符\n",
    "\n",
    "#### 如何查看关键字？"
   ]
  },
  {
   "cell_type": "code",
   "execution_count": 2,
   "metadata": {
    "ExecuteTime": {
     "end_time": "2020-09-14T12:39:59.845733Z",
     "start_time": "2020-09-14T12:39:59.835850Z"
    }
   },
   "outputs": [
    {
     "name": "stdout",
     "output_type": "stream",
     "text": [
      "['False', 'None', 'True', 'and', 'as', 'assert', 'async', 'await', 'break', 'class', 'continue', 'def', 'del', 'elif', 'else', 'except', 'finally', 'for', 'from', 'global', 'if', 'import', 'in', 'is', 'lambda', 'nonlocal', 'not', 'or', 'pass', 'raise', 'return', 'try', 'while', 'with', 'yield']\n"
     ]
    }
   ],
   "source": [
    "import keyword\n",
    "print(keyword.kwlist)"
   ]
  },
  {
   "cell_type": "markdown",
   "metadata": {},
   "source": [
    "### 运算符"
   ]
  },
  {
   "cell_type": "markdown",
   "metadata": {},
   "source": [
    "#### 算术运算符\n",
    "\n",
    "下面以a=10 ,b=20为例进行计算\n",
    "\n",
    "运算符 \t描述 \t  实例\n",
    "\n",
    "\\+ \t加 \t两个对象相加 a + b 输出结果 30\n",
    "\n",
    "\\- \t减 \t得到负数或是一个数减去另一个数 a - b 输出结果 -10\n",
    "\n",
    "\\* \t乘 \t两个数相乘或是返回一个被重复若干次的字符串 a * b 输出结果 200\n",
    "\n",
    "/ \t除 \tx除以y b / a 输出结果 2\n",
    "\n",
    "// \t取整除 \t返回商的整数部分 9//2 输出结果 4 , 9.0//2.0 输出结果 4.0\n",
    "\n",
    "% \t取余 \t返回除法的余数 b % a 输出结果 0\n",
    "\n",
    "** \t幂 \t返回x的y次幂 a**b 为10的20次方， 输出结果 100000000000000000000\n",
    "\n",
    "例如：\n",
    "\n",
    "9/2.0---》4.5\n",
    "\n",
    "9//2.0--->4.0"
   ]
  },
  {
   "cell_type": "markdown",
   "metadata": {},
   "source": [
    "#### 赋值运算符\n",
    "\n",
    "运算符   描述   实例\n",
    "\n",
    "=  赋值运算符  把=号右边的结果给左边的变量 num=1+2*3 结果num的值为7 \n",
    "\n",
    "赋值运算表达式\n",
    "\n",
    "格式：变量 = 表达式\n",
    "\n",
    "功能：计算了等号右侧“表达式”的值，并赋值给等号左侧的变量\n",
    "\n",
    "值：赋值结束后变量的\n",
    "\n",
    "num3 = 10\n",
    "\n",
    "num4 = num3 + 20"
   ]
  },
  {
   "cell_type": "markdown",
   "metadata": {},
   "source": [
    "#### 复合运算符\n",
    "\n",
    "+= 加法赋值运算符 c += a 等效于 c = c + a \n",
    "\n",
    "-= 减法赋值运算符 c -= a 等效于 c = c - a \n",
    "\n",
    "*= 乘法赋值运算符 c *= a 等效于 c = c * a \n",
    "\n",
    "/= 除法赋值运算符 c /= a 等效于 c = c / a \n",
    "\n",
    "%= 取模赋值运算符 c %= a 等效于 c = c % a \n",
    "\n",
    "**= 幂赋值运算符 c **= a 等效于 c = c ** a \n",
    "\n",
    "//= 取整除赋值运算符 c //= a 等效于 c = c // a "
   ]
  },
  {
   "cell_type": "markdown",
   "metadata": {},
   "source": [
    "#### 比较运算符\n",
    "\n",
    "运算符   描述     示例\n",
    "\n",
    "==   检查两个操作数的值是否相等，如果是则条件变为真。 如a=3,b=3则（a == b) 为 true. \n",
    "\n",
    "!=   检查两个操作数的值是否相等，如果值不相等，则条件变为真。 如a=1,b=3则(a != b) 为 true. \n",
    "\n",
    "\\>    检查左操作数的值是否大于右操作数的值，如果是，则条件成立。 如a=7,b=3则(a > b) 为 true. \n",
    "\n",
    "<    检查左操作数的值是否小于右操作数的值，如果是，则条件成立。 如a=7,b=3则(a < b) 为 false. \n",
    "\n",
    "\\>=   检查左操作数的值是否大于或等于右操作数的值，如果是，则条件成立。 如a=3,b=3则(a >= b) 为 true. \n",
    "\n",
    "<=   检查左操作数的值是否小于或等于右操作数的值，如果是，则条件成立。 如a=3,b=3则(a <= b) 为 true. "
   ]
  },
  {
   "cell_type": "markdown",
   "metadata": {},
   "source": [
    "#### 逻辑运算符\n",
    "\n",
    "运算符   逻辑表达式    描述     实例\n",
    "\n",
    "- 1.and    x and y 布尔\"与\" - 如果 x 为 False，x and y 返回 False，否则它返回 y 的计算值。 (a and b) 返回 20。\n",
    "\n",
    "    例如：\n",
    "    \n",
    "    a = 1\n",
    "    \n",
    "    b = 3\n",
    "    \n",
    "    c = a>b\n",
    "    \n",
    "    print(c and b)----》False\n",
    "    \n",
    "- 2.or    x or y 布尔\"或\" - 如果 x 是 True，它返回 True，否则它返回 y 的计算值。 (a or b) 返回 10。 \n",
    "\n",
    "- 3.not   not x 布尔\"非\" - 如果 x 为 True，返回 False 。如果 x 为 False，它返回 True。 not(a and b) 返回 False \n",
    "\n",
    "例如：\n",
    "\n",
    "a = 10\n",
    "\n",
    "b = 20\n",
    "\n",
    "print(not x)"
   ]
  },
  {
   "cell_type": "markdown",
   "metadata": {},
   "source": [
    "#### 位运算符\n",
    "\n",
    "概述：\n",
    "\n",
    " 按位运算符是把数字看作二进制来进行计算的。\n",
    " \n",
    " Python中的按位运算法则如下：\n",
    " \n",
    " 下表中变量 a 为 60，b 为 13，二进制格式如下：\n",
    " \n",
    " 60二进制--》0011 1100\n",
    " \n",
    " 13二进制--》0000 1101\n",
    " \n",
    " 运算符\t   描述\t           实例\n",
    " \n",
    "&\t按位与运算符：参与运算的两个值,如果两个相应位都为1,则该位的结果为1,否则为0\t(a & b) 输出结果 12 ，二进制解释： 0000 1100\n",
    "\n",
    "|\t按位或运算符：只要对应的二个二进位有一个为1时，结果位就为1。\t(a | b) 输出结果 61 ，二进制解释： 0011 1101\n",
    "\n",
    "^\t按位异或运算符：当两对应的二进位相异时，结果为1 \t(a ^ b) 输出结果 49 ，二进制解释： 0011 0001\n",
    "\n",
    "~\t按位取反运算符：对数据的每个二进制位取反,即把1变为0,把0变为1 。~x 类似于 -x-1\t(~a ) 输出结果 -61 ，二进制解释： 1100 0011，在一个有符号二进制数的补码形式。\n",
    "\n",
    "<<\t左移动运算符：运算数的各二进位全部左移若干位，由 << 右边的数字指定了移动的位数，高位丢弃，低位补0。\ta << 2 输出结果 240 ，二进制解释： 1111 0000\n",
    "\n",
    "\\>>\t右移动运算符：把\">>\"左边的运算数的各二进位全部右移若干位，>> 右边的数字指定了移动的位数 \ta >> 2 输出结果 15 ，二进制解释： 0000 1111"
   ]
  },
  {
   "cell_type": "markdown",
   "metadata": {},
   "source": [
    "#### 运算符优先级\n",
    "```\n",
    "第一名 - 函数调用、寻址、下标\n",
    "第二名 - 幂运算 **\n",
    "第三名 - 翻转运算符 ~\n",
    "第四名 - 正负号\n",
    "第五名 - *、/、%\n",
    "第六名 - +、-\n",
    "```"
   ]
  },
  {
   "cell_type": "markdown",
   "metadata": {},
   "source": [
    "### 控制语句"
   ]
  },
  {
   "cell_type": "markdown",
   "metadata": {},
   "source": [
    "#### if条件控制语句\n",
    "生活中的场景：\n",
    "\n",
    "   例如火车站、地铁等需要安检，如果没有携带违禁物品则放行，反之。。。\n",
    "   \n",
    "开发中的场景：\n",
    "\n",
    "   密码的判断---用户登录某个应用时\n",
    "   \n",
    " 总结：\n",
    "    \n",
    "    如果某些条件满足，才能做某件事情，而不满足时不允许做，这就是所谓的判断\n",
    "    \n",
    "    不仅生活中有，在软件开发中“判断”功能也经常会用到"
   ]
  },
  {
   "cell_type": "markdown",
   "metadata": {},
   "source": [
    "##### if语句的格式\n",
    "\n",
    "if语句是用来进行判断的，其使用格式如下：\n",
    "\n",
    "- if 基本格式\n",
    "\n",
    "    if 要判断的条件:\n",
    "        条件成立时，要做的事情\n",
    "        \n",
    "        \n",
    "- if ...  else  当条件不成立时\n",
    "\n",
    "   if 条件:\n",
    "   \n",
    "        满足条件时要做的事情1\n",
    "      \n",
    "    else:\n",
    "    \n",
    "        不满足条件时要做的事情1\n",
    "      \n",
    "\n",
    "- if ... elif   当有多个条件时\n",
    "\n",
    "  elif的使用格式如下:\n",
    "  \n",
    "    if xxx1:\n",
    "    \n",
    "        事情1\n",
    "        \n",
    "    elif xxx2:\n",
    "    \n",
    "        事情2\n",
    "        \n",
    "    elif xxx3:\n",
    "    \n",
    "        事情3\n",
    "\n",
    "\n",
    "- if  ...  elif  ...else   当有多个条件并有可能不成立时\n",
    "\n",
    "   if 性别为男性:\n",
    "   \n",
    "       输出男性的特征\n",
    "       \n",
    "   elif 性别为女性:\n",
    "   \n",
    "       输出女性的特征\n",
    "       \n",
    "   else:\n",
    "   \n",
    "       第三种性别的特征\n",
    "\n",
    "\n",
    "- if 语句的嵌套\n",
    "    \n",
    "    在一个if语句中可以嵌入多个if相关的语句·"
   ]
  },
  {
   "cell_type": "code",
   "execution_count": 13,
   "metadata": {},
   "outputs": [
    {
     "name": "stdout",
     "output_type": "stream",
     "text": [
      "可以领证\n"
     ]
    }
   ],
   "source": [
    "#if\n",
    "age = 25\n",
    "if age >= 25:\n",
    "    print('可以领证')"
   ]
  },
  {
   "cell_type": "code",
   "execution_count": 4,
   "metadata": {
    "ExecuteTime": {
     "end_time": "2019-08-12T09:47:02.874249Z",
     "start_time": "2019-08-12T09:47:02.868114Z"
    }
   },
   "outputs": [
    {
     "name": "stdout",
     "output_type": "stream",
     "text": [
      "有车票，可以上火车\n",
      "终于可以见到Ta了，美滋滋~~~\n"
     ]
    }
   ],
   "source": [
    "#if...else\n",
    "chePiao = 1 # 用1代表有车票，0代表没有车票\n",
    "if chePiao == 1:\n",
    "    print(\"有车票，可以上火车\")\n",
    "    print(\"终于可以见到Ta了，美滋滋~~~\")\n",
    "else:\n",
    "    print(\"没有车票，不能上车\")\n",
    "    print(\"亲爱的，那就下次见了，一票难求啊~~~~(>_<)~~~~\")"
   ]
  },
  {
   "cell_type": "code",
   "execution_count": 5,
   "metadata": {
    "ExecuteTime": {
     "end_time": "2019-08-12T09:55:10.527156Z",
     "start_time": "2019-08-12T09:54:56.248579Z"
    },
    "collapsed": true
   },
   "outputs": [
    {
     "name": "stdout",
     "output_type": "stream",
     "text": [
      "请输入你的性别:女\n",
      "你是女性,可以留长头发....\n"
     ]
    }
   ],
   "source": [
    "#if...elif...else\n",
    "sex = input(\"请输入你的性别:\")\n",
    "if sex == \"男\":\n",
    "    print(\"你是男性,可以留胡子....\")\n",
    "elif sex == \"女\":\n",
    "    print(\"你是女性,可以留长头发....\")\n",
    "#elif sex == \"中性\":\n",
    "else:\n",
    "    print(\"你是第3中 性别,想干啥就干啥.....\")   "
   ]
  },
  {
   "cell_type": "code",
   "execution_count": 7,
   "metadata": {
    "ExecuteTime": {
     "end_time": "2019-08-12T10:05:08.294579Z",
     "start_time": "2019-08-12T10:05:08.290403Z"
    },
    "collapsed": true
   },
   "outputs": [
    {
     "data": {
      "text/plain": [
       "'\\nif xx:\\n    事情1\\n    if XXX:\\n        事情2\\n'"
      ]
     },
     "execution_count": 7,
     "metadata": {},
     "output_type": "execute_result"
    }
   ],
   "source": [
    "#注意：if语句嵌套\n",
    "\"\"\"\n",
    "if xx:\n",
    "    事情1\n",
    "    if XXX:\n",
    "        事情2\n",
    "\"\"\"\n",
    "#比如进火车站，先检票和身份证，在安检，是否有违禁物品，两个条件都成立的话，"
   ]
  },
  {
   "cell_type": "code",
   "execution_count": null,
   "metadata": {},
   "outputs": [],
   "source": []
  },
  {
   "cell_type": "markdown",
   "metadata": {},
   "source": [
    "#### 循环控制语句"
   ]
  },
  {
   "cell_type": "markdown",
   "metadata": {},
   "source": [
    "##### while 循环语句格式\n",
    "\n",
    "   while 条件:\n",
    "   \n",
    "        条件满足时，做的事情1\n",
    "        \n",
    "        条件满足时，做的事情2\n",
    "        \n",
    "        条件满足时，做的事情3\n",
    "        \n",
    "        ...(省略)..."
   ]
  },
  {
   "cell_type": "code",
   "execution_count": 15,
   "metadata": {},
   "outputs": [
    {
     "name": "stdout",
     "output_type": "stream",
     "text": [
      "5050\n"
     ]
    }
   ],
   "source": [
    "#1~100之间的求和计算\n",
    "i = 1\n",
    "sum = 0\n",
    "while i <=100:\n",
    "    sum = sum +i\n",
    "    i += 1\n",
    "print(sum)"
   ]
  },
  {
   "cell_type": "markdown",
   "metadata": {},
   "source": [
    "##### for循环"
   ]
  },
  {
   "cell_type": "markdown",
   "metadata": {},
   "source": [
    "###### for循环格式\n",
    "\n",
    " for 临时变量 in 列表或者字符串等:\n",
    " \n",
    "      循环满足条件时执行的代码\n",
    "      \n",
    " else:\n",
    " \n",
    "      循环不满足条件时执行的代码"
   ]
  },
  {
   "cell_type": "code",
   "execution_count": 16,
   "metadata": {
    "collapsed": true
   },
   "outputs": [
    {
     "name": "stdout",
     "output_type": "stream",
     "text": [
      "j\n",
      "u\n",
      "l\n",
      "y\n",
      "e\n",
      "d\n",
      "u\n",
      ".\n",
      "c\n",
      "o\n",
      "m\n"
     ]
    }
   ],
   "source": [
    "name = 'julyedu.com'\n",
    "for x in name:\n",
    "    print(x)"
   ]
  },
  {
   "cell_type": "code",
   "execution_count": null,
   "metadata": {},
   "outputs": [],
   "source": [
    "#循环的嵌套\n",
    "\"\"\"\n",
    "前面学习过if的嵌套了，想一想if嵌套是什么样子的？\n",
    "\n",
    "类似if的嵌套，while嵌套就是：while里面还有while\n",
    "\"\"\""
   ]
  },
  {
   "cell_type": "code",
   "execution_count": 5,
   "metadata": {
    "ExecuteTime": {
     "end_time": "2020-04-23T09:12:20.391596Z",
     "start_time": "2020-04-23T09:12:20.379428Z"
    }
   },
   "outputs": [
    {
     "name": "stdout",
     "output_type": "stream",
     "text": [
      "1*1=1      \n",
      "\n",
      "1*2=2      2*2=4      \n",
      "\n",
      "1*3=3      2*3=6      3*3=9      \n",
      "\n",
      "1*4=4      2*4=8      3*4=12     4*4=16     \n",
      "\n",
      "1*5=5      2*5=10     3*5=15     4*5=20     5*5=25     \n",
      "\n",
      "1*6=6      2*6=12     3*6=18     4*6=24     5*6=30     6*6=36     \n",
      "\n",
      "1*7=7      2*7=14     3*7=21     4*7=28     5*7=35     6*7=42     7*7=49     \n",
      "\n",
      "1*8=8      2*8=16     3*8=24     4*8=32     5*8=40     6*8=48     7*8=56     8*8=64     \n",
      "\n",
      "1*9=9      2*9=18     3*9=27     4*9=36     5*9=45     6*9=54     7*9=63     8*9=72     9*9=81     \n",
      "\n"
     ]
    }
   ],
   "source": [
    "#案例3：打印99乘法表\n",
    "i = 1\n",
    "while i <= 9:\n",
    "    j = 1\n",
    "    while j <= i:\n",
    "        print(\"%d*%d=%-6d \" % (j, i, i * j), end='')\n",
    "        \n",
    "        j += 1\n",
    "    print('\\n')\n",
    "    i += 1  "
   ]
  },
  {
   "cell_type": "markdown",
   "metadata": {},
   "source": [
    "###### break\n",
    "\n",
    " break的作用：用来结束整个循环"
   ]
  },
  {
   "cell_type": "code",
   "execution_count": 4,
   "metadata": {
    "ExecuteTime": {
     "end_time": "2020-09-14T13:02:55.698465Z",
     "start_time": "2020-09-14T13:02:55.692829Z"
    }
   },
   "outputs": [
    {
     "name": "stdout",
     "output_type": "stream",
     "text": [
      "j\n",
      "u\n",
      "l\n",
      "y\n",
      "e\n"
     ]
    }
   ],
   "source": [
    "name = 'julyedu.com'\n",
    "for x in name:\n",
    "    if x == 'd':\n",
    "        break\n",
    "    print(x)"
   ]
  },
  {
   "cell_type": "markdown",
   "metadata": {},
   "source": [
    "###### continue\n",
    "\n",
    "用来结束本次循环，紧接着执行下一次的循环"
   ]
  },
  {
   "cell_type": "code",
   "execution_count": 5,
   "metadata": {
    "ExecuteTime": {
     "end_time": "2020-09-14T13:03:22.291707Z",
     "start_time": "2020-09-14T13:03:22.285191Z"
    }
   },
   "outputs": [
    {
     "name": "stdout",
     "output_type": "stream",
     "text": [
      "j\n",
      "u\n",
      "l\n",
      "y\n",
      "e\n",
      "u\n",
      ".\n",
      "c\n",
      "o\n",
      "m\n"
     ]
    }
   ],
   "source": [
    "name = 'julyedu.com'\n",
    "for x in name:\n",
    "    if x == 'd':\n",
    "        continue\n",
    "    print(x)"
   ]
  },
  {
   "cell_type": "markdown",
   "metadata": {},
   "source": [
    "###### 注意事项\n",
    "\n",
    "> break/continue只能用在循环中，除此以外不能单独使用\n",
    "\n",
    "> break/continue在嵌套循环中，只对最近的一层循环起作用\n",
    "\n",
    "> 防止死循环的产生"
   ]
  },
  {
   "cell_type": "markdown",
   "metadata": {},
   "source": [
    "### 数据结构\n",
    "\n",
    "- number\n",
    "- string\n",
    "- list\n",
    "- dictionary\n",
    "- tuple\n",
    "- set"
   ]
  },
  {
   "cell_type": "markdown",
   "metadata": {},
   "source": [
    "#### number\n",
    "\n",
    "- int\n",
    "- float\n",
    "- bool\n",
    "- complex（复数）\n",
    "\n",
    "Python3 支持 int、float、bool、complex（复数）。\n"
   ]
  },
  {
   "cell_type": "code",
   "execution_count": 19,
   "metadata": {},
   "outputs": [
    {
     "name": "stdout",
     "output_type": "stream",
     "text": [
      "<class 'int'>\n",
      "<class 'float'>\n",
      "<class 'bool'>\n",
      "<class 'complex'>\n"
     ]
    }
   ],
   "source": [
    "a,b,c,d = 20,5.5,True,4+3j\n",
    "print(type(a))\n",
    "print(type(b))\n",
    "print(type(c))\n",
    "print(type(d))"
   ]
  },
  {
   "cell_type": "markdown",
   "metadata": {},
   "source": [
    "#### string"
   ]
  },
  {
   "cell_type": "code",
   "execution_count": null,
   "metadata": {},
   "outputs": [],
   "source": [
    "\"\"\"\n",
    "定义： 双引号或者单引号中的数据，就是字符串\n",
    "\"\"\""
   ]
  },
  {
   "cell_type": "markdown",
   "metadata": {},
   "source": [
    "##### 字符串下标和切片\n",
    "\n",
    "- 下标\n",
    "\n",
    "下标的定义：字符串或串(String)是由数字、字母、下划线组成的一串字符\n",
    "\n",
    "  所谓“下标”，就是编号，就好比超市中的存储柜的编号，通过这个编号就能找到相应的存储空间\n",
    "  \n",
    "  字符串中下标的使用：\n",
    "  \n",
    "   列表与元组支持下标索引好理解，字符串实际上就是字符的数组，所以也支持下标索引。\n",
    "   \n",
    "   比如在下面写的一个例子\n",
    "   \n",
    "如果有字符串:name = 'abcdef'，在内存中的实际存储如下:\n",
    "\n",
    "a         b         c          d          e         f\n",
    "\n",
    "name[0] name[1]   name[2]  name[3]     name[4]   name[5]\n",
    "\n",
    "如果想取出部分字符，那么可以通过下标的方法，（注意python中下标从 0 开始）\n",
    "\n",
    "name = 'abcdef'\n",
    "\n",
    "print(name[0])\n",
    "\n",
    "print(name[1])\n",
    "\n",
    "print(name[2])\n",
    "  \n",
    "  \n",
    "- 切片\n",
    "\n",
    "切片是指对操作的对象截取其中一部分的操作。字符串、列表、元组都支持切片操作。\n",
    "\n",
    "切片的语法：[起始:结束:步长]\n",
    "\n",
    "注意：选取的区间属于左闭右开型，即从\"起始\"位开始，到\"结束\"位的前一位结束（不包含结束位本身)。  \n",
    "\n",
    "如果取出一部分，则可以在中括号[]中，使用:\n",
    "\n",
    "name = 'abcdef'\n",
    "\n",
    "print(name[0:3]) # 取 下标0~2 的字符\n",
    "\n",
    "name = 'abcdef'\n",
    "\n",
    "print(name[0:5]) # 取 下标为0~4 的字符\n",
    "\n",
    "print(name[3:5]) # 取 下标为3、4 的字符\n",
    "\n",
    "print(name[2:]) # 取 下标为2开始到最后的字符\n",
    "\n",
    "print(name[1:-1]) # 取 下标为1开始 到 最后第2个  之间的字符"
   ]
  },
  {
   "cell_type": "code",
   "execution_count": 6,
   "metadata": {
    "ExecuteTime": {
     "end_time": "2020-09-14T13:15:58.040729Z",
     "start_time": "2020-09-14T13:15:58.036230Z"
    }
   },
   "outputs": [
    {
     "name": "stdout",
     "output_type": "stream",
     "text": [
      "a\n",
      "b\n",
      "c\n"
     ]
    }
   ],
   "source": [
    "name = 'abcdef'\n",
    "print(name[0])\n",
    "print(name[1])\n",
    "print(name[2])"
   ]
  },
  {
   "cell_type": "code",
   "execution_count": 7,
   "metadata": {
    "ExecuteTime": {
     "end_time": "2020-09-14T13:17:57.106315Z",
     "start_time": "2020-09-14T13:17:57.099978Z"
    }
   },
   "outputs": [
    {
     "name": "stdout",
     "output_type": "stream",
     "text": [
      "abc\n",
      "abcde\n",
      "de\n",
      "cdef\n",
      "bcde\n"
     ]
    }
   ],
   "source": [
    "name = 'abcdef'\n",
    "\n",
    "print(name[0:3]) # 取 下标0~2 的字符\n",
    "\n",
    "name = 'abcdef'\n",
    "\n",
    "print(name[0:5]) # 取 下标为0~4 的字符\n",
    "\n",
    "print(name[3:5]) # 取 下标为3、4 的字符\n",
    "\n",
    "print(name[2:]) # 取 下标为2开始到最后的字符\n",
    "\n",
    "print(name[1:-1]) # 取 下标为1开始 到 最后第2个  之间的字符"
   ]
  },
  {
   "cell_type": "code",
   "execution_count": 29,
   "metadata": {},
   "outputs": [
    {
     "name": "stdout",
     "output_type": "stream",
     "text": [
      "abc\n",
      "ace\n",
      "fdb\n",
      "fd\n"
     ]
    }
   ],
   "source": [
    "a = 'abcdef'\n",
    "\n",
    "print(a[:3])\n",
    "print(a[::2])\n",
    "print(a[::-2])\n",
    "print(a[5:1:-2])"
   ]
  },
  {
   "cell_type": "code",
   "execution_count": 9,
   "metadata": {
    "ExecuteTime": {
     "end_time": "2020-09-14T13:20:55.139995Z",
     "start_time": "2020-09-14T13:20:55.133262Z"
    }
   },
   "outputs": [
    {
     "data": {
      "text/plain": [
       "-1"
      ]
     },
     "execution_count": 9,
     "metadata": {},
     "output_type": "execute_result"
    }
   ],
   "source": [
    "#find\n",
    "myStr = 'aa hello world'\n",
    "myStr.find('1hello',0,10)"
   ]
  },
  {
   "cell_type": "code",
   "execution_count": null,
   "metadata": {},
   "outputs": [],
   "source": [
    "#rfind"
   ]
  },
  {
   "cell_type": "code",
   "execution_count": 11,
   "metadata": {
    "ExecuteTime": {
     "end_time": "2020-09-14T13:21:41.131329Z",
     "start_time": "2020-09-14T13:21:40.999574Z"
    }
   },
   "outputs": [
    {
     "ename": "ValueError",
     "evalue": "substring not found",
     "output_type": "error",
     "traceback": [
      "\u001b[0;31m---------------------------------------------------------------------------\u001b[0m",
      "\u001b[0;31mValueError\u001b[0m                                Traceback (most recent call last)",
      "\u001b[0;32m<ipython-input-11-211a09a4174f>\u001b[0m in \u001b[0;36m<module>\u001b[0;34m\u001b[0m\n\u001b[1;32m      1\u001b[0m \u001b[0;31m#index\u001b[0m\u001b[0;34m\u001b[0m\u001b[0;34m\u001b[0m\u001b[0;34m\u001b[0m\u001b[0m\n\u001b[1;32m      2\u001b[0m \u001b[0mmyStr\u001b[0m \u001b[0;34m=\u001b[0m \u001b[0;34m'aa hello world'\u001b[0m\u001b[0;34m\u001b[0m\u001b[0;34m\u001b[0m\u001b[0m\n\u001b[0;32m----> 3\u001b[0;31m \u001b[0mmyStr\u001b[0m\u001b[0;34m.\u001b[0m\u001b[0mindex\u001b[0m\u001b[0;34m(\u001b[0m\u001b[0;34m'1hello'\u001b[0m\u001b[0;34m,\u001b[0m\u001b[0;36m0\u001b[0m\u001b[0;34m,\u001b[0m\u001b[0;36m10\u001b[0m\u001b[0;34m)\u001b[0m\u001b[0;34m\u001b[0m\u001b[0;34m\u001b[0m\u001b[0m\n\u001b[0m",
      "\u001b[0;31mValueError\u001b[0m: substring not found"
     ]
    }
   ],
   "source": [
    "#index\n",
    "myStr = 'aa hello world'\n",
    "myStr.index('1hello',0,10)"
   ]
  },
  {
   "cell_type": "code",
   "execution_count": null,
   "metadata": {},
   "outputs": [],
   "source": [
    "#strip\n",
    "#split\n",
    "#count"
   ]
  },
  {
   "cell_type": "code",
   "execution_count": null,
   "metadata": {},
   "outputs": [],
   "source": []
  },
  {
   "cell_type": "markdown",
   "metadata": {},
   "source": [
    "#### list"
   ]
  },
  {
   "cell_type": "markdown",
   "metadata": {},
   "source": [
    "##### 列表的格式\n",
    " \n",
    "格式：列表名 = [列表选项1, 列表选项2, ……, 列表选项n]\n",
    "\n",
    "例如：\n",
    "\n",
    "    namesList = ['xiaoWang','xiaoZhang','xiaoHua']\n",
    "\n",
    "比C语言的数组强大的地方在于列表中的元素可以是不同类型的\n",
    "\n",
    "    testList = [1, 'a']   "
   ]
  },
  {
   "cell_type": "markdown",
   "metadata": {
    "ExecuteTime": {
     "end_time": "2019-11-18T07:58:07.047284Z",
     "start_time": "2019-11-18T07:58:07.028491Z"
    }
   },
   "source": [
    "##### 列表的定义\n",
    "\n",
    "list是一种数据结构，专门用于存储一串信息；  列表用 [ ] 定义数据之间使用逗号分隔；列表的索引从0开始，索引就是数据在列表中的位置编号，索引又称为下标。"
   ]
  },
  {
   "cell_type": "markdown",
   "metadata": {},
   "source": [
    "##### 列表的常见操作\n",
    "- 增（append/extend/insert）\n",
    "- 删  (del/pop/remove)\n",
    "- 改  (可以直接进行修改)\n",
    "- 查  (in/not in)\n",
    "- 排序  (sort)"
   ]
  },
  {
   "cell_type": "code",
   "execution_count": 24,
   "metadata": {
    "ExecuteTime": {
     "end_time": "2019-08-12T11:24:56.590159Z",
     "start_time": "2019-08-12T11:24:56.583839Z"
    }
   },
   "outputs": [
    {
     "name": "stdout",
     "output_type": "stream",
     "text": [
      "['laowang', 'gebilaosong', 'rongmei', 'hello']\n"
     ]
    }
   ],
   "source": [
    "namesList = ['laowang','gebilaosong','rongmei']\n",
    "\n",
    "#append\n",
    "\n",
    "namesList.append('hello')\n",
    "\n",
    "print(namesList)"
   ]
  },
  {
   "cell_type": "code",
   "execution_count": 25,
   "metadata": {
    "ExecuteTime": {
     "end_time": "2019-08-12T11:24:58.451906Z",
     "start_time": "2019-08-12T11:24:58.446265Z"
    }
   },
   "outputs": [
    {
     "name": "stdout",
     "output_type": "stream",
     "text": [
      "[1, 2, 3, 4]\n"
     ]
    }
   ],
   "source": [
    "#extend\n",
    "\n",
    "a = [1,2]\n",
    "b = [3,4]\n",
    "a.extend(b)\n",
    "print(a)"
   ]
  },
  {
   "cell_type": "code",
   "execution_count": 26,
   "metadata": {
    "ExecuteTime": {
     "end_time": "2019-08-12T11:25:00.097587Z",
     "start_time": "2019-08-12T11:25:00.091278Z"
    }
   },
   "outputs": [
    {
     "name": "stdout",
     "output_type": "stream",
     "text": [
      "[0, 6, 1, 2]\n"
     ]
    }
   ],
   "source": [
    "#insert   \n",
    "a = [0,1,2]\n",
    "a.insert(1,6)\n",
    "print(a)"
   ]
  },
  {
   "cell_type": "code",
   "execution_count": null,
   "metadata": {},
   "outputs": [],
   "source": [
    "\"\"\"\n",
    "查找，就是看看指定的元素是否存在\n",
    "in, not in\n",
    "\n",
    "python中查找的常用方法为：\n",
    "\n",
    "    in（存在）,如果存在那么结果为true，否则为false\n",
    "    not in（不存在），如果不存在那么结果为true，否则false\n",
    "\"\"\""
   ]
  },
  {
   "cell_type": "code",
   "execution_count": 1,
   "metadata": {
    "ExecuteTime": {
     "end_time": "2020-09-14T02:48:23.779827Z",
     "start_time": "2020-09-14T02:48:17.810877Z"
    },
    "collapsed": true
   },
   "outputs": [
    {
     "ename": "KeyboardInterrupt",
     "evalue": "",
     "output_type": "error",
     "traceback": [
      "\u001b[0;31m---------------------------------------------------------------------------\u001b[0m",
      "\u001b[0;31mKeyboardInterrupt\u001b[0m                         Traceback (most recent call last)",
      "\u001b[0;32m/anaconda3/lib/python3.7/site-packages/ipykernel/kernelbase.py\u001b[0m in \u001b[0;36m_input_request\u001b[0;34m(self, prompt, ident, parent, password)\u001b[0m\n\u001b[1;32m    884\u001b[0m             \u001b[0;32mtry\u001b[0m\u001b[0;34m:\u001b[0m\u001b[0;34m\u001b[0m\u001b[0;34m\u001b[0m\u001b[0m\n\u001b[0;32m--> 885\u001b[0;31m                 \u001b[0mident\u001b[0m\u001b[0;34m,\u001b[0m \u001b[0mreply\u001b[0m \u001b[0;34m=\u001b[0m \u001b[0mself\u001b[0m\u001b[0;34m.\u001b[0m\u001b[0msession\u001b[0m\u001b[0;34m.\u001b[0m\u001b[0mrecv\u001b[0m\u001b[0;34m(\u001b[0m\u001b[0mself\u001b[0m\u001b[0;34m.\u001b[0m\u001b[0mstdin_socket\u001b[0m\u001b[0;34m,\u001b[0m \u001b[0;36m0\u001b[0m\u001b[0;34m)\u001b[0m\u001b[0;34m\u001b[0m\u001b[0;34m\u001b[0m\u001b[0m\n\u001b[0m\u001b[1;32m    886\u001b[0m             \u001b[0;32mexcept\u001b[0m \u001b[0mException\u001b[0m\u001b[0;34m:\u001b[0m\u001b[0;34m\u001b[0m\u001b[0;34m\u001b[0m\u001b[0m\n",
      "\u001b[0;32m/anaconda3/lib/python3.7/site-packages/jupyter_client/session.py\u001b[0m in \u001b[0;36mrecv\u001b[0;34m(self, socket, mode, content, copy)\u001b[0m\n\u001b[1;32m    802\u001b[0m         \u001b[0;32mtry\u001b[0m\u001b[0;34m:\u001b[0m\u001b[0;34m\u001b[0m\u001b[0;34m\u001b[0m\u001b[0m\n\u001b[0;32m--> 803\u001b[0;31m             \u001b[0mmsg_list\u001b[0m \u001b[0;34m=\u001b[0m \u001b[0msocket\u001b[0m\u001b[0;34m.\u001b[0m\u001b[0mrecv_multipart\u001b[0m\u001b[0;34m(\u001b[0m\u001b[0mmode\u001b[0m\u001b[0;34m,\u001b[0m \u001b[0mcopy\u001b[0m\u001b[0;34m=\u001b[0m\u001b[0mcopy\u001b[0m\u001b[0;34m)\u001b[0m\u001b[0;34m\u001b[0m\u001b[0;34m\u001b[0m\u001b[0m\n\u001b[0m\u001b[1;32m    804\u001b[0m         \u001b[0;32mexcept\u001b[0m \u001b[0mzmq\u001b[0m\u001b[0;34m.\u001b[0m\u001b[0mZMQError\u001b[0m \u001b[0;32mas\u001b[0m \u001b[0me\u001b[0m\u001b[0;34m:\u001b[0m\u001b[0;34m\u001b[0m\u001b[0;34m\u001b[0m\u001b[0m\n",
      "\u001b[0;32m/anaconda3/lib/python3.7/site-packages/zmq/sugar/socket.py\u001b[0m in \u001b[0;36mrecv_multipart\u001b[0;34m(self, flags, copy, track)\u001b[0m\n\u001b[1;32m    469\u001b[0m         \"\"\"\n\u001b[0;32m--> 470\u001b[0;31m         \u001b[0mparts\u001b[0m \u001b[0;34m=\u001b[0m \u001b[0;34m[\u001b[0m\u001b[0mself\u001b[0m\u001b[0;34m.\u001b[0m\u001b[0mrecv\u001b[0m\u001b[0;34m(\u001b[0m\u001b[0mflags\u001b[0m\u001b[0;34m,\u001b[0m \u001b[0mcopy\u001b[0m\u001b[0;34m=\u001b[0m\u001b[0mcopy\u001b[0m\u001b[0;34m,\u001b[0m \u001b[0mtrack\u001b[0m\u001b[0;34m=\u001b[0m\u001b[0mtrack\u001b[0m\u001b[0;34m)\u001b[0m\u001b[0;34m]\u001b[0m\u001b[0;34m\u001b[0m\u001b[0;34m\u001b[0m\u001b[0m\n\u001b[0m\u001b[1;32m    471\u001b[0m         \u001b[0;31m# have first part already, only loop while more to receive\u001b[0m\u001b[0;34m\u001b[0m\u001b[0;34m\u001b[0m\u001b[0;34m\u001b[0m\u001b[0m\n",
      "\u001b[0;32mzmq/backend/cython/socket.pyx\u001b[0m in \u001b[0;36mzmq.backend.cython.socket.Socket.recv\u001b[0;34m()\u001b[0m\n",
      "\u001b[0;32mzmq/backend/cython/socket.pyx\u001b[0m in \u001b[0;36mzmq.backend.cython.socket.Socket.recv\u001b[0;34m()\u001b[0m\n",
      "\u001b[0;32mzmq/backend/cython/socket.pyx\u001b[0m in \u001b[0;36mzmq.backend.cython.socket._recv_copy\u001b[0;34m()\u001b[0m\n",
      "\u001b[0;32m/anaconda3/lib/python3.7/site-packages/zmq/backend/cython/checkrc.pxd\u001b[0m in \u001b[0;36mzmq.backend.cython.checkrc._check_rc\u001b[0;34m()\u001b[0m\n",
      "\u001b[0;31mKeyboardInterrupt\u001b[0m: ",
      "\nDuring handling of the above exception, another exception occurred:\n",
      "\u001b[0;31mKeyboardInterrupt\u001b[0m                         Traceback (most recent call last)",
      "\u001b[0;32m<ipython-input-1-101881deaa69>\u001b[0m in \u001b[0;36m<module>\u001b[0;34m\u001b[0m\n\u001b[1;32m      3\u001b[0m \u001b[0;34m\u001b[0m\u001b[0m\n\u001b[1;32m      4\u001b[0m \u001b[0;31m#获取用户要查找的名字\u001b[0m\u001b[0;34m\u001b[0m\u001b[0;34m\u001b[0m\u001b[0;34m\u001b[0m\u001b[0m\n\u001b[0;32m----> 5\u001b[0;31m \u001b[0mfindName\u001b[0m \u001b[0;34m=\u001b[0m \u001b[0minput\u001b[0m\u001b[0;34m(\u001b[0m\u001b[0;34m'请输入要查找的姓名:'\u001b[0m\u001b[0;34m)\u001b[0m\u001b[0;34m\u001b[0m\u001b[0;34m\u001b[0m\u001b[0m\n\u001b[0m\u001b[1;32m      6\u001b[0m \u001b[0;34m\u001b[0m\u001b[0m\n\u001b[1;32m      7\u001b[0m \u001b[0;31m#查找是否存在\u001b[0m\u001b[0;34m\u001b[0m\u001b[0;34m\u001b[0m\u001b[0;34m\u001b[0m\u001b[0m\n",
      "\u001b[0;32m/anaconda3/lib/python3.7/site-packages/ipykernel/kernelbase.py\u001b[0m in \u001b[0;36mraw_input\u001b[0;34m(self, prompt)\u001b[0m\n\u001b[1;32m    858\u001b[0m             \u001b[0mself\u001b[0m\u001b[0;34m.\u001b[0m\u001b[0m_parent_ident\u001b[0m\u001b[0;34m,\u001b[0m\u001b[0;34m\u001b[0m\u001b[0;34m\u001b[0m\u001b[0m\n\u001b[1;32m    859\u001b[0m             \u001b[0mself\u001b[0m\u001b[0;34m.\u001b[0m\u001b[0m_parent_header\u001b[0m\u001b[0;34m,\u001b[0m\u001b[0;34m\u001b[0m\u001b[0;34m\u001b[0m\u001b[0m\n\u001b[0;32m--> 860\u001b[0;31m             \u001b[0mpassword\u001b[0m\u001b[0;34m=\u001b[0m\u001b[0;32mFalse\u001b[0m\u001b[0;34m,\u001b[0m\u001b[0;34m\u001b[0m\u001b[0;34m\u001b[0m\u001b[0m\n\u001b[0m\u001b[1;32m    861\u001b[0m         )\n\u001b[1;32m    862\u001b[0m \u001b[0;34m\u001b[0m\u001b[0m\n",
      "\u001b[0;32m/anaconda3/lib/python3.7/site-packages/ipykernel/kernelbase.py\u001b[0m in \u001b[0;36m_input_request\u001b[0;34m(self, prompt, ident, parent, password)\u001b[0m\n\u001b[1;32m    888\u001b[0m             \u001b[0;32mexcept\u001b[0m \u001b[0mKeyboardInterrupt\u001b[0m\u001b[0;34m:\u001b[0m\u001b[0;34m\u001b[0m\u001b[0;34m\u001b[0m\u001b[0m\n\u001b[1;32m    889\u001b[0m                 \u001b[0;31m# re-raise KeyboardInterrupt, to truncate traceback\u001b[0m\u001b[0;34m\u001b[0m\u001b[0;34m\u001b[0m\u001b[0;34m\u001b[0m\u001b[0m\n\u001b[0;32m--> 890\u001b[0;31m                 \u001b[0;32mraise\u001b[0m \u001b[0mKeyboardInterrupt\u001b[0m\u001b[0;34m\u001b[0m\u001b[0;34m\u001b[0m\u001b[0m\n\u001b[0m\u001b[1;32m    891\u001b[0m             \u001b[0;32melse\u001b[0m\u001b[0;34m:\u001b[0m\u001b[0;34m\u001b[0m\u001b[0;34m\u001b[0m\u001b[0m\n\u001b[1;32m    892\u001b[0m                 \u001b[0;32mbreak\u001b[0m\u001b[0;34m\u001b[0m\u001b[0;34m\u001b[0m\u001b[0m\n",
      "\u001b[0;31mKeyboardInterrupt\u001b[0m: "
     ]
    }
   ],
   "source": [
    "#待查找的列表\n",
    "namesList = ['laowang','gebilaosong','rongmei']\n",
    "\n",
    "#获取用户要查找的名字\n",
    "findName = input('请输入要查找的姓名:')\n",
    "\n",
    "#查找是否存在\n",
    "if findName in namesList:\n",
    "    print('在字典中找到了相同的名字')\n",
    "else:\n",
    "    print('没有找到')"
   ]
  },
  {
   "cell_type": "code",
   "execution_count": null,
   "metadata": {},
   "outputs": [],
   "source": [
    "\"\"\"\n",
    "删除\n",
    "概述：\n",
    "   类比现实生活中，如果某位同学调班了，那么就应该把这个条走后的学生的姓名删除掉；在开发中经常会用到删除这种功能。\n",
    "\n",
    "列表元素的常用删除方法有：\n",
    "    del：根据下标进行删除\n",
    "    pop：删除最后一个元素\n",
    "    remove：根据元素的值进行删除\n",
    "\"\"\""
   ]
  },
  {
   "cell_type": "code",
   "execution_count": 32,
   "metadata": {
    "ExecuteTime": {
     "end_time": "2019-08-12T11:29:04.434747Z",
     "start_time": "2019-08-12T11:29:04.426022Z"
    },
    "collapsed": true
   },
   "outputs": [
    {
     "name": "stdout",
     "output_type": "stream",
     "text": [
      "------删除之前------\n",
      "加勒比海盗\n",
      "骇客帝国\n",
      "第一滴血\n",
      "指环王\n",
      "霍比特人\n",
      "速度与激情\n",
      "------删除之后------\n",
      "加勒比海盗\n",
      "骇客帝国\n",
      "指环王\n",
      "霍比特人\n",
      "速度与激情\n"
     ]
    }
   ],
   "source": [
    "#1.del:\n",
    "\n",
    "movieName = ['加勒比海盗','骇客帝国','第一滴血','指环王','霍比特人','速度与激情']\n",
    "\n",
    "print('------删除之前------')\n",
    "for tempName in movieName:\n",
    "    print(tempName)\n",
    "\n",
    "del movieName[2]\n",
    "\n",
    "print('------删除之后------')\n",
    "for tempName in movieName:\n",
    "    print(tempName)"
   ]
  },
  {
   "cell_type": "code",
   "execution_count": 19,
   "metadata": {
    "ExecuteTime": {
     "end_time": "2019-08-12T10:56:47.545418Z",
     "start_time": "2019-08-12T10:56:47.534713Z"
    },
    "collapsed": true
   },
   "outputs": [
    {
     "name": "stdout",
     "output_type": "stream",
     "text": [
      "------删除之前------\n",
      "加勒比海盗\n",
      "骇客帝国\n",
      "第一滴血\n",
      "指环王\n",
      "霍比特人\n",
      "速度与激情\n"
     ]
    },
    {
     "data": {
      "text/plain": [
       "'速度与激情'"
      ]
     },
     "execution_count": 19,
     "metadata": {},
     "output_type": "execute_result"
    },
    {
     "name": "stdout",
     "output_type": "stream",
     "text": [
      "------删除之后------\n",
      "加勒比海盗\n",
      "骇客帝国\n",
      "第一滴血\n",
      "指环王\n",
      "霍比特人\n"
     ]
    }
   ],
   "source": [
    "#2.pop\n",
    "\n",
    "movieName = ['加勒比海盗','骇客帝国','第一滴血','指环王','霍比特人','速度与激情']\n",
    "\n",
    "print('------删除之前------')\n",
    "for tempName in movieName:\n",
    "    print(tempName)\n",
    "\n",
    "movieName.pop()\n",
    "\n",
    "print('------删除之后------')\n",
    "for tempName in movieName:\n",
    "    print(tempName)"
   ]
  },
  {
   "cell_type": "code",
   "execution_count": 20,
   "metadata": {
    "ExecuteTime": {
     "end_time": "2019-08-12T10:56:54.785756Z",
     "start_time": "2019-08-12T10:56:54.778273Z"
    },
    "collapsed": true
   },
   "outputs": [
    {
     "name": "stdout",
     "output_type": "stream",
     "text": [
      "------删除之前------\n",
      "加勒比海盗\n",
      "骇客帝国\n",
      "第一滴血\n",
      "指环王\n",
      "霍比特人\n",
      "速度与激情\n",
      "------删除之后------\n",
      "加勒比海盗\n",
      "骇客帝国\n",
      "第一滴血\n",
      "霍比特人\n",
      "速度与激情\n"
     ]
    }
   ],
   "source": [
    "#3.remove\n",
    "movieName = ['加勒比海盗', '骇客帝国', '第一滴血', '指环王', '霍比特人', '速度与激情']\n",
    "\n",
    "print('------删除之前------')\n",
    "for tempName in movieName:\n",
    "    print(tempName)\n",
    "\n",
    "movieName.remove('指环王')\n",
    "\n",
    "print('------删除之后------')\n",
    "for tempName in movieName:\n",
    "    print(tempName)"
   ]
  },
  {
   "cell_type": "code",
   "execution_count": null,
   "metadata": {},
   "outputs": [],
   "source": []
  },
  {
   "cell_type": "code",
   "execution_count": 12,
   "metadata": {
    "ExecuteTime": {
     "end_time": "2020-09-14T13:27:22.699526Z",
     "start_time": "2020-09-14T13:27:22.690144Z"
    }
   },
   "outputs": [
    {
     "name": "stdout",
     "output_type": "stream",
     "text": [
      "[1, 1, 2, 2, 3, 3, 5]\n",
      "[5, 3, 3, 2, 2, 1, 1]\n"
     ]
    }
   ],
   "source": [
    "#排序---sort\n",
    "a = [1,2,3,5,1,3,2]\n",
    "a.sort()\n",
    "print(a)\n",
    "\n",
    "\n",
    "a.reverse()\n",
    "print(a)"
   ]
  },
  {
   "cell_type": "markdown",
   "metadata": {},
   "source": [
    "#### dictionary"
   ]
  },
  {
   "cell_type": "markdown",
   "metadata": {},
   "source": [
    "##### 字典格式\n",
    "\n",
    "格式：\n",
    "\n",
    "   {key:value,key:value...}\n",
    "\n",
    "定义变量info为字典类型：\n",
    "\n",
    "    info = {'name':'班长', 'id':100, 'sex':'f', 'address':'地球亚洲中国北京'}\n",
    "\n",
    "说明：\n",
    "\n",
    "    字典和列表一样，也能够存储多个数据\n",
    "    \n",
    "    字典中找某个元素时，是根据'名字'（就是冒号:前面的那个值，例如上面代码中的'name'、'id'、'sex'）\n",
    "    \n",
    "    字典的每个元素由2部分组成，键:值。例如 'name':'班长' ,'name'为键，'班长'为值"
   ]
  },
  {
   "cell_type": "markdown",
   "metadata": {},
   "source": [
    "##### 字典的常见操作\n",
    "- 添加元素\n",
    "- 删除元素(del---删除指定元素。  clear()------清空字典)\n",
    "- 修改元素\n",
    "- 查询元素（字典的遍历）"
   ]
  },
  {
   "cell_type": "code",
   "execution_count": 22,
   "metadata": {
    "ExecuteTime": {
     "end_time": "2019-08-12T11:02:33.727967Z",
     "start_time": "2019-08-12T11:02:33.719862Z"
    },
    "collapsed": true
   },
   "outputs": [
    {
     "name": "stdout",
     "output_type": "stream",
     "text": [
      "班长\n",
      "地球亚洲中国北京\n"
     ]
    },
    {
     "data": {
      "text/plain": [
       "'\\n注意：\\n   若访问不存在的键，则会报错：\\n\\n那么当我们无法确定字典中是否存在该键的时候，该如何处理？\\nget方法\\n'"
      ]
     },
     "execution_count": 22,
     "metadata": {},
     "output_type": "execute_result"
    }
   ],
   "source": [
    "#案例：\n",
    "info = {'name': '班长', 'id': 100, 'sex': 'f', 'address': '地球亚洲中国北京'}\n",
    "print(info['name'])\n",
    "print(info['address'])"
   ]
  },
  {
   "cell_type": "code",
   "execution_count": 10,
   "metadata": {
    "ExecuteTime": {
     "end_time": "2019-11-18T08:05:19.848090Z",
     "start_time": "2019-11-18T08:05:19.833956Z"
    }
   },
   "outputs": [
    {
     "name": "stdout",
     "output_type": "stream",
     "text": [
      "None\n",
      "18\n"
     ]
    }
   ],
   "source": [
    "#在我们不确定字典中是否存在某个键而又想获取其值时，可以使用get方法，还可以设置默认值：\n",
    "\n",
    "#案例：\n",
    "info = {'name':'班长', 'id':100, 'sex':'f', 'address':'地球亚洲中国北京'}\n",
    "age = info.get('age')#'age'键不存在，所以age为None\n",
    "print(age)\n",
    "## 若info中不存在'age'这个键，就返回默认值18\n",
    "age = info.get('age', 18)\n",
    "print(age)"
   ]
  },
  {
   "cell_type": "code",
   "execution_count": 23,
   "metadata": {
    "ExecuteTime": {
     "end_time": "2019-08-12T11:03:41.976863Z",
     "start_time": "2019-08-12T11:03:38.707000Z"
    }
   },
   "outputs": [
    {
     "name": "stdout",
     "output_type": "stream",
     "text": [
      "请输入新的学号100\n",
      "修改之后的id为100:\n"
     ]
    }
   ],
   "source": [
    "#修改元素\n",
    "#定义：\n",
    " #  字典的每个元素中的数据是可以修改的，只要通过key找到，即可修改\n",
    "#案例：\n",
    "\n",
    "info = {'name':'班长', 'id':100, 'sex':'f', 'address':'地球亚洲中国北京'}\n",
    "newId = input('请输入新的学号')\n",
    "info['id'] = int(newId)\n",
    "print('修改之后的id为%d:'%info['id'])"
   ]
  },
  {
   "cell_type": "code",
   "execution_count": 33,
   "metadata": {
    "ExecuteTime": {
     "end_time": "2019-08-12T11:29:32.765734Z",
     "start_time": "2019-08-12T11:29:29.651075Z"
    },
    "collapsed": true
   },
   "outputs": [
    {
     "data": {
      "text/plain": [
       "\"\\n添加元素\\n概述：\\n访问不存在的元素：\\n  info = {'name':'班长', 'sex':'f', 'address':'地球亚洲中国北京'}\\n    print('id为:%d'%info['id'])\\n\\n如果在使用 变量名['键'] = 数据 时，这个“键”在字典中，不存在，那么就会新增这个元素\\n\\n案例：\\n\""
      ]
     },
     "execution_count": 33,
     "metadata": {},
     "output_type": "execute_result"
    },
    {
     "name": "stdout",
     "output_type": "stream",
     "text": [
      "请输入新的学号120\n",
      "添加之后的id为:120\n",
      "{'name': '班长', 'sex': 'f', 'address': '地球亚洲中国北京', 'id': 120}\n"
     ]
    }
   ],
   "source": [
    "\"\"\"\n",
    "添加元素\n",
    "\"\"\"\n",
    "info = {'name':'班长', 'sex':'f', 'address':'地球亚洲中国北京'}\n",
    "# print('id为:%d'%info['id'])#程序会终端运行，因为访问了不存在的键\n",
    "newId = input('请输入新的学号')\n",
    "newId=int(newId)\n",
    "info['id'] = newId\n",
    "print('添加之后的id为:%d'%info['id'])\n",
    "print(info)"
   ]
  },
  {
   "cell_type": "code",
   "execution_count": null,
   "metadata": {},
   "outputs": [],
   "source": [
    "\"\"\"\n",
    "删除元素\n",
    "概述：\n",
    "对字典进行删除操作，有一下几种：\n",
    "    del\n",
    "    clear()\n",
    "\n",
    "del删除指定的元素：\n",
    "\"\"\"\n",
    "\n",
    "\n",
    "info = {'name':'班长', 'sex':'f', 'address':'地球亚洲中国北京'}\n",
    "print('删除前,%s'%info['name'])\n",
    "del info['name']\n",
    "print(info)\n",
    "print('删除后,%s'%info['name'])\n",
    "\n",
    "\n",
    "#del删除整个字典\n",
    "\n",
    "info = {'name':'monitor', 'sex':'f', 'address':'China'}\n",
    "print('删除前,%s'%info)\n",
    "del info\n",
    "print('删除后,%s'%info) #这句报错\n",
    " \n",
    "# clear清空整个字典：\n",
    " \n",
    "info = {'name':'monitor', 'sex':'f', 'address':'China'}\n",
    "print('清空前,%s'%info)\n",
    "info.clear()\n",
    "print('清空后,%s'%info)"
   ]
  },
  {
   "cell_type": "code",
   "execution_count": null,
   "metadata": {},
   "outputs": [],
   "source": [
    "#字典的遍历"
   ]
  },
  {
   "cell_type": "code",
   "execution_count": 34,
   "metadata": {},
   "outputs": [
    {
     "name": "stdout",
     "output_type": "stream",
     "text": [
      "dict_keys(['name', 'id', 'sex', 'address'])\n",
      "dict_values(['班长', 100, 'f', '地球亚洲中国北京'])\n",
      "dict_items([('name', '班长'), ('id', 100), ('sex', 'f'), ('address', '地球亚洲中国北京')])\n"
     ]
    }
   ],
   "source": [
    "info = {'name':'班长', 'id':100, 'sex':'f', 'address':'地球亚洲中国北京'}\n",
    "\n",
    "print(info.keys())\n",
    "\n",
    "print(info.values())\n",
    "\n",
    "\n",
    "print(info.items())\n",
    "\n",
    "\n"
   ]
  },
  {
   "cell_type": "markdown",
   "metadata": {},
   "source": [
    "#### tuple"
   ]
  },
  {
   "cell_type": "markdown",
   "metadata": {},
   "source": [
    "##### 元祖的格式和常见操作\n",
    "\n",
    "Python的元组与列表类似，不同之处在于元组的元素不能修改。元组使用小括号，列表使用方括号。\n",
    "\n",
    "本质：是一种有序集合\n",
    "\n",
    "格式：\n",
    "\n",
    "   元组名 = (元组元素1, 元组元素2, ……, 元组元素n)  "
   ]
  },
  {
   "cell_type": "code",
   "execution_count": 19,
   "metadata": {
    "ExecuteTime": {
     "end_time": "2020-09-14T13:37:19.345197Z",
     "start_time": "2020-09-14T13:37:19.331710Z"
    }
   },
   "outputs": [
    {
     "name": "stdout",
     "output_type": "stream",
     "text": [
      "()\n",
      "(1, 2, 3, 'good', True)\n",
      "(1,)\n",
      "<class 'tuple'>\n",
      "1\n",
      "2\n",
      "3\n",
      "4\n",
      "5\n",
      "5\n",
      "4\n",
      "1\n",
      "(1, 2, 3, 4, 5, [100, 2, 3])\n",
      "(0, 1, 2, 0, 1, 2, 0, 1, 2)\n",
      "1\n",
      "2\n",
      "3\n",
      "4\n"
     ]
    }
   ],
   "source": [
    "#创建空的元组\n",
    "tuple1 = ()\n",
    "print(tuple1)\n",
    "#创建带有元素的元组\n",
    "#元组中的元素的类型可以不同\n",
    "tuple2 = (1, 2, 3, \"good\", True)\n",
    "print(tuple2)\n",
    "#定义只有一个元素的元组\n",
    "tuple3 = (1, )\n",
    "print(tuple3)\n",
    "print(type(tuple3))\n",
    "\n",
    "\n",
    "#元组元素的访问\n",
    "#格式：元组名[下标]\n",
    "#下标从0开始\n",
    "#取值\n",
    "tuple4 = (1,2,3,4,5)\n",
    "print(tuple4[0])\n",
    "print(tuple4[1])\n",
    "print(tuple4[2])\n",
    "print(tuple4[3])\n",
    "print(tuple4[4])\n",
    "#print(tuple4[5]) #下标超过范围(越界)\n",
    "#获取最后一个元素\n",
    "print(tuple4[-1])\n",
    "print(tuple4[-2])\n",
    "print(tuple4[-5])\n",
    "\n",
    "\n",
    "\n",
    "#修改元组\n",
    "tuple5 = (1,2,3,4,5,[1,2,3])\n",
    "# tuple5[-1] = [7,8,9]\n",
    "tuple5[-1][0] = 100\n",
    "print(tuple5)\n",
    "\n",
    "#删除元组\n",
    "# del tuple5\n",
    "# print(tuple5)\n",
    "\n",
    "#元组的操作\n",
    "\n",
    "\n",
    "#元组重复\n",
    "tuple6 = (0,1,2)\n",
    "print(tuple6 * 3)\n",
    "\n",
    "\n",
    "\n",
    "#判断元素是否在元组中\n",
    "#in   not  in\n",
    "\n",
    "\n",
    "\n",
    "#元组的截取\n",
    "#元组的遍历\n",
    "for i in (1,2,3,4):\n",
    "    print(i)\n",
    "    "
   ]
  },
  {
   "cell_type": "markdown",
   "metadata": {},
   "source": [
    "#### set"
   ]
  },
  {
   "cell_type": "markdown",
   "metadata": {},
   "source": [
    "##### 集合的概述\n",
    "\n",
    "集合与之前列表、元组类似，可以存储多个数据，但是这些数据是不重复的\n",
    "\n",
    "理解：\n",
    "\n",
    "是一组key的集合，不存储value\n",
    "\n",
    "本质：无序和无重复元素的集合\n",
    "\n",
    "操作：\n",
    "\n",
    "集合对象还支持union(联合), intersection(交), difference(差)和sysmmetric_difference(对称差集)等数学运算"
   ]
  },
  {
   "cell_type": "code",
   "execution_count": 23,
   "metadata": {
    "ExecuteTime": {
     "end_time": "2020-09-14T13:40:23.035551Z",
     "start_time": "2020-09-14T13:40:23.030321Z"
    }
   },
   "outputs": [
    {
     "name": "stdout",
     "output_type": "stream",
     "text": [
      "{1, 2, 3, 4, 5}\n",
      "{1, 2, 3, 4, 5}\n",
      "{1, 2}\n"
     ]
    }
   ],
   "source": [
    "s1 = set([1,2,3,4,5,4,3])\n",
    "print(s1)\n",
    "\n",
    "s2 = set((1,2,3,4,5,4,3))\n",
    "print(s2)\n",
    "\n",
    "s3 = set({1:'good',2:'nice'})\n",
    "print(s3)"
   ]
  },
  {
   "cell_type": "code",
   "execution_count": 22,
   "metadata": {
    "ExecuteTime": {
     "end_time": "2020-09-14T13:40:12.202820Z",
     "start_time": "2020-09-14T13:40:12.193032Z"
    }
   },
   "outputs": [
    {
     "ename": "KeyError",
     "evalue": "3",
     "output_type": "error",
     "traceback": [
      "\u001b[0;31m---------------------------------------------------------------------------\u001b[0m",
      "\u001b[0;31mKeyError\u001b[0m                                  Traceback (most recent call last)",
      "\u001b[0;32m<ipython-input-22-0c6a81b8cff6>\u001b[0m in \u001b[0;36m<module>\u001b[0;34m\u001b[0m\n\u001b[1;32m      2\u001b[0m \u001b[0;31m#2.插入(更新)update()\u001b[0m\u001b[0;34m\u001b[0m\u001b[0;34m\u001b[0m\u001b[0;34m\u001b[0m\u001b[0m\n\u001b[1;32m      3\u001b[0m \u001b[0;31m#3.删除remove()\u001b[0m\u001b[0;34m\u001b[0m\u001b[0;34m\u001b[0m\u001b[0;34m\u001b[0m\u001b[0m\n\u001b[0;32m----> 4\u001b[0;31m \u001b[0ms1\u001b[0m\u001b[0;34m.\u001b[0m\u001b[0mremove\u001b[0m\u001b[0;34m(\u001b[0m\u001b[0;36m3\u001b[0m\u001b[0;34m)\u001b[0m\u001b[0;34m\u001b[0m\u001b[0;34m\u001b[0m\u001b[0m\n\u001b[0m\u001b[1;32m      5\u001b[0m \u001b[0mprint\u001b[0m\u001b[0;34m(\u001b[0m\u001b[0ms1\u001b[0m\u001b[0;34m)\u001b[0m\u001b[0;34m\u001b[0m\u001b[0;34m\u001b[0m\u001b[0m\n\u001b[1;32m      6\u001b[0m \u001b[0;31m#4.遍历for\u001b[0m\u001b[0;34m\u001b[0m\u001b[0;34m\u001b[0m\u001b[0;34m\u001b[0m\u001b[0m\n",
      "\u001b[0;31mKeyError\u001b[0m: 3"
     ]
    }
   ],
   "source": [
    "#1.添加add\n",
    "#2.插入(更新)update()\n",
    "#3.删除remove()\n",
    "a = s1.remove(3)\n",
    "\n",
    "#4.遍历for\n",
    "for i in s2:\n",
    "    print(s2)\n",
    "\n",
    "\n",
    "#5.交集和并集"
   ]
  },
  {
   "cell_type": "markdown",
   "metadata": {},
   "source": [
    "### 函数\n",
    "#### 函数概述\n",
    "\n",
    "例如：现在有这样一段代码\n",
    "\n",
    "print（\"天王盖地虎\"）\n",
    "\n",
    "print(\"小鸡炖蘑菇\")\n",
    " \n",
    "再来一段代码：在不同的地方相同的代码，那么这样的程序改如何设计\n",
    "\n",
    "if 条件1：\n",
    "\n",
    "    print（\"天王盖地虎\"）\n",
    "    \n",
    "    print(\"小鸡炖蘑菇\")\n",
    "    \n",
    "elif 条件2：\n",
    "\n",
    "    print（\"天王盖地虎\"）\n",
    "    \n",
    "    print(\"小鸡炖蘑菇\")\n",
    "    \n",
    "elif 条件3：\n",
    "\n",
    "    print（\"天王盖地虎\"）\n",
    "    \n",
    "    print(\"小鸡炖蘑菇\")\n",
    "    \n",
    " 如果需要输出多次，是否意味着要编写这块代码多次呢？\n",
    "\n",
    "小总结:\n",
    "\n",
    "    如果在开发程序时，需要某块代码多次，但是为了提高编写的效率以及代码的重用，所以把具有独立功能的代码块组织为一个小模块，这就是函数"
   ]
  },
  {
   "cell_type": "markdown",
   "metadata": {},
   "source": [
    "#### 函数定义\n",
    "\n",
    "函数定义的格式：\n",
    "\n",
    "def 函数名():\n",
    "\n",
    "        代码      "
   ]
  },
  {
   "cell_type": "code",
   "execution_count": null,
   "metadata": {},
   "outputs": [],
   "source": [
    "#案例：\n",
    "    # 定义一个函数，能够完成打印信息的功能\n",
    "def printInfo():\n",
    "    print('------------------------------------')\n",
    "    print('         人生苦短，我用Python')\n",
    "    print('------------------------------------')"
   ]
  },
  {
   "cell_type": "markdown",
   "metadata": {},
   "source": [
    "#### 函数调用\n",
    "\n",
    "定义了函数之后，就相当于有了一个具有某些功能的代码，想要让这些代码能够执行，需要调用它\n",
    "\n",
    "调用函数很简单的，通过 函数名() 即可完成调用"
   ]
  },
  {
   "cell_type": "code",
   "execution_count": null,
   "metadata": {},
   "outputs": [],
   "source": [
    "# 定义完函数后，函数是不会自动执行的，需要调用它才可以\n",
    "printInfo()"
   ]
  },
  {
   "cell_type": "code",
   "execution_count": null,
   "metadata": {},
   "outputs": [],
   "source": [
    "#练习使用def定义函数，编写完函数之后，通过 函数名() 进行调用\n",
    "def message():\n",
    "    name = input(\"请输入你的名字：\")\n",
    "    age = input(\"请输入的你年龄：\")\n",
    "    print(\"你的姓名：%s,年龄：%s\"%(name,age))\n",
    "#函数的调用    \n",
    "message()"
   ]
  },
  {
   "cell_type": "markdown",
   "metadata": {},
   "source": [
    "#### 函数参数\n"
   ]
  },
  {
   "cell_type": "code",
   "execution_count": null,
   "metadata": {},
   "outputs": [],
   "source": [
    "#案例：求两个数的和   \n",
    "def add2num():\n",
    "    a = 11\n",
    "    b = 22\n",
    "    c = a + b\n",
    "    print(c)\n",
    "add2num()"
   ]
  },
  {
   "cell_type": "markdown",
   "metadata": {},
   "source": [
    "##### 定义带有参数函数"
   ]
  },
  {
   "cell_type": "code",
   "execution_count": null,
   "metadata": {},
   "outputs": [],
   "source": [
    "#将上面的求和案例进行修改\n",
    "def add2num(a, b):\n",
    "        c = a+b\n",
    "        print(c)"
   ]
  },
  {
   "cell_type": "markdown",
   "metadata": {},
   "source": [
    "##### 调用带有参数的函数"
   ]
  },
  {
   "cell_type": "code",
   "execution_count": null,
   "metadata": {},
   "outputs": [],
   "source": [
    "add2num(11,22)"
   ]
  },
  {
   "cell_type": "code",
   "execution_count": null,
   "metadata": {},
   "outputs": [],
   "source": [
    "\"\"\"\n",
    "求：定义一个函数，完成前2个数完成加法运算，然后对第3个数，进行减法；然后调用这个函数\n",
    "\"\"\"\n",
    "def add2num(a,b,c):\n",
    "        d = a+b\n",
    "        e = d-c\n",
    "        print(e)\n",
    "\n",
    "add2num(11,22,10)"
   ]
  },
  {
   "cell_type": "code",
   "execution_count": null,
   "metadata": {},
   "outputs": [],
   "source": [
    "#调用函数时参数的顺序\n",
    "def demo(a,b):\n",
    "    print(a,b)\n",
    "    \n",
    "demo(1,2)\n",
    "demo(b=1,a=2)"
   ]
  },
  {
   "cell_type": "markdown",
   "metadata": {},
   "source": [
    "##### 总结\n",
    "- 定义时小括号中的参数，用来接收参数用的，称为 “形参”\n",
    "- 调用时小括号中的参数，用来传递给函数用的，称为 “实参”\n"
   ]
  },
  {
   "cell_type": "markdown",
   "metadata": {},
   "source": [
    "#### 函数的返回值\n",
    "\n",
    "所谓“返回值”，就是程序中函数完成一件事情后，最后给调用者的结果\n",
    "    \n",
    "注意：在python中return默认值为空--》None"
   ]
  },
  {
   "cell_type": "code",
   "execution_count": null,
   "metadata": {},
   "outputs": [],
   "source": [
    "#来证明下函数默认的返回值是None\n",
    "def a():\n",
    "    print('hello')\n",
    "print(a())    "
   ]
  },
  {
   "cell_type": "code",
   "execution_count": null,
   "metadata": {},
   "outputs": [],
   "source": [
    "#想要在函数中把结果返回给调用者，需要在函数中使用return\n",
    "#如下示例:\n",
    "def add2num(a, b):\n",
    "    c = a + b\n",
    "    return c\n",
    "#将调用函数返回的值赋值给一个变量，存储起来\n",
    "sum = add2num(1,2)\n",
    "print(sum)"
   ]
  },
  {
   "cell_type": "markdown",
   "metadata": {},
   "source": [
    "#### 函数的类型\n",
    "函数根据有没有参数，有没有返回值，可以相互组合，一共有4种\n",
    "\n",
    "无参数，无返回值（此类函数，不能接收参数，也没有返回值，一般情况下，打印提示灯类似的功能，使用这类的函数）\n",
    "\n",
    "无参数，有返回值（此类函数，不能接收参数，但是可以返回某个数据，一般情况下，像采集数据，用此类函数）\n",
    "\n",
    "有参数，无返回值（此类函数，能接收参数，但不可以返回数据，一般情况下，对某些变量设置数据而不需结果时，用此类函数）\n",
    "\n",
    "有参数，有返回值（此类函数，不仅能接收参数，还可以返回某个数据，一般情况下，像数据处理并需要结果的应用，用此类函数）\n",
    "\n",
    "总结：\n",
    "函数根据有没有参数，有没有返回值可以相互组合\n",
    "\n",
    "定义函数时，是根据实际的功能需求来设计的，所以不同开发人员编写的函数类型各不相同"
   ]
  },
  {
   "cell_type": "markdown",
   "metadata": {},
   "source": [
    "#### 函数嵌套调用\n",
    "\n",
    "一个函数里面又调用了另外一个函数，这就是所谓的函数嵌套调用"
   ]
  },
  {
   "cell_type": "code",
   "execution_count": null,
   "metadata": {},
   "outputs": [],
   "source": [
    "def testB():\n",
    "    print('---- testB start----')\n",
    "    print('这里是testB函数执行的代码...(省略)...')\n",
    "    print('---- testB end----')\n",
    "\n",
    "def testA():\n",
    "    print('---- testA start----')\n",
    "    testB()\n",
    "    print('---- testA end----')\n",
    "\n",
    "testA()"
   ]
  },
  {
   "cell_type": "markdown",
   "metadata": {},
   "source": [
    "#### 关键字参数\n",
    "定义：\n",
    "    允许函数调用时参数的顺序与定义时不一致"
   ]
  },
  {
   "cell_type": "code",
   "execution_count": null,
   "metadata": {},
   "outputs": [],
   "source": [
    "#案例1：\n",
    "def myPrint(str, age):\n",
    "    print(str, age)\n",
    "\n",
    "#使用关键字参数\n",
    "myPrint(age = 18, str = \"张三\")"
   ]
  },
  {
   "cell_type": "code",
   "execution_count": null,
   "metadata": {},
   "outputs": [],
   "source": [
    "#案例2：\n",
    "# 关键字参数:**kw\n",
    "def person(name,age,**kw):\n",
    "    print('name:',name,'age:',age,'other:',kw)\n",
    "person('Frank','37')\n",
    "person('Frank','37',city='Shanghai')\n",
    "person('Frank','37',gender='M',job='Engineer')"
   ]
  },
  {
   "cell_type": "markdown",
   "metadata": {},
   "source": [
    "#### 默认参数（缺省参数）\n",
    "\n",
    "概述：\n",
    "   python为了简化函数的调用，提供了默认参数机制\n",
    "   调用函数时，缺省参数的值如果没有传入，则被认为是默认值"
   ]
  },
  {
   "cell_type": "code",
   "execution_count": null,
   "metadata": {},
   "outputs": [],
   "source": [
    "#案例1：\n",
    "def printinfo( name, age = 35 ):\n",
    "   # 打印任何传入的字符串\n",
    "   print(\"Name: \", name)\n",
    "   print(\"Age \", age)\n",
    "\n",
    "# 调用printinfo函数\n",
    "printinfo(name=\"miki\")\n",
    "printinfo( age=9,name=\"miki\")"
   ]
  },
  {
   "cell_type": "code",
   "execution_count": null,
   "metadata": {},
   "outputs": [],
   "source": [
    "#案例2：\n",
    "def pow(x, n = 2):\n",
    "    r = 1\n",
    "    while n > 0:\n",
    "        r *= x\n",
    "        n -= 1\n",
    "    return r\n",
    "\n",
    "#这样在调用pow函数时，就可以省略最后一个参数不写：\n",
    "print(pow(5)) "
   ]
  },
  {
   "cell_type": "code",
   "execution_count": null,
   "metadata": {},
   "outputs": [],
   "source": [
    "#案例3：\n",
    "def printinfo(name,age=35,sex):\n",
    "    print(name)\n",
    "    \n",
    "printinfo(\"张三\",age,\"男\")   \n",
    " \n",
    "'''\n",
    "#注意：带有默认值的参数一定要位于参数列表的最后面。\n",
    "#在定义有默认参数的函数时，需要注意以下：\n",
    "    #1.必选参数必须在前面，默认参数在后；\n",
    "    #2.设置何种参数为默认参数？一般来说，将参数值变化小的设置为默认参数。\n",
    "'''"
   ]
  },
  {
   "cell_type": "markdown",
   "metadata": {},
   "source": [
    "#### 不定长参数\n",
    "\n",
    "概述：\n",
    "\n",
    "  有时可能需要一个函数能处理比当初声明时更多的参数。这些参数叫做不定长参数，声明时不会命名。\n",
    "  \n",
    " 基本语法如下：\n",
    "\n",
    "def functionname([formal_args,] \\*args, **kwargs):\n",
    "\n",
    "    \"函数_文档字符串\"\n",
    "    function_suite \n",
    "    return [expression]"
   ]
  },
  {
   "cell_type": "code",
   "execution_count": null,
   "metadata": {},
   "outputs": [],
   "source": [
    "#案例：\n",
    "def fun(a, b, *args, **kwargs):\n",
    "    print (\"a =\", a)\n",
    "    print (\"b =\", b)\n",
    "    print (\"args =\", args)\n",
    "    print (\"kwargs: \")\n",
    "    for key, value in kwargs.items():\n",
    "        print (key, \"=\", value)\n",
    "#方式1\n",
    "fun(1, 2, 3, 4, 5, m=6, n=7, p=8) \n",
    "\n",
    "#方式2\n",
    "c = (3, 4, 5)\n",
    "d = {\"m\":6, \"n\":7, \"p\":8}\n",
    "fun(1, 2, *c, **d)   \n",
    "\n",
    "#方式3\n",
    "# 注意不加星号与上面的区别\n",
    "fun(1, 2, c, d)"
   ]
  },
  {
   "cell_type": "markdown",
   "metadata": {},
   "source": [
    "#### 匿名函数\n",
    "\n",
    "定义：\n",
    "      不使用def这样的语句定义函数，使用lambda来创建匿名函数\n",
    "      \n",
    "用lambda关键词能创建小型匿名函数。这种函数得名于省略了用def声明函数的标准步骤。\n",
    "\n",
    "lambda函数的语法只包含一个语句，如下：\n",
    "\n",
    "lambda [arg1 [,arg2,.....argn]]:expression\n",
    "\n",
    "或者：\n",
    "\n",
    "lambda 参数1,参数2,……,参数n:expression"
   ]
  },
  {
   "cell_type": "code",
   "execution_count": null,
   "metadata": {},
   "outputs": [],
   "source": [
    "#案例：\n",
    "sum = lambda arg1, arg2: arg1 + arg2\n",
    "\n",
    "#调用sum函数\n",
    "print (\"Value of total : \", sum( 10, 20 ))\n",
    "print (\"Value of total : \", sum( 20, 20 ))"
   ]
  },
  {
   "cell_type": "markdown",
   "metadata": {},
   "source": [
    "#### 回调函数\n",
    "定义：\n",
    "\n",
    "回调函数就是一个通过函数指针调用的函数。如果你把函数的指针（地址）作为参数传递给另一个函数，当这个指针被用来调用其所指向的函数时，\n",
    "\n",
    "我们就说这是回调函数。回调函数不是由该函数的实现方直接调用，而是在特定的事件或条件发生时由另外的一方调用的，用于对该事件或条件进行\n",
    "\n",
    "响应\n",
    "\n"
   ]
  },
  {
   "cell_type": "code",
   "execution_count": null,
   "metadata": {},
   "outputs": [],
   "source": [
    "#案例2：\n",
    "# 回调函数1\n",
    "# 生成一个2k形式的偶数\n",
    "def double(x):\n",
    "    return x * 2\n",
    "\n",
    "# 回调函数2\n",
    "# 生成一个4k形式的偶数\n",
    "def quadruple(x):\n",
    "    return x * 4\n",
    "\n",
    "# 中间函数\n",
    "# 接受一个生成偶数的函数作为参数\n",
    "# 返回一个奇数\n",
    "def getOddNumber(k, getEvenNumber):\n",
    "    return 1 + getEvenNumber(k)\n",
    "\n",
    "\n",
    "# 起始函数，这里是程序的主函数\n",
    "def main():\n",
    "    k = 1\n",
    "    # 当需要生成一个2k+1形式的奇数时\n",
    "    i = getOddNumber(k, double)\n",
    "    print(i)\n",
    "    # 当需要一个4k+1形式的奇数时\n",
    "    i = getOddNumber(k, quadruple)#kua tree plo\n",
    "    print(i)\n",
    "    # 当需要一个8k+1形式的奇数时\n",
    "    i = getOddNumber(k, lambda x: x * 8)\n",
    "    print(i)\n",
    "main()"
   ]
  },
  {
   "cell_type": "markdown",
   "metadata": {},
   "source": [
    "### 面向对象"
   ]
  },
  {
   "cell_type": "markdown",
   "metadata": {},
   "source": [
    "#### 面向对象\n",
    "\n",
    "定义：\n",
    "\n",
    "面向对象(object-oriented ;简称: OO) 至今还没有统一的概念 我这里把它定义为: 按人们 认识客观世界的系\n",
    "\n",
    "统思维方式,采用基于对象(实体) 的概念建立模型,模拟客观世界分析、设 计、实现软件的办法。\n",
    "\n",
    "面向对象编程(Object Oriented Programming-OOP) 是一种解决软件复用的设计和编程方法。 这种方法把软件\n",
    "\n",
    "系统中相近相似的操作逻辑和操作 应用数据、状态,以类的型式描述出来,以对象实例的形式在软件系统中复用,以达\n",
    "\n",
    "到提高软件开发效率的作用。  \n",
    "\n",
    "\n",
    "\n",
    "- 面向过程：根据业务逻辑从上到下写代码\n",
    "\n",
    "- 面向对象：将数据与函数绑定到一起，进行封装，这样能够更快速的开发程序，减少了重复代码的重写过程\n",
    "\n",
    "面向过程编程最易被初学者接受，其往往用一长段代码来实现指定功能，开发过程的思路是将数据与函数按照执行的逻\n",
    "\n",
    "辑顺序组织在一起，数据与函数分开考虑。"
   ]
  },
  {
   "cell_type": "markdown",
   "metadata": {},
   "source": [
    "#### 类和对象"
   ]
  },
  {
   "cell_type": "markdown",
   "metadata": {},
   "source": [
    "##### 类\n",
    "\n",
    "定义：\n",
    "\n",
    "类是抽象的,在使用的时候通常会找到这个类的一个具体的存在,使用这个具体的存在。一个类可以找到多个对象"
   ]
  },
  {
   "cell_type": "markdown",
   "metadata": {},
   "source": [
    "##### 对象\n",
    "\n",
    "概述：\n",
    "\n",
    "某一个具体事物的存在 ,在现实世界中可以是看得见摸得着的。\n",
    "\n",
    "可以是直接使用的\n",
    "\n",
    "总结：\n",
    "\n",
    "   类和对象之间的关系：\n",
    "   \n",
    "   就像利用玩具的模型来创建多种不同的玩具\n",
    "   \n",
    "   类就是创建对象的模板"
   ]
  },
  {
   "cell_type": "markdown",
   "metadata": {},
   "source": [
    "#### 类的设计\n",
    "\n",
    "类(Class) 由3个部分构成\n",
    "\n",
    "    类的名称:类名\n",
    "    类的属性:一组数据\n",
    "    类的方法:允许对进行操作的方法 (行为)\n",
    "\n",
    "<1> 举例：\n",
    "\n",
    "1）人类设计,只关心3样东西:\n",
    "\n",
    "    事物名称(类名):人(Person)\n",
    "    属性:身高(height)、年龄(age)\n",
    "    方法(行为/功能):跑(run)、打架(fight)\n",
    "\n",
    "2）狗类的设计\n",
    "\n",
    "    类名:狗(Dog)\n",
    "    属性:品种 、毛色、性别、名字、 腿儿的数量\n",
    "    方法(行为/功能):叫 、跑、咬人、吃、摇尾巴\n",
    "\n"
   ]
  },
  {
   "cell_type": "markdown",
   "metadata": {},
   "source": [
    "#### 定义类"
   ]
  },
  {
   "cell_type": "code",
   "execution_count": null,
   "metadata": {},
   "outputs": [],
   "source": [
    "# 定义类\n",
    "\"\"\"\n",
    "定义一个类，格式如下：\n",
    "class 类名:\n",
    "    方法列表\n",
    "\n",
    "\"\"\"\n",
    "\n",
    "class Car(object):\n",
    "    # 方法\n",
    "    def getCarInfo(self):\n",
    "        print('车轮子个数:%d, 颜色%s'%(self.wheelNum, self.color))\n",
    "\n",
    "    def move(self):\n",
    "        print(\"车正在移动...\")\n",
    " "
   ]
  },
  {
   "cell_type": "markdown",
   "metadata": {},
   "source": [
    "#### 对象创建\n",
    "\n",
    "python中，可以根据已经定义的类去创建出一个个对象\n",
    "\n",
    "创建对象的格式为:\n",
    "\n",
    "对象名 = 类名()"
   ]
  },
  {
   "cell_type": "code",
   "execution_count": null,
   "metadata": {},
   "outputs": [],
   "source": [
    "# 定义类\n",
    "class Car:\n",
    "    # 移动\n",
    "    def move(self):\n",
    "        print('车在奔跑...')\n",
    "\n",
    "    # 鸣笛\n",
    "    def toot(self):\n",
    "        print(\"车在鸣笛...嘟嘟..\")\n",
    "\n",
    "\n",
    "# 创建一个对象，并用变量BMW来保存它的引用\n",
    "BMW = Car()\n",
    "\n",
    "#为对象添加属性\n",
    "BMW.color = '黑色'\n",
    "BMW.wheelNum = 4 #轮子数量\n",
    "BMW.move()\n",
    "BMW.toot()\n",
    "print(BMW.color)\n",
    "print(BMW.wheelNum)\n",
    " "
   ]
  },
  {
   "cell_type": "markdown",
   "metadata": {},
   "source": [
    "#### __init__（）\n",
    " \n",
    " def 类名:\n",
    " \n",
    "    #初始化函数，用来完成一些默认的设定\n",
    "    \n",
    "    def __init__():\n",
    "    \n",
    "        pass"
   ]
  },
  {
   "cell_type": "code",
   "execution_count": 24,
   "metadata": {
    "ExecuteTime": {
     "end_time": "2020-09-14T14:03:25.230401Z",
     "start_time": "2020-09-14T14:03:25.225622Z"
    }
   },
   "outputs": [
    {
     "name": "stdout",
     "output_type": "stream",
     "text": [
      "车的颜色为:蓝色\n",
      "车轮胎数量为:4\n"
     ]
    }
   ],
   "source": [
    "#案例：\n",
    "  # 定义汽车类\n",
    "class Car:\n",
    "\n",
    "    def __init__(self):\n",
    "        self.wheelNum = 4\n",
    "        self.color = '蓝色'\n",
    "\n",
    "    def move(self):\n",
    "        print('车在跑，目标:夏威夷')\n",
    "\n",
    "# 创建对象\n",
    "BMW = Car()\n",
    "\n",
    "print('车的颜色为:%s'%BMW.color)\n",
    "print('车轮胎数量为:%d'%BMW.wheelNum)"
   ]
  },
  {
   "cell_type": "code",
   "execution_count": null,
   "metadata": {},
   "outputs": [],
   "source": [
    "#案例：\n",
    " # 定义汽车类\n",
    "    \n",
    "class Car:\n",
    "\n",
    "    def __init__(self, newWheelNum, newColor):\n",
    "        self.wheelNum = newWheelNum\n",
    "        self.color = newColor\n",
    "\n",
    "    def move(self):\n",
    "        print('车在跑，目标:夏威夷')\n",
    "\n",
    "# 创建对象\n",
    "BMW = Car(4, 'green')\n",
    "\n",
    "print('车的颜色为:%s'%BMW.color)\n",
    "print('车轮子数量为:%d'%BMW.wheelNum)"
   ]
  },
  {
   "cell_type": "markdown",
   "metadata": {},
   "source": [
    "当然一个类可以创建多个对象"
   ]
  },
  {
   "cell_type": "markdown",
   "metadata": {},
   "source": [
    "#### 封装：\n",
    "\n",
    "- 数据封装\n",
    "\n",
    "封装数据的主要原因是：保护隐私-私有属性\n",
    "\n",
    "- 方法封装\n",
    "\n",
    "封装方法的主要原因是：隔离复杂度--函数封装"
   ]
  },
  {
   "cell_type": "markdown",
   "metadata": {},
   "source": [
    "#### 继承\n",
    "\n",
    "继承的概念\n",
    "\n",
    "在现实生活中，继承一般指的是子女继承父辈的财产\n",
    "\n",
    "在程序中，继承描述的是事物之间的所属关系，例如猫和狗都属于动物，程序中便可以描述为猫和狗继承自动物；\n",
    "\n",
    "同理，波斯猫和巴厘猫都继承自猫，而沙皮狗和斑点狗都继承足够，如下如所示："
   ]
  },
  {
   "cell_type": "markdown",
   "metadata": {},
   "source": [
    "##### 单继承"
   ]
  },
  {
   "cell_type": "code",
   "execution_count": 26,
   "metadata": {
    "ExecuteTime": {
     "end_time": "2020-09-14T14:10:07.931884Z",
     "start_time": "2020-09-14T14:10:07.912391Z"
    }
   },
   "outputs": [
    {
     "ename": "AttributeError",
     "evalue": "'Bosi' object has no attribute 'name'",
     "output_type": "error",
     "traceback": [
      "\u001b[0;31m---------------------------------------------------------------------------\u001b[0m",
      "\u001b[0;31mAttributeError\u001b[0m                            Traceback (most recent call last)",
      "\u001b[0;32m<ipython-input-26-3f08b6228cf0>\u001b[0m in \u001b[0;36m<module>\u001b[0;34m\u001b[0m\n\u001b[1;32m     18\u001b[0m \u001b[0;34m\u001b[0m\u001b[0m\n\u001b[1;32m     19\u001b[0m \u001b[0mbs\u001b[0m \u001b[0;34m=\u001b[0m \u001b[0mBosi\u001b[0m\u001b[0;34m(\u001b[0m\u001b[0;34m\"印度猫\"\u001b[0m\u001b[0;34m)\u001b[0m\u001b[0;34m\u001b[0m\u001b[0;34m\u001b[0m\u001b[0m\n\u001b[0;32m---> 20\u001b[0;31m \u001b[0mprint\u001b[0m\u001b[0;34m(\u001b[0m\u001b[0;34m'bs的名字为:%s'\u001b[0m\u001b[0;34m%\u001b[0m\u001b[0mbs\u001b[0m\u001b[0;34m.\u001b[0m\u001b[0mname\u001b[0m\u001b[0;34m)\u001b[0m\u001b[0;34m\u001b[0m\u001b[0;34m\u001b[0m\u001b[0m\n\u001b[0m\u001b[1;32m     21\u001b[0m \u001b[0mprint\u001b[0m\u001b[0;34m(\u001b[0m\u001b[0;34m'bs的颜色为:%s'\u001b[0m\u001b[0;34m%\u001b[0m\u001b[0mbs\u001b[0m\u001b[0;34m.\u001b[0m\u001b[0mcolor\u001b[0m\u001b[0;34m)\u001b[0m\u001b[0;34m\u001b[0m\u001b[0;34m\u001b[0m\u001b[0m\n\u001b[1;32m     22\u001b[0m \u001b[0mbs\u001b[0m\u001b[0;34m.\u001b[0m\u001b[0meat\u001b[0m\u001b[0;34m(\u001b[0m\u001b[0;34m)\u001b[0m\u001b[0;34m\u001b[0m\u001b[0;34m\u001b[0m\u001b[0m\n",
      "\u001b[0;31mAttributeError\u001b[0m: 'Bosi' object has no attribute 'name'"
     ]
    }
   ],
   "source": [
    "#单继承\n",
    "# 定义一个父类，如下:\n",
    "class Cat(object):\n",
    "    def __init__(self, name, color=\"白色\"):\n",
    "        self.__name = name\n",
    "        self.color = color\n",
    "    def __run(self):\n",
    "        print(\"%s--在跑\"%self.name)\n",
    "        \n",
    "# 定义一个子类，继承Cat类如下:\n",
    "class Bosi(Cat):\n",
    "    def setNewName(self, newName):\n",
    "        self.name = newName\n",
    "\n",
    "    def eat(self):\n",
    "        print(\"%s--在吃\"%self.name)\n",
    "\n",
    "\n",
    "bs = Bosi(\"印度猫\")\n",
    "print('bs的名字为:%s'%bs.name)\n",
    "print('bs的颜色为:%s'%bs.color)\n",
    "bs.eat()\n",
    "bs.setNewName('波斯')\n",
    "bs.run()"
   ]
  },
  {
   "cell_type": "code",
   "execution_count": null,
   "metadata": {},
   "outputs": [],
   "source": [
    "#注意点：设置私有属性"
   ]
  },
  {
   "cell_type": "markdown",
   "metadata": {},
   "source": [
    "##### 多继承"
   ]
  },
  {
   "cell_type": "code",
   "execution_count": null,
   "metadata": {},
   "outputs": [],
   "source": [
    "\"\"\"\n",
    "理解：\n",
    "  骡子是马和驴的杂交品种\n",
    "所谓多继承，即子类有多个父类，并且具有它们的特征  \n",
    "\"\"\"\n",
    "#Python中多继承的格式如下:\n",
    "# 定义一个父类\n",
    "class A:\n",
    "    def printA(self):\n",
    "        print('----A----')\n",
    "\n",
    "# 定义一个父类\n",
    "class B:\n",
    "    def printB(self):\n",
    "        print('----B----')\n",
    "\n",
    "# 定义一个子类，继承自A、B\n",
    "class C(A,B):\n",
    "    def printC(self):\n",
    "        print('----C----')\n",
    "\n",
    "obj_C = C()\n",
    "obj_C.printA()\n",
    "obj_C.printB()\n"
   ]
  },
  {
   "cell_type": "markdown",
   "metadata": {},
   "source": [
    "#### 多态\n",
    "\n",
    "多态的概念是应用于Java和C#这一类强类型语言中，而Python崇尚“鸭子类型”。\n",
    "\n",
    "所谓多态：定义时的类型和运行时的类型不一样，此时就成为多态\n",
    "\n",
    "Python伪代码实现Java或C#的多态"
   ]
  },
  {
   "cell_type": "markdown",
   "metadata": {},
   "source": [
    "#### 类属性和实例属性\n",
    "\n",
    "在前面的例子中我们接触到的就是实例属性（对象属性），顾名思义，类属性就是类对象所拥有的属性，它被所有类对\n",
    "\n",
    "象的实例对象所共有，在内存中只存在一个副本，这个和C++中类的静态成员变量有点类似。对于公有的类属性，在类\n",
    "\n",
    "外可以通过类对象和实例对象访问"
   ]
  },
  {
   "cell_type": "code",
   "execution_count": 29,
   "metadata": {
    "ExecuteTime": {
     "end_time": "2020-09-14T14:12:50.831024Z",
     "start_time": "2020-09-14T14:12:50.821544Z"
    }
   },
   "outputs": [
    {
     "name": "stdout",
     "output_type": "stream",
     "text": [
      "Tom\n",
      "Tom\n"
     ]
    },
    {
     "ename": "AttributeError",
     "evalue": "'People' object has no attribute '__age'",
     "output_type": "error",
     "traceback": [
      "\u001b[0;31m---------------------------------------------------------------------------\u001b[0m",
      "\u001b[0;31mAttributeError\u001b[0m                            Traceback (most recent call last)",
      "\u001b[0;32m<ipython-input-29-99138a2677a2>\u001b[0m in \u001b[0;36m<module>\u001b[0;34m\u001b[0m\n\u001b[1;32m      8\u001b[0m \u001b[0mprint\u001b[0m\u001b[0;34m(\u001b[0m\u001b[0mp\u001b[0m\u001b[0;34m.\u001b[0m\u001b[0mname\u001b[0m\u001b[0;34m)\u001b[0m\u001b[0;34m\u001b[0m\u001b[0;34m\u001b[0m\u001b[0m\n\u001b[1;32m      9\u001b[0m \u001b[0mprint\u001b[0m\u001b[0;34m(\u001b[0m\u001b[0mPeople\u001b[0m\u001b[0;34m.\u001b[0m\u001b[0mname\u001b[0m\u001b[0;34m)\u001b[0m\u001b[0;34m\u001b[0m\u001b[0;34m\u001b[0m\u001b[0m\n\u001b[0;32m---> 10\u001b[0;31m \u001b[0mprint\u001b[0m\u001b[0;34m(\u001b[0m\u001b[0mp\u001b[0m\u001b[0;34m.\u001b[0m\u001b[0m__age\u001b[0m\u001b[0;34m)\u001b[0m\u001b[0;34m\u001b[0m\u001b[0;34m\u001b[0m\u001b[0m\n\u001b[0m\u001b[1;32m     11\u001b[0m \u001b[0mprint\u001b[0m\u001b[0;34m(\u001b[0m\u001b[0mPeople\u001b[0m\u001b[0;34m.\u001b[0m\u001b[0m__age\u001b[0m\u001b[0;34m)\u001b[0m\u001b[0;34m\u001b[0m\u001b[0;34m\u001b[0m\u001b[0m\n",
      "\u001b[0;31mAttributeError\u001b[0m: 'People' object has no attribute '__age'"
     ]
    }
   ],
   "source": [
    "#类属性\n",
    "class People(object):\n",
    "    name = 'Tom'  \n",
    "    __age = 12     \n",
    "\n",
    "p = People()\n",
    "\n",
    "print(p.name)          \n",
    "print(People.name)      \n",
    "print(p.__age)           \n",
    "print(People.__age)       "
   ]
  },
  {
   "cell_type": "code",
   "execution_count": 34,
   "metadata": {
    "ExecuteTime": {
     "end_time": "2020-09-14T14:14:35.718553Z",
     "start_time": "2020-09-14T14:14:35.707895Z"
    }
   },
   "outputs": [
    {
     "name": "stdout",
     "output_type": "stream",
     "text": [
      "山东\n",
      "xiaowang\n",
      "12\n",
      "山东\n"
     ]
    },
    {
     "ename": "AttributeError",
     "evalue": "type object 'People' has no attribute 'name'",
     "output_type": "error",
     "traceback": [
      "\u001b[0;31m---------------------------------------------------------------------------\u001b[0m",
      "\u001b[0;31mAttributeError\u001b[0m                            Traceback (most recent call last)",
      "\u001b[0;32m<ipython-input-34-7ca63e5e0c70>\u001b[0m in \u001b[0;36m<module>\u001b[0;34m\u001b[0m\n\u001b[1;32m     13\u001b[0m \u001b[0;34m\u001b[0m\u001b[0m\n\u001b[1;32m     14\u001b[0m \u001b[0mprint\u001b[0m\u001b[0;34m(\u001b[0m\u001b[0mPeople\u001b[0m\u001b[0;34m.\u001b[0m\u001b[0maddress\u001b[0m\u001b[0;34m)\u001b[0m\u001b[0;34m\u001b[0m\u001b[0;34m\u001b[0m\u001b[0m\n\u001b[0;32m---> 15\u001b[0;31m \u001b[0mprint\u001b[0m\u001b[0;34m(\u001b[0m\u001b[0mPeople\u001b[0m\u001b[0;34m.\u001b[0m\u001b[0mname\u001b[0m\u001b[0;34m)\u001b[0m\u001b[0;34m\u001b[0m\u001b[0;34m\u001b[0m\u001b[0m\n\u001b[0m\u001b[1;32m     16\u001b[0m \u001b[0mprint\u001b[0m\u001b[0;34m(\u001b[0m\u001b[0mPeople\u001b[0m\u001b[0;34m.\u001b[0m\u001b[0mage\u001b[0m\u001b[0;34m)\u001b[0m\u001b[0;34m\u001b[0m\u001b[0;34m\u001b[0m\u001b[0m\n",
      "\u001b[0;31mAttributeError\u001b[0m: type object 'People' has no attribute 'name'"
     ]
    }
   ],
   "source": [
    "#实例属性\n",
    "class People(object):\n",
    "    address = '山东' \n",
    "    def __init__(self):\n",
    "        self.name = 'xiaowang' \n",
    "        self.age = 20 \n",
    "\n",
    "p = People()\n",
    "p.age =12 \n",
    "print(p.address) \n",
    "print(p.name)   \n",
    "print(p.age)      \n",
    "\n",
    "print(People.address) \n",
    "print(People.name)   \n",
    "print(People.age) \n"
   ]
  },
  {
   "cell_type": "code",
   "execution_count": null,
   "metadata": {},
   "outputs": [],
   "source": [
    "#通过实例(对象)去修改类属性\n",
    "class People(object):\n",
    "    country = 'china' \n",
    "\n",
    "\n",
    "print(People.country)\n",
    "p = People()\n",
    "print(p.country)\n",
    "p.country = 'japan' \n",
    "print(p.country)      \n",
    "print(People.country)\n",
    "del p.country   \n",
    "print(p.country)\n",
    "\n",
    "\n",
    "总结：\n",
    "如果需要在类外修改类属性，必须通过类对象去引用然后进行修改。\n",
    "如果通过实例对象去引用，会产生一个同名的实例属性，\n",
    "这种方式修改的是实例属性，不会影响到类属性，并且之后如果通过实例对象去引用该名称的属性，\n",
    "实例属性会强制屏蔽掉类属性，即引用的是实例属性，除非删除了该实例属性。\n",
    "\"\"\""
   ]
  },
  {
   "cell_type": "markdown",
   "metadata": {},
   "source": [
    "#### 常见方法类型\n",
    "\n",
    "- 实例方法\n",
    "- 静态方法\n",
    "- 类方法"
   ]
  },
  {
   "cell_type": "markdown",
   "metadata": {},
   "source": [
    "##### 实例方法"
   ]
  },
  {
   "cell_type": "code",
   "execution_count": null,
   "metadata": {},
   "outputs": [],
   "source": [
    "'''\n",
    " 定义：第一个参数必须是实例对象，该参数名一般约定为“self”，通过它来传递实例的属性和方法（也可以传类的属性和方法）；\n",
    "\n",
    "    调用：只能由实例对象调用。\n",
    "'''"
   ]
  },
  {
   "cell_type": "markdown",
   "metadata": {},
   "source": [
    "##### 静态方法"
   ]
  },
  {
   "cell_type": "code",
   "execution_count": null,
   "metadata": {},
   "outputs": [],
   "source": [
    "'''\n",
    " 定义：\n",
    "需要通过修饰器@staticmethod来进行修饰，静态方法不需要多定义参数\n",
    "\n",
    "案例：\n",
    "'''  \n",
    "class People(object):\n",
    "    country = 'china'\n",
    "\n",
    "    @staticmethod\n",
    "    #静态方法\n",
    "    def getCountry():\n",
    "        return People.country\n",
    "print People.getCountry()"
   ]
  },
  {
   "cell_type": "code",
   "execution_count": null,
   "metadata": {},
   "outputs": [],
   "source": [
    "'''\n",
    " 静态方法是类中的函数，不需要实例。静态方法主要是用来存放逻辑性的代码，主要是一些逻辑属于类，\n",
    "但是和类本身没有交互，即在静态方法中，不会涉及到类中的方法和属性的操作。\n",
    "可以理解为将静态方法存在此类的名称空间中。事实上，在python引入静态方法之前，\n",
    "通常是在全局名称空间中创建函数\n",
    "'''"
   ]
  },
  {
   "cell_type": "code",
   "execution_count": 3,
   "metadata": {
    "ExecuteTime": {
     "end_time": "2020-09-14T02:32:34.870280Z",
     "start_time": "2020-09-14T02:32:34.860834Z"
    }
   },
   "outputs": [
    {
     "name": "stdout",
     "output_type": "stream",
     "text": [
      "10:32:34\n",
      "10:32:34\n"
     ]
    }
   ],
   "source": [
    "import time\n",
    "class TimeTest(object):\n",
    "    def __init__(self,hour,minute,second):\n",
    "        self.hour = hour\n",
    "        self.minute = minute\n",
    "        self.second = second\n",
    "    @staticmethod   \n",
    "    def showTime():      \n",
    "        return time.strftime(\"%H:%M:%S\", time.localtime())\n",
    " \n",
    "print(TimeTest.showTime())\n",
    "t = TimeTest(2,10,10)\n",
    "nowTime = t.showTime()\n",
    "print(nowTime)"
   ]
  },
  {
   "cell_type": "markdown",
   "metadata": {},
   "source": [
    "##### 类方法"
   ]
  },
  {
   "cell_type": "code",
   "execution_count": null,
   "metadata": {},
   "outputs": [],
   "source": [
    "'''\n",
    "是类对象所拥有的方法，需要用修饰器@classmethod来标识其为类方法，\n",
    "对于类方法，第一个参数必须是类对象，一般以cls作为第一个参数（\n",
    "当然可以用其他名称的变量作为其第一个参数，\n",
    "但是大部分人都习惯以'cls'作为第一个参数的名字，就最好用'cls'了），\n",
    "能够通过实例对象和类对象去访问。\n",
    "\n",
    "案例：\n",
    "'''\n",
    "class People(object):\n",
    "    country = 'china'\n",
    "\n",
    "    #类方法，用classmethod来进行修饰\n",
    "    @classmethod\n",
    "    def getCountry(cls):\n",
    "        return cls.country\n",
    "\n",
    "p = People()\n",
    "print (p.getCountry())    #可以用过实例对象引用\n",
    "print (People.getCountry())   #可以通过类对象引用\n",
    "\n",
    "\n",
    "'''\n",
    "类方法还有一个用途就是可以对类属性进行修改：\n",
    "案例：\n",
    "'''\n",
    "\n",
    "class People(object):\n",
    "    country = 'china'\n",
    "\n",
    "    #类方法，用classmethod来进行修饰\n",
    "    @classmethod\n",
    "    def getCountry(cls):\n",
    "        return cls.country\n",
    "\n",
    "    @classmethod\n",
    "    def setCountry(cls,country):\n",
    "        cls.country = country\n",
    "\n",
    "\n",
    "p = People()\n",
    "print (p.getCountry())    #可以用过实例对象引用\n",
    "print (People.getCountry())    #可以通过类对象引用\n",
    "\n",
    "p.setCountry('japan')\n",
    "\n",
    "print (p.getCountry())\n",
    "print (People.getCountry())"
   ]
  },
  {
   "cell_type": "markdown",
   "metadata": {},
   "source": [
    "总结"
   ]
  },
  {
   "cell_type": "code",
   "execution_count": null,
   "metadata": {},
   "outputs": [],
   "source": [
    "'''\n",
    "总结:\n",
    "从类方法和实例方法以及静态方法的定义形式就可以看出来，\n",
    "类方法的第一个参数是类对象cls，那么通过cls引用的必定是类对象的属性和方法；\n",
    "而实例方法的第一个参数是实例对象self，\n",
    "那么通过self引用的可能是类属性、也有可能是实例属性（这个需要具体分析），\n",
    "不过在存在相同名称的类属性和实例属性的情况下，实例属性优先级更高。\n",
    "静态方法中不需要额外定义参数，因此在静态方法中引用类属性的话，必须通过类对象来引用\n",
    "\n",
    "\n",
    "\n",
    "可以这样理解：\n",
    "1.书写的格式不一样\n",
    "\t1.1 类方法有一个默认参数cls代表这个类。可以用别的名词来替代，但不建议用别的名词。\n",
    "\t1.2 静态方法没有默认参数，就像普通函数一样。是可以传参的。\n",
    "2.使用不同：\n",
    "\t2.1 在完全面向对象的程序中，如果一个函数即与类无关，也与对象无关，那么就用staticmethod。\n",
    "\t2.2 静态方法和类方法都是类调用的。\n",
    "\t2.3 对象可以调用类方法和静态方法，一般情况下，推荐用类名调用。\n",
    "\n",
    "  '''"
   ]
  },
  {
   "cell_type": "markdown",
   "metadata": {},
   "source": [
    "### 文件操作\n",
    "\n",
    "概述：\n",
    "\n",
    "  常见的txt/avi/html/zip/word等都称之为文件   \n",
    "  \n",
    "文件作用：\n",
    "\n",
    "   存储数据\n",
    "   \n",
    "- 文件打开\n",
    "- 文件关闭\n",
    "- 文件读写\n",
    "- 文件定位读写\n",
    "- 文件重命名\n",
    "- 文件删除\n",
    "\n"
   ]
  },
  {
   "cell_type": "markdown",
   "metadata": {},
   "source": [
    "#### 文件打开\n",
    "在python，使用open函数，可以打开一个已经存在的文件，或者创建一个新文件\n",
    "\n",
    "open(文件名，访问模式)\n",
    "\n",
    "示例如下：\n",
    "\n",
    "    f = open('test.txt', 'w')\n",
    "\n",
    "说明:\n",
    "访问模式 \t说明\n",
    "r \t以只读方式打开文件。文件的指针将会放在文件的开头。这是默认模式。\n",
    "\n",
    "w \t打开一个文件只用于写入。如果该文件已存在则将其覆盖。如果该文件不存在，创建新文件。\n",
    "\n",
    "a \t打开一个文件用于追加。如果该文件已存在，文件指针将会放在文件的结尾。也就是说，新的内容将会被写入到\n",
    "\n",
    "已有内容之后。如果该文件不存在，创建新文件进行写入。\n",
    "\n",
    "rb \t以二进制格式打开一个文件用于只读。文件指针将会放在文件的开头。这是默认模式。\n",
    "\n",
    "wb \t以二进制格式打开一个文件只用于写入。如果该文件已存在则将其覆盖。如果该文件不存在，创建新文件。\n",
    "\n",
    "ab \t以二进制格式打开一个文件用于追加。如果该文件已存在，文件指针将会放在文件的结尾。也就是说，\n",
    "\n",
    "新的内容将会被写入到已有内容之后。如果该文件不存在，创建新文件进行写入。\n",
    "\n",
    "r+ \t打开一个文件用于读写。文件指针将会放在文件的开头。\n",
    "\n",
    "w+ \t打开一个文件用于读写。如果该文件已存在则将其覆盖。如果该文件不存在，创建新文件。\n",
    "\n",
    "a+ \t打开一个文件用于读写。如果该文件已存在，文件指针将会放在文件的结尾。文件打开时会是追加模式。\n",
    "\n",
    "如果该文件不存在，创建新文件用于读写。\n",
    "\n",
    "rb+ \t以二进制格式打开一个文件用于读写。文件指针将会放在文件的开头。\n",
    "\n",
    "wb+ \t以二进制格式打开一个文件用于读写。如果该文件已存在则将其覆盖。如果该文件不存在，创建新文件。\n",
    "\n",
    "ab+ \t以二进制格式打开一个文件用于追加。如果该文件已存在，文件指针将会放在文件的结尾。\n",
    "\n",
    "如果该文件不存在，创建新文件用于读写。"
   ]
  },
  {
   "cell_type": "markdown",
   "metadata": {},
   "source": []
  },
  {
   "cell_type": "code",
   "execution_count": null,
   "metadata": {},
   "outputs": [],
   "source": [
    "close()"
   ]
  },
  {
   "cell_type": "code",
   "execution_count": 37,
   "metadata": {
    "ExecuteTime": {
     "end_time": "2020-09-14T14:21:22.598615Z",
     "start_time": "2020-09-14T14:21:22.595045Z"
    }
   },
   "outputs": [],
   "source": [
    "f = open('test.txt','w')\n",
    "f.write('hello world')\n",
    "\n",
    "f.close()"
   ]
  },
  {
   "cell_type": "code",
   "execution_count": null,
   "metadata": {},
   "outputs": [],
   "source": [
    "#read()"
   ]
  },
  {
   "cell_type": "code",
   "execution_count": 39,
   "metadata": {
    "ExecuteTime": {
     "end_time": "2020-09-14T14:22:53.052579Z",
     "start_time": "2020-09-14T14:22:53.047384Z"
    }
   },
   "outputs": [
    {
     "name": "stdout",
     "output_type": "stream",
     "text": [
      "hello world\n"
     ]
    }
   ],
   "source": [
    "f = open('test.txt','r')\n",
    "content = f.read()\n",
    "print(content)\n",
    "f.close()"
   ]
  },
  {
   "cell_type": "code",
   "execution_count": null,
   "metadata": {},
   "outputs": [],
   "source": [
    "#readline---读取一行\n",
    "#readlines---按行读取，读取所有数据"
   ]
  },
  {
   "cell_type": "code",
   "execution_count": 40,
   "metadata": {
    "ExecuteTime": {
     "end_time": "2020-09-14T14:24:25.363932Z",
     "start_time": "2020-09-14T14:24:25.360640Z"
    }
   },
   "outputs": [],
   "source": [
    "import os"
   ]
  },
  {
   "cell_type": "code",
   "execution_count": 41,
   "metadata": {
    "ExecuteTime": {
     "end_time": "2020-09-14T14:25:02.328916Z",
     "start_time": "2020-09-14T14:25:02.324958Z"
    }
   },
   "outputs": [],
   "source": [
    "os.rename('test.txt','haha.txt')"
   ]
  },
  {
   "cell_type": "code",
   "execution_count": 42,
   "metadata": {
    "ExecuteTime": {
     "end_time": "2020-09-14T14:25:27.589012Z",
     "start_time": "2020-09-14T14:25:27.585495Z"
    }
   },
   "outputs": [],
   "source": [
    "os.remove('haha.txt')"
   ]
  },
  {
   "cell_type": "markdown",
   "metadata": {},
   "source": [
    "### 文件夹的操作\n",
    "\n",
    "- 文件夹创建\n",
    "- 获取当前目录\n",
    "- 获取目录列表\n",
    "- 删除文件夹"
   ]
  },
  {
   "cell_type": "code",
   "execution_count": null,
   "metadata": {},
   "outputs": [],
   "source": [
    "#mkdir()"
   ]
  },
  {
   "cell_type": "code",
   "execution_count": 43,
   "metadata": {
    "ExecuteTime": {
     "end_time": "2020-09-14T14:26:07.365202Z",
     "start_time": "2020-09-14T14:26:07.360439Z"
    }
   },
   "outputs": [],
   "source": [
    "os.mkdir('张三')"
   ]
  },
  {
   "cell_type": "code",
   "execution_count": 44,
   "metadata": {
    "ExecuteTime": {
     "end_time": "2020-09-14T14:26:30.659631Z",
     "start_time": "2020-09-14T14:26:30.654073Z"
    }
   },
   "outputs": [
    {
     "data": {
      "text/plain": [
       "'/Users/sxl/七月在线/集12'"
      ]
     },
     "execution_count": 44,
     "metadata": {},
     "output_type": "execute_result"
    }
   ],
   "source": [
    "os.getcwd()"
   ]
  },
  {
   "cell_type": "code",
   "execution_count": 46,
   "metadata": {
    "ExecuteTime": {
     "end_time": "2020-09-14T14:27:17.393699Z",
     "start_time": "2020-09-14T14:27:17.388184Z"
    }
   },
   "outputs": [
    {
     "data": {
      "text/plain": [
       "['.ipynb_checkpoints', '张三', '01-Python.ipynb']"
      ]
     },
     "execution_count": 46,
     "metadata": {},
     "output_type": "execute_result"
    }
   ],
   "source": [
    "os.listdir('./')"
   ]
  },
  {
   "cell_type": "code",
   "execution_count": 47,
   "metadata": {
    "ExecuteTime": {
     "end_time": "2020-09-14T14:27:18.578732Z",
     "start_time": "2020-09-14T14:27:18.574129Z"
    }
   },
   "outputs": [],
   "source": [
    "os.rmdir('张三')"
   ]
  },
  {
   "cell_type": "markdown",
   "metadata": {},
   "source": [
    "### 异常\n"
   ]
  },
  {
   "cell_type": "code",
   "execution_count": 48,
   "metadata": {
    "ExecuteTime": {
     "end_time": "2020-09-14T14:28:20.737523Z",
     "start_time": "2020-09-14T14:28:20.724983Z"
    }
   },
   "outputs": [
    {
     "ename": "FileNotFoundError",
     "evalue": "[Errno 2] No such file or directory: '123.txt'",
     "output_type": "error",
     "traceback": [
      "\u001b[0;31m---------------------------------------------------------------------------\u001b[0m",
      "\u001b[0;31mFileNotFoundError\u001b[0m                         Traceback (most recent call last)",
      "\u001b[0;32m<ipython-input-48-f756bd813b9a>\u001b[0m in \u001b[0;36m<module>\u001b[0;34m\u001b[0m\n\u001b[0;32m----> 1\u001b[0;31m \u001b[0mopen\u001b[0m\u001b[0;34m(\u001b[0m\u001b[0;34m'123.txt'\u001b[0m\u001b[0;34m,\u001b[0m\u001b[0;34m'r'\u001b[0m\u001b[0;34m)\u001b[0m\u001b[0;34m\u001b[0m\u001b[0;34m\u001b[0m\u001b[0m\n\u001b[0m\u001b[1;32m      2\u001b[0m \"\"\"\n\u001b[1;32m      3\u001b[0m \u001b[0m打开一个不存在的文件123\u001b[0m\u001b[0;34m.\u001b[0m\u001b[0mtxt\u001b[0m\u001b[0;31m，\u001b[0m\u001b[0m当找不到123\u001b[0m\u001b[0;34m.\u001b[0m\u001b[0mtxt\u001b[0m \u001b[0m文件时\u001b[0m\u001b[0;31m，\u001b[0m\u001b[0;34m\u001b[0m\u001b[0;34m\u001b[0m\u001b[0m\n\u001b[1;32m      4\u001b[0m \u001b[0m就会抛出给我们一个IOError类型的错误\u001b[0m\u001b[0;31m，\u001b[0m\u001b[0;34m\u001b[0m\u001b[0;34m\u001b[0m\u001b[0m\n\u001b[1;32m      5\u001b[0m \u001b[0mNo\u001b[0m \u001b[0msuch\u001b[0m \u001b[0mfile\u001b[0m \u001b[0;32mor\u001b[0m \u001b[0mdirectory\u001b[0m\u001b[0;31m：\u001b[0m\u001b[0;36m123.\u001b[0m\u001b[0mtxt\u001b[0m\u001b[0;31m \u001b[0m\u001b[0;31m（\u001b[0m\u001b[0m没有123\u001b[0m\u001b[0;34m.\u001b[0m\u001b[0mtxt这样的文件或目录\u001b[0m\u001b[0;31m）\u001b[0m\u001b[0;34m\u001b[0m\u001b[0;34m\u001b[0m\u001b[0m\n",
      "\u001b[0;31mFileNotFoundError\u001b[0m: [Errno 2] No such file or directory: '123.txt'"
     ]
    }
   ],
   "source": [
    "open('123.txt','r')\n",
    "\"\"\"\n",
    "打开一个不存在的文件123.txt，当找不到123.txt 文件时，\n",
    "就会抛出给我们一个IOError类型的错误，\n",
    "No such file or directory：123.txt （没有123.txt这样的文件或目录）\n",
    "\"\"\""
   ]
  },
  {
   "cell_type": "markdown",
   "metadata": {},
   "source": [
    "#### 异常的处理\n",
    "\n",
    "当出现异常情况时改如何处理？\n",
    "\n",
    "   捕获异常\n",
    "   \n",
    "捕获异常的基本格式：\n",
    "\n",
    "   try...except..."
   ]
  },
  {
   "cell_type": "code",
   "execution_count": 50,
   "metadata": {
    "ExecuteTime": {
     "end_time": "2020-09-14T14:30:07.404032Z",
     "start_time": "2020-09-14T14:30:07.399418Z"
    }
   },
   "outputs": [
    {
     "name": "stdout",
     "output_type": "stream",
     "text": [
      "-----test--1---\n",
      "123.txt文件找不到\n"
     ]
    }
   ],
   "source": [
    "try:\n",
    "    print('-----test--1---')\n",
    "    open('123.txt','r')\n",
    "    print('-----test--2---')\n",
    "except IOError:\n",
    "    print('123.txt文件找不到')"
   ]
  },
  {
   "cell_type": "markdown",
   "metadata": {},
   "source": [
    "#### else\n",
    "\n",
    "咱们应该对else并不陌生，在if中，它的作用是当条件不满足时执行的实行；\n",
    "\n",
    "同样在try...except...中也是如此，即如果没有捕获到异常，那么就执行else中的事情\n",
    "\n",
    "\n"
   ]
  },
  {
   "cell_type": "code",
   "execution_count": null,
   "metadata": {},
   "outputs": [],
   "source": [
    "try:\n",
    "    num = 100\n",
    "    print(num)\n",
    "except NameError as errorMsg:\n",
    "    print('产生错误了:%s'%errorMsg)\n",
    "else:\n",
    "    print('没有捕获到异常，真高兴')\n"
   ]
  },
  {
   "cell_type": "markdown",
   "metadata": {},
   "source": [
    "#### try...finally...\n",
    "\n",
    "try...finally...语句用来表达这样的情况：\n",
    "\n",
    "在程序中，如果一个段代码必须要执行，即无论异常是否产生都要执行，那么此时就需要使用finally。\n",
    "\n",
    "比如文件关闭，释放锁，把数据库连接返还给连接池等"
   ]
  },
  {
   "cell_type": "markdown",
   "metadata": {},
   "source": [
    "#### 自定义异常\n",
    "\n",
    "你可以用raise语句来引发一个异常"
   ]
  },
  {
   "cell_type": "code",
   "execution_count": null,
   "metadata": {},
   "outputs": [],
   "source": [
    "class ShortInputException(Exception):\n",
    "    def __init__(self, length, atleast):\n",
    "        #super().__init__()\n",
    "        self.length = length\n",
    "        self.atleast = atleast\n",
    "\n",
    "def main():\n",
    "    try:\n",
    "        s = input('请输入 --> ')\n",
    "        if len(s) < 3:\n",
    "            # raise引发一个你定义的异常\n",
    "            raise ShortInputException(len(s), 3)\n",
    "    except ShortInputException as result:#x这个变量被绑定到了错误的实例\n",
    "        print('ShortInputException: 输入的长度是 %d,长度至少应是 %d'% \n",
    "              (result.length, result.atleast))\n",
    "    else:\n",
    "        print('没有异常发生.')\n",
    "\n",
    "main()"
   ]
  },
  {
   "cell_type": "code",
   "execution_count": null,
   "metadata": {
    "ExecuteTime": {
     "start_time": "2020-09-14T14:38:18.222Z"
    }
   },
   "outputs": [],
   "source": [
    "import pdb\n",
    "pdb.set_trace()\n",
    "\n",
    "def sum(a,b):\n",
    "    c = a + b\n",
    "    return c\n",
    "a = 1\n",
    "b = 2\n",
    "c = sum(a,b)\n",
    "print(c)"
   ]
  },
  {
   "cell_type": "markdown",
   "metadata": {
    "ExecuteTime": {
     "end_time": "2020-09-15T01:58:16.042313Z",
     "start_time": "2020-09-15T01:58:16.035275Z"
    }
   },
   "source": [
    "\n",
    "完整命令   简写命令         描述\n",
    "\n",
    "args       a          打印当前函数的参数\n",
    "\n",
    "break      b          设置断点\n",
    "\n",
    "clear       cl         清除断点\n",
    "\n",
    "condition   无          设置条件断点\n",
    "\n",
    "continue    c或者cont     继续运行，知道遇到断点或者脚本结束\n",
    "\n",
    "disable     无           禁用断点\n",
    "\n",
    "enable      无           启用断点\n",
    "\n",
    "help        h            查看pdb帮助\n",
    "\n",
    "ignore      无            忽略断点\n",
    "\n",
    "jump        j            跳转到指定行数运行\n",
    "\n",
    "list        l            列出脚本清单\n",
    "\n",
    "next        n            执行下条语句，遇到函数不进入其内部\n",
    "\n",
    "p           p            打印变量值，也可以用print\n",
    "\n",
    "quit        q            退出 pdb\n",
    "\n",
    "return      r            一直运行到函数返回\n",
    "\n",
    "tbreak      无            设置临时断点，断点只中断一次\n",
    "\n",
    "step         s            执行下一条语句，遇到函数进入其内部\n",
    "\n",
    "where        w             查看所在的位置\n"
   ]
  },
  {
   "cell_type": "code",
   "execution_count": null,
   "metadata": {},
   "outputs": [],
   "source": []
  },
  {
   "cell_type": "markdown",
   "metadata": {
    "ExecuteTime": {
     "start_time": "2020-09-15T01:42:44.035Z"
    }
   },
   "source": [
    "安装NBextensions的步骤\n",
    "\n",
    "#### windows\n",
    "- 1：确定是已经安装好anaconda\n",
    "- 2：要在anaconda prompt模式下运行（jupyter notebook打开）\n",
    "- 3：pip install jupyter_contrib_nbextensions（安装成功后，关掉jupyter notebook及相关网页，并重新打开，观察是否安装成功）\n",
    "- 4：如果发现依旧失败，则可进行此步骤，注意（jupyter notebook关闭）             \n",
    "       进行配置：jupyter contrib nbextension install --user --skip-running-check\n",
    "- 5：安装完成后，重新启动jupyter notebook，“Nbextensions”出现在导航栏中，勾选目录。 \n",
    "\n",
    "#### macos\n",
    "- 1：确定是已经安装好anaconda\n",
    "- 2：要在Mac终端下运行，如何找到终端（启动台-其他-终端）\n",
    "- 3：先安装nbextensions依次输入运行下面代码：\n",
    "   pip install jupyter_contrib_nbextensionsjupyter contrib nbextension install --user\n",
    "- 4：再安装nbextensions_configurator,依次输入运行以下代码：\n",
    "   pip install jupyter_nbextensions_configuratorjupyter nbextensions_configurator enable --user\n",
    "- 5：安装完成后，关终端，启动anaconda中的jupyter notebook,在主页中，可以看见Nbextensions标签页，选中Hinterland 就能使用代码补全了。\n",
    "\n",
    "##### 里面几个常用的插件\n",
    "- Table of Contents：更容易导航\n",
    "- Autopep8：轻轻一击就能获得简洁代码，相当于代码的格式化\n",
    "- variable inspector：跟踪你的工作空间\n",
    "- ExecuteTime：显示单元格的运行时间和耗时，后面在讲到magic里面有和他相似的内容功能"
   ]
  },
  {
   "cell_type": "code",
   "execution_count": null,
   "metadata": {},
   "outputs": [],
   "source": []
  },
  {
   "cell_type": "code",
   "execution_count": null,
   "metadata": {},
   "outputs": [],
   "source": []
  }
 ],
 "metadata": {
  "kernelspec": {
   "display_name": "Python 3",
   "language": "python",
   "name": "python3"
  },
  "language_info": {
   "codemirror_mode": {
    "name": "ipython",
    "version": 3
   },
   "file_extension": ".py",
   "mimetype": "text/x-python",
   "name": "python",
   "nbconvert_exporter": "python",
   "pygments_lexer": "ipython3",
   "version": "3.7.6"
  },
  "latex_envs": {
   "LaTeX_envs_menu_present": true,
   "autoclose": false,
   "autocomplete": true,
   "bibliofile": "biblio.bib",
   "cite_by": "apalike",
   "current_citInitial": 1,
   "eqLabelWithNumbers": true,
   "eqNumInitial": 1,
   "hotkeys": {
    "equation": "Ctrl-E",
    "itemize": "Ctrl-I"
   },
   "labels_anchors": false,
   "latex_user_defs": false,
   "report_style_numbering": false,
   "user_envs_cfg": false
  },
  "toc": {
   "base_numbering": 1,
   "nav_menu": {},
   "number_sections": true,
   "sideBar": true,
   "skip_h1_title": false,
   "title_cell": "Table of Contents",
   "title_sidebar": "Contents",
   "toc_cell": false,
   "toc_position": {
    "height": "calc(100% - 180px)",
    "left": "10px",
    "top": "150px",
    "width": "336.9791564941406px"
   },
   "toc_section_display": true,
   "toc_window_display": true
  }
 },
 "nbformat": 4,
 "nbformat_minor": 2
}
