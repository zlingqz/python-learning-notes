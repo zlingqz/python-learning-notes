{
 "cells": [
  {
   "cell_type": "markdown",
   "metadata": {},
   "source": [
    "<img src='data:image/png;base64,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'>\n",
    "\n",
    "# 七月在线 《Python基础入门 第三期》 第二课 Python编程基础（上）\n",
    "\n",
    "\n",
    "> [七月在线](https://www.julyedu.com) David@2018-12-02"
   ]
  },
  {
   "cell_type": "markdown",
   "metadata": {},
   "source": [
    "## 本节课程目标\n",
    "### 复习上节课内容\n",
    "### Python基础语法格式，表达式与声明\n",
    "###  关键字、标准操作符，名字，赋值与名字空间\n",
    "###  Python中的对象：不可变对象(数字与字符串)，可变对象(List,Tuple,Dict等)相应操作与访问\n",
    "###  Python内置电池简介\n",
    "### 完成课后作业："
   ]
  },
  {
   "cell_type": "markdown",
   "metadata": {},
   "source": [
    "## Python基础语法格式，表达式与声明¶"
   ]
  },
  {
   "cell_type": "markdown",
   "metadata": {},
   "source": [
    "### Python基础语法格式"
   ]
  },
  {
   "cell_type": "code",
   "execution_count": 1,
   "metadata": {
    "ExecuteTime": {
     "end_time": "2018-12-08T12:24:37.278990Z",
     "start_time": "2018-12-08T12:24:37.211990Z"
    }
   },
   "outputs": [
    {
     "name": "stdout",
     "output_type": "stream",
     "text": [
      "hello,python\n",
      "hello!\n",
      "f\n",
      "hello,\n",
      " python\n",
      "hello,\" python\n",
      "在线课程：1-基本python类型、判断与循环流程等\n",
      "在线实训：2-python基本练习题\n",
      "在线课程：3-文件/数据读写、面向对象、第三方库等\n",
      "在线实训：4-多种数据读写与面向对象练习\n",
      "线下实训：5-python基本练习题 与 google python实战题\n",
      "I' am 007\n",
      "hello\n",
      "python!\n",
      "welcome to julyedu.com\n",
      "['__add__', '__class__', '__contains__', '__delattr__', '__dir__', '__doc__', '__eq__', '__format__', '__ge__', '__getattribute__', '__getitem__', '__getnewargs__', '__gt__', '__hash__', '__init__', '__init_subclass__', '__iter__', '__le__', '__len__', '__lt__', '__mod__', '__mul__', '__ne__', '__new__', '__reduce__', '__reduce_ex__', '__repr__', '__rmod__', '__rmul__', '__setattr__', '__sizeof__', '__str__', '__subclasshook__', 'capitalize', 'casefold', 'center', 'count', 'encode', 'endswith', 'expandtabs', 'find', 'format', 'format_map', 'index', 'isalnum', 'isalpha', 'isdecimal', 'isdigit', 'isidentifier', 'islower', 'isnumeric', 'isprintable', 'isspace', 'istitle', 'isupper', 'join', 'ljust', 'lower', 'lstrip', 'maketrans', 'partition', 'replace', 'rfind', 'rindex', 'rjust', 'rpartition', 'rsplit', 'rstrip', 'split', 'splitlines', 'startswith', 'strip', 'swapcase', 'title', 'translate', 'upper', 'zfill']\n",
      "str(object='') -> str\n",
      "str(bytes_or_buffer[, encoding[, errors]]) -> str\n",
      "\n",
      "Create a new string object from the given object. If encoding or\n",
      "errors is specified, then the object must expose a data buffer\n",
      "that will be decoded using the given encoding and error handler.\n",
      "Otherwise, returns the result of object.__str__() (if defined)\n",
      "or repr(object).\n",
      "encoding defaults to sys.getdefaultencoding().\n",
      "errors defaults to 'strict'.\n"
     ]
    }
   ],
   "source": [
    "# 注释与多行注释\n",
    "print('hello,python')\n",
    "print('hello!')\n",
    "\n",
    "#\\反斜线\n",
    "#/斜线\n",
    "\n",
    "prin\\\n",
    "t('f')\n",
    "\n",
    "#代码分隔\\\n",
    "source_code=\\\n",
    "'''\n",
    "base_string='julyedu.com'\n",
    "\n",
    "def test1(a,b):\n",
    " return a+b\n",
    "\n",
    "def test2(c):\n",
    " x=7\n",
    " print(c**2+x)\n",
    "'''\n",
    "\n",
    "#文本\n",
    "print('hello,\\n python')\n",
    "\n",
    "print('hello,\" python')\n",
    "\n",
    "#单行与多行文本的初始化\n",
    "str0=''\n",
    "\n",
    "str1=\"julyedu.com\"\n",
    "\n",
    "str2='''在线课程：1-基本python类型、判断与循环流程等\n",
    "在线实训：2-python基本练习题\n",
    "在线课程：3-文件/数据读写、面向对象、第三方库等\n",
    "在线实训：4-多种数据读写与面向对象练习\n",
    "线下实训：5-python基本练习题 与 google python实战题'''\n",
    "\n",
    "print(str2)\n",
    "\n",
    "#文本转义\n",
    "print('I\\' am 007')\n",
    "\n",
    "\n",
    "#一行写多行python代码;\n",
    "print('hello');print('python!')\n",
    "\n",
    "\n",
    "# 缩进 PEP8   https://www.python.org/dev/peps/pep-0008/\n",
    "# PEP是Python Enhancement Proposals的缩写。\n",
    "# 一个PEP是一份为Python社区提供各种增强功能的技术规格，也是提交新特性，以便让社区指出问题，精确化技术文档的提案。\n",
    "\n",
    "#分隔代码块:\n",
    "\n",
    "title='Julyedu.com';score=61\n",
    "\n",
    "if title=='Julyedu.com':\n",
    "    print('welcome to julyedu.com')\n",
    "    if score<60:\n",
    "        pass\n",
    "\n",
    "#空行 pass\n",
    "# def myfunc():\n",
    "#     pass\n",
    "\n",
    "#模块\n",
    "import random\n",
    "# dir(random)\n",
    "\n",
    "#帮助的使用\n",
    "#dir,help,?,??,shift+tab,tab,相关Python的小抄\n",
    "s1='china'\n",
    "print(dir(s1))\n",
    "print(s1.__doc__)\n",
    "s1.rfind?"
   ]
  },
  {
   "cell_type": "markdown",
   "metadata": {},
   "source": [
    "### 表达式与声明"
   ]
  },
  {
   "cell_type": "code",
   "execution_count": 9,
   "metadata": {},
   "outputs": [
    {
     "data": {
      "text/plain": [
       "(100, 200, 'julyedu.com is amazing', <module 'builtins' (built-in)>)"
      ]
     },
     "execution_count": 9,
     "metadata": {},
     "output_type": "execute_result"
    }
   ],
   "source": [
    "#### statement声明\n",
    "a='julyedu.com'#statement通常为赋值语句\n",
    "b=100\n",
    "c=a\n",
    "\n",
    "#### expression表达式（通常有返回结果 ）\n",
    "\n",
    "#值、变量和运算符共同组成的整体我们将其称为表达式。通常有值表达式、变量表达式、计算表达式、字符串表达式,\n",
    "b,b+100,a+' is amazing',__builtins__"
   ]
  },
  {
   "cell_type": "markdown",
   "metadata": {},
   "source": [
    "#### exec执行声明语句,eval执行表达式"
   ]
  },
  {
   "cell_type": "code",
   "execution_count": 4,
   "metadata": {
    "ExecuteTime": {
     "end_time": "2018-12-08T12:28:19.149478Z",
     "start_time": "2018-12-08T12:28:19.145477Z"
    }
   },
   "outputs": [
    {
     "data": {
      "text/plain": [
       "'aaaa=7'"
      ]
     },
     "execution_count": 4,
     "metadata": {},
     "output_type": "execute_result"
    }
   ],
   "source": [
    "'aaaa=7'"
   ]
  },
  {
   "cell_type": "code",
   "execution_count": 7,
   "metadata": {
    "ExecuteTime": {
     "end_time": "2018-12-08T12:29:06.417318Z",
     "start_time": "2018-12-08T12:29:06.411317Z"
    }
   },
   "outputs": [
    {
     "data": {
      "text/plain": [
       "7"
      ]
     },
     "execution_count": 7,
     "metadata": {},
     "output_type": "execute_result"
    }
   ],
   "source": [
    "exec('aaaa=7')\n",
    "aaaa"
   ]
  },
  {
   "cell_type": "code",
   "execution_count": null,
   "metadata": {},
   "outputs": [],
   "source": [
    "str1=input()"
   ]
  },
  {
   "cell_type": "code",
   "execution_count": null,
   "metadata": {},
   "outputs": [],
   "source": [
    "exec('aaa=7')#从字符串里执行一个声明语句\n",
    "eval('aaa')#从字符串里执行一个表达式"
   ]
  },
  {
   "cell_type": "code",
   "execution_count": 8,
   "metadata": {
    "ExecuteTime": {
     "end_time": "2018-12-08T12:29:47.497446Z",
     "start_time": "2018-12-08T12:29:47.492443Z"
    }
   },
   "outputs": [
    {
     "data": {
      "text/plain": [
       "7"
      ]
     },
     "execution_count": 8,
     "metadata": {},
     "output_type": "execute_result"
    }
   ],
   "source": [
    "eval('aaaa')"
   ]
  },
  {
   "cell_type": "code",
   "execution_count": 9,
   "metadata": {
    "ExecuteTime": {
     "end_time": "2018-12-08T12:29:52.200795Z",
     "start_time": "2018-12-08T12:29:52.188824Z"
    }
   },
   "outputs": [
    {
     "data": {
      "text/plain": [
       "'aaaa'"
      ]
     },
     "execution_count": 9,
     "metadata": {},
     "output_type": "execute_result"
    }
   ],
   "source": [
    "'aaaa'"
   ]
  },
  {
   "cell_type": "markdown",
   "metadata": {},
   "source": [
    "## 关键字、标识符，标准操作符，名字，赋值与名字空间"
   ]
  },
  {
   "cell_type": "markdown",
   "metadata": {},
   "source": [
    "### Python中保留的关键字"
   ]
  },
  {
   "cell_type": "code",
   "execution_count": 13,
   "metadata": {},
   "outputs": [
    {
     "name": "stdout",
     "output_type": "stream",
     "text": [
      "['False', 'None', 'True', 'and', 'as', 'assert', 'break', 'class', 'continue', 'def', 'del', 'elif', 'else', 'except', 'finally', 'for', 'from', 'global', 'if', 'import', 'in', 'is', 'lambda', 'nonlocal', 'not', 'or', 'pass', 'raise', 'return', 'try', 'while', 'with', 'yield']\n"
     ]
    }
   ],
   "source": [
    "import keyword\n",
    "print(keyword.kwlist)"
   ]
  },
  {
   "cell_type": "markdown",
   "metadata": {},
   "source": [
    "### 合法标识符\n",
    "- 数字，下划线，字母构成\n",
    "- 避开关键字\n",
    "- 不能用数字开头\n",
    "```\n",
    "如以下标识符取名错误\n",
    "for='julyedu.com'\n",
    "7a=8\n",
    "str='七月在线'\n",
    "```\n",
    "\n",
    "#### 好的命名习惯让开发更有效率\n",
    "- 变量，函数或方法:salary,houseworker,booksname   \n",
    "- 常量：INTEREST_RATES   \n",
    "- 类：BankAccount,Employee,Company,OrderedDict #骆峰命名法\n",
    "\n",
    "#### 名字与对象之间的建立引用与解除引用\n",
    "我们可以使用`=`建立名字与对象之间的关联，用`del 名字`来解除这种关联"
   ]
  },
  {
   "cell_type": "markdown",
   "metadata": {},
   "source": [
    "### 标准操作符"
   ]
  },
  {
   "cell_type": "code",
   "execution_count": 6,
   "metadata": {},
   "outputs": [
    {
     "name": "stdout",
     "output_type": "stream",
     "text": [
      "a not equal b\n",
      "a is grater than 50\n",
      ".net not in it\n",
      "200 100\n",
      "1 2 3 4 5\n",
      "1 [2, 3, 4, 5] 6\n",
      "[[3, 4, 5]] [3, 4, 5]\n"
     ]
    }
   ],
   "source": [
    "#算术运算符\n",
    "a=100;b=3\n",
    "a+b;a-b;a*b;a/b\n",
    "a//b #取商\n",
    "a%b #取余\n",
    "a**2\n",
    "a**0.5\n",
    "\n",
    "#比较运算符  \n",
    "if a==b:\n",
    "    print ('a equal b')\n",
    "\n",
    "if a!=b:\n",
    "    print ('a not equal b')\n",
    "    \n",
    "#逻辑运算符><>=,\n",
    "if a>=50:\n",
    "    print('a is grater than 50')\n",
    "    \n",
    "#成员运算符in,not in\n",
    "websiteUrl='julyedu.com'\n",
    "if '.net' not in websiteUrl:\n",
    "    print ('.net not in it')\n",
    "    \n",
    "    \n",
    "#赋值\n",
    "\n",
    "#多重赋值\n",
    "#a=100;b=100\n",
    "a=b=100\n",
    "\n",
    "#多元赋值\n",
    "#a=100;b=200\n",
    "a,b,c=100,200,200\n",
    "\n",
    "#交换赋值\n",
    "a,b=b,a\n",
    "print(a,b)\n",
    "\n",
    "#unpack解包\n",
    "l1=[1,2,3,4,5,'6']\n",
    "a,b,c,d,e,f=l1\n",
    "print(a,b,c,d,e)\n",
    "\n",
    "#*号收集\n",
    "a,*b,c=l1\n",
    "print(a,b,c)\n",
    "\n",
    "#*号展开,针对序列\n",
    "l1=[1,2,3,4]\n",
    "s1='julyedu.com'\n",
    "[*l1,*s1]\n",
    "\n",
    "#*号展开,针对字典\n",
    "d1={'name':'machine learning 5th','add':'BJ,SH,*'}\n",
    "[*d1],{**d1,'date':'2018-7-30'}\n",
    "\n",
    "#,号放在最后的解包\n",
    "l1=[[3,4,5]]\n",
    "a=l1\n",
    "b,=l1\n",
    "print(a,b)"
   ]
  },
  {
   "cell_type": "markdown",
   "metadata": {},
   "source": [
    "##### 扩展阅读：运算符的优先级\n",
    "```\n",
    "第一名 - 函数调用、寻址、下标\n",
    "第二名 - 幂运算 **\n",
    "第三名 - 翻转运算符 ~\n",
    "第四名 - 正负号\n",
    "第五名 - *、/、%\n",
    "第六名 - +、-\n",
    "```"
   ]
  },
  {
   "cell_type": "markdown",
   "metadata": {},
   "source": [
    "### 名字，赋值与名字空间"
   ]
  },
  {
   "cell_type": "markdown",
   "metadata": {},
   "source": [
    "名字空间与局部作用域L,全局作用域G   \n",
    "在《程序设计语言——实践之路》里的术语，将名字和与其绑定的对象之间的关系，称为约束。赋值语句就是约束建立的地方。  \n",
    "约束既然是（name，obj）这样的关联关系，约束关系的容身之地便是就是名字空间（字典对象）"
   ]
  },
  {
   "cell_type": "code",
   "execution_count": 13,
   "metadata": {
    "ExecuteTime": {
     "end_time": "2018-12-08T12:34:28.738193Z",
     "start_time": "2018-12-08T12:34:22.662688Z"
    }
   },
   "outputs": [
    {
     "name": "stdout",
     "output_type": "stream",
     "text": [
      "Once deleted, variables cannot be recovered. Proceed (y/[n])? y\n"
     ]
    }
   ],
   "source": [
    "%reset"
   ]
  },
  {
   "cell_type": "code",
   "execution_count": 20,
   "metadata": {
    "ExecuteTime": {
     "end_time": "2018-12-08T12:35:55.675467Z",
     "start_time": "2018-12-08T12:35:55.665469Z"
    }
   },
   "outputs": [
    {
     "name": "stdout",
     "output_type": "stream",
     "text": [
      "Variable   Type    Data/Info\n",
      "----------------------------\n",
      "a          int     5\n"
     ]
    },
    {
     "data": {
      "text/plain": [
       "['ArithmeticError',\n",
       " 'AssertionError',\n",
       " 'AttributeError',\n",
       " 'BaseException',\n",
       " 'BlockingIOError',\n",
       " 'BrokenPipeError',\n",
       " 'BufferError',\n",
       " 'BytesWarning',\n",
       " 'ChildProcessError',\n",
       " 'ConnectionAbortedError',\n",
       " 'ConnectionError',\n",
       " 'ConnectionRefusedError',\n",
       " 'ConnectionResetError',\n",
       " 'DeprecationWarning',\n",
       " 'EOFError',\n",
       " 'Ellipsis',\n",
       " 'EnvironmentError',\n",
       " 'Exception',\n",
       " 'False',\n",
       " 'FileExistsError',\n",
       " 'FileNotFoundError',\n",
       " 'FloatingPointError',\n",
       " 'FutureWarning',\n",
       " 'GeneratorExit',\n",
       " 'IOError',\n",
       " 'ImportError',\n",
       " 'ImportWarning',\n",
       " 'IndentationError',\n",
       " 'IndexError',\n",
       " 'InterruptedError',\n",
       " 'IsADirectoryError',\n",
       " 'KeyError',\n",
       " 'KeyboardInterrupt',\n",
       " 'LookupError',\n",
       " 'MemoryError',\n",
       " 'ModuleNotFoundError',\n",
       " 'NameError',\n",
       " 'None',\n",
       " 'NotADirectoryError',\n",
       " 'NotImplemented',\n",
       " 'NotImplementedError',\n",
       " 'OSError',\n",
       " 'OverflowError',\n",
       " 'PendingDeprecationWarning',\n",
       " 'PermissionError',\n",
       " 'ProcessLookupError',\n",
       " 'RecursionError',\n",
       " 'ReferenceError',\n",
       " 'ResourceWarning',\n",
       " 'RuntimeError',\n",
       " 'RuntimeWarning',\n",
       " 'StopAsyncIteration',\n",
       " 'StopIteration',\n",
       " 'SyntaxError',\n",
       " 'SyntaxWarning',\n",
       " 'SystemError',\n",
       " 'SystemExit',\n",
       " 'TabError',\n",
       " 'TimeoutError',\n",
       " 'True',\n",
       " 'TypeError',\n",
       " 'UnboundLocalError',\n",
       " 'UnicodeDecodeError',\n",
       " 'UnicodeEncodeError',\n",
       " 'UnicodeError',\n",
       " 'UnicodeTranslateError',\n",
       " 'UnicodeWarning',\n",
       " 'UserWarning',\n",
       " 'ValueError',\n",
       " 'Warning',\n",
       " 'WindowsError',\n",
       " 'ZeroDivisionError',\n",
       " '__IPYTHON__',\n",
       " '__build_class__',\n",
       " '__debug__',\n",
       " '__doc__',\n",
       " '__import__',\n",
       " '__loader__',\n",
       " '__name__',\n",
       " '__package__',\n",
       " '__spec__',\n",
       " 'abs',\n",
       " 'all',\n",
       " 'any',\n",
       " 'ascii',\n",
       " 'bin',\n",
       " 'bool',\n",
       " 'bytearray',\n",
       " 'bytes',\n",
       " 'callable',\n",
       " 'chr',\n",
       " 'classmethod',\n",
       " 'compile',\n",
       " 'complex',\n",
       " 'copyright',\n",
       " 'credits',\n",
       " 'delattr',\n",
       " 'dict',\n",
       " 'dir',\n",
       " 'display',\n",
       " 'divmod',\n",
       " 'enumerate',\n",
       " 'eval',\n",
       " 'exec',\n",
       " 'filter',\n",
       " 'float',\n",
       " 'format',\n",
       " 'frozenset',\n",
       " 'get_ipython',\n",
       " 'getattr',\n",
       " 'globals',\n",
       " 'hasattr',\n",
       " 'hash',\n",
       " 'help',\n",
       " 'hex',\n",
       " 'id',\n",
       " 'input',\n",
       " 'int',\n",
       " 'isinstance',\n",
       " 'issubclass',\n",
       " 'iter',\n",
       " 'len',\n",
       " 'license',\n",
       " 'list',\n",
       " 'locals',\n",
       " 'map',\n",
       " 'max',\n",
       " 'memoryview',\n",
       " 'min',\n",
       " 'next',\n",
       " 'object',\n",
       " 'oct',\n",
       " 'open',\n",
       " 'ord',\n",
       " 'pow',\n",
       " 'print',\n",
       " 'property',\n",
       " 'range',\n",
       " 'repr',\n",
       " 'reversed',\n",
       " 'round',\n",
       " 'set',\n",
       " 'setattr',\n",
       " 'slice',\n",
       " 'sorted',\n",
       " 'staticmethod',\n",
       " 'str',\n",
       " 'sum',\n",
       " 'super',\n",
       " 'tuple',\n",
       " 'type',\n",
       " 'vars',\n",
       " 'zip']"
      ]
     },
     "execution_count": 20,
     "metadata": {},
     "output_type": "execute_result"
    }
   ],
   "source": [
    "a=5\n",
    "%whos\n",
    "\n",
    "dir(__builtins__)"
   ]
  },
  {
   "cell_type": "code",
   "execution_count": null,
   "metadata": {},
   "outputs": [],
   "source": [
    "#当不在任何一个函数体内的时候的时候,locals()和globals()是同一个对象\n",
    "locals() is globals()\n",
    "\n",
    "# #而每当进入一个函数时，也会新产生一个locals(),这个locals()和globals（）就不在相同了，下节课讲\n",
    "\n",
    "# #普通命名法\n",
    "# teacher_name='david'\n",
    "# globals()\n",
    "\n",
    "#直接命名法\n",
    "globals()['teacher']='david'\n",
    "teacher"
   ]
  },
  {
   "cell_type": "code",
   "execution_count": 23,
   "metadata": {
    "ExecuteTime": {
     "end_time": "2018-12-08T12:37:18.454609Z",
     "start_time": "2018-12-08T12:37:18.452605Z"
    }
   },
   "outputs": [],
   "source": [
    "globals()['teacher']='david'"
   ]
  },
  {
   "cell_type": "code",
   "execution_count": 26,
   "metadata": {
    "ExecuteTime": {
     "end_time": "2018-12-08T12:37:48.010599Z",
     "start_time": "2018-12-08T12:37:48.004600Z"
    }
   },
   "outputs": [
    {
     "name": "stdout",
     "output_type": "stream",
     "text": [
      "Variable   Type    Data/Info\n",
      "----------------------------\n",
      "a          int     5\n",
      "teacher    str     david\n",
      "teacher1   str     jack\n"
     ]
    }
   ],
   "source": [
    "teacher1='jack'\n",
    "%whos"
   ]
  },
  {
   "cell_type": "markdown",
   "metadata": {},
   "source": [
    "## Python内置电池简介"
   ]
  },
  {
   "cell_type": "markdown",
   "metadata": {},
   "source": [
    "BIFs 自带电池(`__builtins__`模块)与模块作用域B\n",
    "\n",
    "内置模块__builtins__由解释器负责导入,受到解释器特殊对待"
   ]
  },
  {
   "cell_type": "markdown",
   "metadata": {},
   "source": [
    "### 常用功能说明\n",
    "```\n",
    "help(obj) 在线帮助, obj可是任何类型    \n",
    "\n",
    "\n",
    "eval(str) 表示合法的python表达式，返回这个表达式 \n",
    "exec(str) 执行合法的python声明，返回字节码\n",
    "\n",
    "\n",
    "#名字空间相关\n",
    "dir(obj) 查看obj的name space中可见的name\n",
    "vars(obj) 返回一个object的name space。用dictionary表示    \n",
    "locals() 返回一个局部name space,用dictionary表示    \n",
    "globals() 返回一个全局name space,用dictionary表示\n",
    "\n",
    "#类型\n",
    "type(obj) 查看一个obj的类型    \n",
    "isinstance(obj,cls) 查看obj是不是cls的instance    \n",
    "issubclass(subcls,supcls) 查看subcls是不是supcls的子类  \n",
    "\n",
    "#类型转换\n",
    "chr(i) 把一个ASCII数值,变成字符    \n",
    "ord(i) 把一个字符或者unicode字符,变成ASCII数值    \n",
    "oct(x) 把整数x变成八进制表示的字符串    \n",
    "hex(x) 把整数x变成十六进制表示的字符串    \n",
    "str(obj) 得到obj的字符串描述    \n",
    "list(seq) 把一个sequence转换成一个list    \n",
    "tuple(seq) 把一个sequence转换成一个tuple    \n",
    "dict(),dict(list) 转换成一个dictionary    \n",
    "int(x) 转换成一个integer    \n",
    "long(x) 转换成一个long interger    \n",
    "float(x) 转换成一个浮点数    \n",
    "complex(x) 转换成复数\n",
    "```"
   ]
  },
  {
   "cell_type": "markdown",
   "metadata": {},
   "source": [
    "### 除了全局作用域Global外,还有一个作用域叫Builtin,指的就是这个模块。。"
   ]
  },
  {
   "cell_type": "code",
   "execution_count": 32,
   "metadata": {
    "ExecuteTime": {
     "end_time": "2018-12-08T12:40:45.475785Z",
     "start_time": "2018-12-08T12:40:45.470815Z"
    }
   },
   "outputs": [],
   "source": [
    "__builtins__.name1='David'#把名为name，约束对象为'David'的kv，存储在了__builtins__这个模块中。而不是globals()中"
   ]
  },
  {
   "cell_type": "code",
   "execution_count": 33,
   "metadata": {
    "ExecuteTime": {
     "end_time": "2018-12-08T12:40:47.261022Z",
     "start_time": "2018-12-08T12:40:47.256029Z"
    }
   },
   "outputs": [
    {
     "name": "stdout",
     "output_type": "stream",
     "text": [
      "Variable   Type    Data/Info\n",
      "----------------------------\n",
      "a          int     5\n",
      "teacher    str     david\n",
      "teacher1   str     jack\n"
     ]
    }
   ],
   "source": [
    "%whos"
   ]
  },
  {
   "cell_type": "code",
   "execution_count": 34,
   "metadata": {
    "ExecuteTime": {
     "end_time": "2018-12-08T12:40:54.080817Z",
     "start_time": "2018-12-08T12:40:54.075813Z"
    }
   },
   "outputs": [
    {
     "data": {
      "text/plain": [
       "'David'"
      ]
     },
     "execution_count": 34,
     "metadata": {},
     "output_type": "execute_result"
    }
   ],
   "source": [
    "name1"
   ]
  },
  {
   "cell_type": "markdown",
   "metadata": {},
   "source": [
    "## Python中的对象：不可变对象(数字与字符串)，可变对象(List,Tuple,Dict等)相应操作与访问"
   ]
  },
  {
   "cell_type": "markdown",
   "metadata": {},
   "source": [
    "### Python中的对象："
   ]
  },
  {
   "cell_type": "code",
   "execution_count": 36,
   "metadata": {
    "ExecuteTime": {
     "end_time": "2018-12-08T12:41:54.688628Z",
     "start_time": "2018-12-08T12:41:54.678626Z"
    }
   },
   "outputs": [],
   "source": [
    "%config ZMQInteractiveShell.ast_node_interactivity='all'"
   ]
  },
  {
   "cell_type": "code",
   "execution_count": 38,
   "metadata": {
    "ExecuteTime": {
     "end_time": "2018-12-08T12:42:25.195597Z",
     "start_time": "2018-12-08T12:42:25.172634Z"
    }
   },
   "outputs": [
    {
     "data": {
      "text/plain": [
       "str"
      ]
     },
     "execution_count": 38,
     "metadata": {},
     "output_type": "execute_result"
    },
    {
     "data": {
      "text/plain": [
       "builtin_function_or_method"
      ]
     },
     "execution_count": 38,
     "metadata": {},
     "output_type": "execute_result"
    }
   ],
   "source": [
    "type('julyedu.com')\n",
    "type(len)"
   ]
  },
  {
   "cell_type": "markdown",
   "metadata": {},
   "source": [
    "#### True & False 与None对象"
   ]
  },
  {
   "cell_type": "code",
   "execution_count": 9,
   "metadata": {},
   "outputs": [
    {
     "name": "stdout",
     "output_type": "stream",
     "text": [
      "Test exists\n"
     ]
    }
   ],
   "source": [
    "#If后面的判断，除了bool型的true或false，还可以是对对象的判断。\n",
    "#如果对象的类型是NoneObject，则和False同理，否则为True.\n",
    "\n",
    "Test=None\n",
    "if Test:\n",
    "    print('None Object equals to True')\n",
    "Test='t'\n",
    "if Test:\n",
    "    print('Other Object equals to True')"
   ]
  },
  {
   "cell_type": "markdown",
   "metadata": {},
   "source": [
    "#### 使用type查看"
   ]
  },
  {
   "cell_type": "code",
   "execution_count": 4,
   "metadata": {},
   "outputs": [
    {
     "data": {
      "text/plain": [
       "function"
      ]
     },
     "execution_count": 4,
     "metadata": {},
     "output_type": "execute_result"
    }
   ],
   "source": [
    "type('str')\n",
    "\n",
    "type(len)\n",
    "\n",
    "def a():\n",
    "    pass\n",
    "\n",
    "type(a)"
   ]
  },
  {
   "cell_type": "markdown",
   "metadata": {},
   "source": [
    "### 不可变对象(数字与字符串)相应操作"
   ]
  },
  {
   "cell_type": "code",
   "execution_count": null,
   "metadata": {},
   "outputs": [],
   "source": [
    "#数值整形\n",
    "a=100;b=200\n",
    "\n",
    "#进制转换\n",
    "a=0b0101001#bin()\n",
    "b=0o4#oct()\n",
    "c=0x28#hex()\n",
    "\n",
    "#浮点型\n",
    "a=3.1415\n",
    "\n",
    "#科学计算法\n",
    "c=5e13\n",
    "print(c)\n",
    "\n",
    "#数字的正负无穷\n",
    "#float('inf')正无穷\n",
    "#float('-inf')负无穷\n",
    "if 99999999999999999<float('inf'):\n",
    "    print('you win!')\n",
    "\n",
    "#复数\n",
    "a=4.3+22j\n",
    "type(a)\n",
    "\n",
    "\n",
    "#数值类型转换\n",
    "a=4.48\n",
    "b=8\n",
    "int(a)\n",
    "\n",
    "round(a,1)"
   ]
  },
  {
   "cell_type": "markdown",
   "metadata": {},
   "source": [
    "#### 延伸阅读：数值塔（numerical tower）\n",
    "<img src='data:image/png;base64,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'>\n",
    "\n",
    "Python 的数值层次结构的灵感来自于 Scheme 语言的数值塔。   \n",
    "numbers 模块内并包括 Number, Complex,Real,Rational,Integral   \n"
   ]
  },
  {
   "cell_type": "code",
   "execution_count": null,
   "metadata": {},
   "outputs": [],
   "source": [
    "##字符串型\n",
    "#初始化及转义\n",
    "str1='''AI'''\n",
    "str2='Julyedu.com'\n",
    "\n",
    "\n",
    "#访问,索引及切片访问\n",
    "str2[-1]\n",
    "\n",
    "#str2[start:end:stried]\n",
    "#切片访问的特点：左闭右开[)\n",
    "str2[0:4]\n",
    "\n",
    "#格式化访问1\n",
    "companyName='julyedu'\n",
    "str3='http://{}.com'\n",
    "print(str3.format(companyName))\n",
    "\n",
    "#格式化访问2\n",
    "print(\"Company name is %s\" %companyName)\n",
    "\n",
    "#格式化访问3\n",
    "_='Python 3.6'#fstring only can be used under version 3.6\n",
    "str4=f\"fstring is new feature of {_}\"\n",
    "str4\n",
    "\n",
    "        \n",
    "        \n",
    "#查找与替换\n",
    "str3.find('o')\n",
    "str3.replace('.com','.net')\n",
    "\n",
    "#统计\n",
    "str3.count('com')a\n",
    "\n",
    "\n",
    "#布尔型\n",
    "\n",
    "###重要点：tab键与使用帮助\n",
    "#help(l1.extend)"
   ]
  },
  {
   "cell_type": "markdown",
   "metadata": {},
   "source": [
    "#### 延伸阅读：Python3下的bytes与str\n",
    "\n",
    "使用bytes类型，实质上是告诉Python，不需要它帮你自动地完成编码和解码的工作，而是用户自己手动进行，并指定编码格式。Python已经严格区分了bytes和str两种数据类型，你不能在需要bytes类型参数的时候使用str参数，反之亦然。\n",
    "\n",
    "编码过程：str->encode->bytes->decode->str\n",
    "\n",
    "ord()函数获取字符的整数表示，chr()函数把编码转换为对应的字符：\n",
    "len()函数计算的是str的字符数，如果换成bytes，len()函数就计算字节数"
   ]
  },
  {
   "cell_type": "code",
   "execution_count": 5,
   "metadata": {},
   "outputs": [
    {
     "data": {
      "text/plain": [
       "(b'\\xe4\\xb8\\xad', 20013, '0x4e2d', '中')"
      ]
     },
     "execution_count": 5,
     "metadata": {},
     "output_type": "execute_result"
    }
   ],
   "source": [
    "b='中'\n",
    "b.encode(),ord(b),hex(ord(b)),chr(20013)"
   ]
  },
  {
   "cell_type": "code",
   "execution_count": 7,
   "metadata": {},
   "outputs": [
    {
     "data": {
      "text/plain": [
       "(1, 3)"
      ]
     },
     "execution_count": 7,
     "metadata": {},
     "output_type": "execute_result"
    }
   ],
   "source": [
    "#1个中文字符经过UTF-8编码后通常会占用3个字节，而1个英文字符只占用1个字节。\n",
    "len(b),len(b.encode())"
   ]
  },
  {
   "cell_type": "markdown",
   "metadata": {},
   "source": [
    "#### 延伸阅读：Python3下的编码"
   ]
  },
  {
   "cell_type": "code",
   "execution_count": 10,
   "metadata": {},
   "outputs": [
    {
     "name": "stdout",
     "output_type": "stream",
     "text": [
      "gb2312: b'\\xcb\\xaea' gbk: b'\\xcb\\xaea' big5: b'\\xa4\\xf4a' utf-8/unicode: b'\\xe6\\xb0\\xb4a'\n",
      "水a 水a 水a\n",
      "{'encoding': 'ISO-8859-1', 'confidence': 0.73, 'language': ''}\n"
     ]
    }
   ],
   "source": [
    "a='水a'\n",
    "#对字符  水a  进行不同类型的编码为bytes对象后打印 \n",
    "a_gb2312=bytes(a,encoding='gb2312')\n",
    "a_gbk=bytes(a,encoding='gb2312')\n",
    "a_big5=bytes(a,encoding='big5')\n",
    "a_default_unicode=a.encode()#Python3是默认的unicode，就是utf-8\n",
    "print('gb2312:',a_gb2312,'gbk:',a_gbk,'big5:',a_big5,'utf-8/unicode:',a_default_unicode)\n",
    "\n",
    "#对bytes对象，指定格式进行解码后\n",
    "print(a_gb2312.decode(encoding='gb2312'),a_gbk.decode(encoding='gbk'),a_big5.decode(encoding='big5'))\n",
    "\n",
    "#gbk编码，使用big5解码，于是就乱码了\n",
    "a_gbk.decode('big5')#'阨a'\n",
    "\n",
    "#这个检测编码格式不太靠谱,仅供参考，具体还要依靠来源文档编码\n",
    "import chardet\n",
    "print(chardet.detect(a_gbk))"
   ]
  },
  {
   "cell_type": "markdown",
   "metadata": {},
   "source": [
    "#### 延伸阅读：Python 2.x Unicode老大难问题以及Python3中的utf-8编码[Python 2.x存储字符的中间过程]\n",
    "https://blog.csdn.net/ggggiqnypgjg/article/details/72783356\n",
    "\n",
    "Python2中的unicode是内存编码集，也就是说字符串在Python内部的表示是unicode编码（Python 2.X）,在做编码转换时，通常需要以unicode作为中间编码，即先将其他编码的字符串解码（decode）成unicode，再从unicode编码（encode）成另一种编码。\n",
    "\n",
    "u'string' 表示 已经是 unicode 编码的 'string' 字符串\n",
    "\n",
    "而 unicode('string') 是 即将要把 'string' 转化为 unicode 编码（但在执行这条语句之前，还不一定是unicode编码）\n",
    "\n",
    "字符前面加u就表明这是一个unicode对象，这个字会以unicode格式存在于内存中\n",
    "\n",
    "而Python3中取消了unicode，默认均为utf-8"
   ]
  },
  {
   "cell_type": "markdown",
   "metadata": {},
   "source": [
    "#### 延伸阅读：小整数缓存区与字符驻留"
   ]
  },
  {
   "cell_type": "code",
   "execution_count": 11,
   "metadata": {},
   "outputs": [
    {
     "data": {
      "text/plain": [
       "True"
      ]
     },
     "execution_count": 11,
     "metadata": {},
     "output_type": "execute_result"
    }
   ],
   "source": [
    "# Python中，根据实例是否可修改，分为可变与不可变两种类型数据 \n",
    "#小整数\n",
    "#Python为小整数（-5至256）已创建地址并存入在小整数缓存区\n",
    "#因而超过此范围则会放入整数链表，也就是相关整数是不同的对象\n",
    "#虽然是整数对象，但地址也不相同。\n",
    "a=77;b=77\n",
    "a is b#True   #小整数缓存池，只有同一个位置。目的是把常用的东西放在缓存池，减小开销\n",
    "a=998;b=998\n",
    "a is b#False\n",
    "\n",
    "#字符串驻留intern\n",
    "str_a='julyedu'\n",
    "str_b='julyedu'\n",
    "str_a is str_b#True 正常字符串，地址相同\n",
    "\n",
    "\n",
    "str_c='Python 3.5'\n",
    "str_d='Python 3.5'\n",
    "str_c is str_d#False 有些稍特殊的字符串，Python认为复用性不大，于是被分配到堆上，不会在内存池中检查。因此这是两个对象。\n",
    "\n",
    "import sys\n",
    "str_e=sys.intern('Python 3.5')#强制将字符串缓存进了内存池，因此相等。str_e,str_f均指向Arena相同位置\n",
    "str_f=sys.intern('Python 3.5')\n",
    "str_e is str_f #True"
   ]
  },
  {
   "cell_type": "markdown",
   "metadata": {},
   "source": [
    "### 可变对象(List,Tuple,Dict等)相应操作与访问"
   ]
  },
  {
   "cell_type": "code",
   "execution_count": null,
   "metadata": {},
   "outputs": [],
   "source": [
    "#Array[]:相同类型元素的序列\n",
    "from array import array\n",
    "a1=array('h',[1,2,3])\n",
    "memv=memoryview(a1)#内存视图\n",
    "len(memv)\n",
    "memv[0]=55\n",
    "a1\n",
    "dir(a1)#array相关操作\n",
    "\n",
    "#复制操作：对bytearray对象片断是复制，而非直接引用。\n",
    "str1=bytearray('中国','utf-8')\n",
    "print('str1',str1[0:3])#序列访问\n",
    "tempstr=str1[0:3]#片断赋值给新变量\n",
    "tempstr[0:3]=b'\\xff\\xff\\xff'\n",
    "print('tempstr:',tempstr)\n",
    "print('old str1',str1)#原str1没有变化，因此是发生了复制。。\n",
    "\n",
    "#直接操作\n",
    "#bytes,bytearray,array.arrray支持视图操作\n",
    "v=memoryview(str1)#对str1进行内存视图\n",
    "v[0:3]=b'\\xff\\xff\\xff'#此时对视图对象操作，即是对原str1操作了\n",
    "print(str1)\n",
    "\n",
    "a1 = array('l')#创建数组\n",
    "a1.append(9)# 添加元素\n",
    "a1.append(9)\n",
    "a1.append(8)\n",
    "\n",
    "\n",
    "#列表[]:任意元素类型对象的序列\n",
    "l1=[1,'china',['AI','julyedu.com']]\n",
    "l1.append('机器学习集训营第三期')\n",
    "\n",
    "\n",
    "#元组()tuple,只读列表\n",
    "t1=(1,2,3,4)\n",
    "dir(t1)\n",
    "#只读列表是真的只读吗？\n",
    "t2=(1,2,3,[4,5,6])\n",
    "# t2[0]=11#报错\n",
    "t2[3].append(7)#正确\n",
    "t2\n",
    "\n",
    "#tuple的单元素写法\n",
    "(3)与(3,)哪个是tuple对象呢?\n",
    "type((3)),type((3,))\n",
    "#这里跟逗号又扯上关系，\n",
    "#不仅如此，在交互式命令行中，当我们输入4,时返回的也是一个tuple对象\n",
    "\n",
    "\n",
    "#集合{}set：无序的不重复元素,集合中的对象，通常叫key\n",
    "s1={1,1,1,2,3,4,5,2,4,234}\n",
    "l2=[1,1,1,2,3,4,5,2,4,234]\n",
    "set(s1)\n",
    "\n",
    "##frozenset\n",
    "frozenset(range(7))\n",
    "frozenset({x+1 for x in range(-1,7) if x%2==0})\n",
    "\n",
    "\n",
    "#字典{}dict：KV对应型数据类型{\n",
    "d1={'name':'david','gender':'male'}\n",
    "\n",
    "\n",
    "#字典的视图\n",
    "#Python3下字典视图，既同步读取字典，又却无法修改。\n",
    "d1=dict(a=1,b=2)\n",
    "ks=d1.keys()#返回的是主键视图,其类型为<class 'dict_keys'>\n",
    "print('b' in ks)#直接从该视图中观察字典\n",
    "for key in ks:\n",
    "    print(key,d1[key])\n",
    "    \n",
    "\n",
    "d1['b']=3#更新原字典\n",
    "d1['c']=99#对原字典插入新值\n",
    "for key in ks:#此时并未再次运行d1.keys()，也能看到原字典的变化\n",
    "print(key,d1[key])    \n",
    "\n",
    "\n",
    "#标准库下的其它字典OrderedDict\n",
    "from collections import OrderedDict\n",
    "\n",
    "od1=OrderedDict()#按主键首次插入顺序进行排序\n",
    "\n",
    "od1['a']=7\n",
    "od1['z']=8\n",
    "od1['b']=9\n",
    "od1"
   ]
  },
  {
   "cell_type": "markdown",
   "metadata": {},
   "source": [
    "### 延伸阅读 Python中的三种赋值方式 =,copy,deepcopy"
   ]
  },
  {
   "cell_type": "code",
   "execution_count": 2,
   "metadata": {
    "ExecuteTime": {
     "end_time": "2020-07-22T03:37:37.273980Z",
     "start_time": "2020-07-22T03:37:37.267981Z"
    }
   },
   "outputs": [],
   "source": [
    "import copy\n",
    "a=[1,2,3,[4,5,6]]\n",
    "b=a#赋值\n",
    "c=copy.copy(a)#shallow copy\n",
    "d=copy.deepcopy(a)#Deep copy"
   ]
  },
  {
   "cell_type": "code",
   "execution_count": null,
   "metadata": {},
   "outputs": [],
   "source": [
    "#列表推导式：从一个列表中生成一个新的列表，简化了循环的写法\n",
    "l1= [x for x in range(30) if x%3==0]\n",
    "l1"
   ]
  },
  {
   "cell_type": "markdown",
   "metadata": {},
   "source": [
    "## 完成课后作业：\n",
    "### 接收一个字符串，判断其做为Python标识符是否合法"
   ]
  },
  {
   "cell_type": "code",
   "execution_count": 5,
   "metadata": {
    "ExecuteTime": {
     "end_time": "2020-07-22T03:38:55.835212Z",
     "start_time": "2020-07-22T03:38:55.829179Z"
    }
   },
   "outputs": [
    {
     "data": {
      "text/plain": [
       "'sga'"
      ]
     },
     "execution_count": 5,
     "metadata": {},
     "output_type": "execute_result"
    }
   ],
   "source": [
    "a = 'ags'\n",
    "a.isidentifier()\n",
    "a[::-1]"
   ]
  },
  {
   "cell_type": "markdown",
   "metadata": {},
   "source": [
    "###  以单词为单位反转字符串\n",
    "将'I am a student'按单词为单位进行进行反转字符串，得到'I ma a tneduts'"
   ]
  },
  {
   "cell_type": "code",
   "execution_count": 46,
   "metadata": {
    "ExecuteTime": {
     "end_time": "2018-12-08T12:50:53.501393Z",
     "start_time": "2018-12-08T12:50:53.494396Z"
    }
   },
   "outputs": [
    {
     "data": {
      "text/plain": [
       "['I', 'ma', 'a', 'tneduts']"
      ]
     },
     "execution_count": 46,
     "metadata": {},
     "output_type": "execute_result"
    }
   ],
   "source": [
    "[item[::-1] for item in 'I am a student'.split(' ')]"
   ]
  },
  {
   "cell_type": "markdown",
   "metadata": {},
   "source": [
    "### 词频统计wordcount\n",
    "请计算`['AI','Julyedu.com','Python','AI','Julyedu','Python']`这个列表中每个单词出现的次数"
   ]
  },
  {
   "cell_type": "code",
   "execution_count": 22,
   "metadata": {
    "ExecuteTime": {
     "end_time": "2020-07-22T05:44:53.206956Z",
     "start_time": "2020-07-22T05:44:53.200953Z"
    }
   },
   "outputs": [
    {
     "data": {
      "text/plain": [
       "{'AI', 'Julyedu', 'Julyedu.com', 'Python'}"
      ]
     },
     "execution_count": 22,
     "metadata": {},
     "output_type": "execute_result"
    }
   ],
   "source": [
    "a=['AI','Julyedu.com','Python','AI','Julyedu','Python']\n",
    "s1=set(a)\n",
    "c=dict()\n",
    "for b in s1:\n",
    "    c[b]=0\n",
    "for b in a:\n",
    "    c[b]+=1\n",
    "c"
   ]
  },
  {
   "cell_type": "markdown",
   "metadata": {},
   "source": [
    "### 输入一个字符串返回满足以下条件的字符串\n",
    " - 如果字符串长度小于3，打印出原字符串\n",
    " - 否则：\n",
    "   - 如果字符串是以 'ing' 结尾的，就在末尾添加 'ly'后打印\n",
    "   - 添加 'ing' 到字符串的末尾后打印\n",
    "\n",
    " `\n",
    " 例如：\n",
    " 输入 a 返回 b\n",
    " 输入 ab 返回 ab\n",
    " 输入 bing 返回 bingly\n",
    " 输入 chang 返回 changing\n",
    " `"
   ]
  },
  {
   "cell_type": "code",
   "execution_count": 29,
   "metadata": {
    "ExecuteTime": {
     "end_time": "2020-07-22T05:51:05.679296Z",
     "start_time": "2020-07-22T05:51:01.041421Z"
    }
   },
   "outputs": [
    {
     "name": "stdout",
     "output_type": "stream",
     "text": [
      "bloe\n",
      "bloeing\n"
     ]
    }
   ],
   "source": [
    "a = input()\n",
    "if len(a)>3:\n",
    "    if a[-3:]=='ing':\n",
    "        a = a + 'ly'\n",
    "    else :\n",
    "        a = a + 'ing'\n",
    "print(a)\n"
   ]
  },
  {
   "cell_type": "markdown",
   "metadata": {},
   "source": [
    "### 集合操作\n",
    "- 生成一个包含从0到100数字的列表，对其随机采样两次。分别输出两次采样的交集和并集\n",
    "- 参考使用random模块下sample方法"
   ]
  },
  {
   "cell_type": "code",
   "execution_count": 47,
   "metadata": {
    "ExecuteTime": {
     "end_time": "2020-07-22T06:14:47.323189Z",
     "start_time": "2020-07-22T06:14:47.317228Z"
    }
   },
   "outputs": [
    {
     "name": "stdout",
     "output_type": "stream",
     "text": [
      "[58, 20]\n",
      "[72, 52]\n",
      "[]\n",
      "{72, 58, 20, 52}\n"
     ]
    }
   ],
   "source": [
    "import random\n",
    "li = range(101)\n",
    "a = random.sample(li, 2)\n",
    "b = random.sample(li, 2)\n",
    "print(a)\n",
    "print(b)\n",
    "bi=[]\n",
    "ji=[]\n",
    "for i in a:\n",
    "    if i in b:\n",
    "        bi.append(i)\n",
    "    ji.append(i)\n",
    "for i in b:\n",
    "    ji.append(i)\n",
    "ji = set(ji)\n",
    "print(bi)\n",
    "print(ji)"
   ]
  }
 ],
 "metadata": {
  "kernelspec": {
   "display_name": "Python 3",
   "language": "python",
   "name": "python3"
  },
  "language_info": {
   "codemirror_mode": {
    "name": "ipython",
    "version": 3
   },
   "file_extension": ".py",
   "mimetype": "text/x-python",
   "name": "python",
   "nbconvert_exporter": "python",
   "pygments_lexer": "ipython3",
   "version": "3.7.6"
  },
  "latex_envs": {
   "LaTeX_envs_menu_present": true,
   "autoclose": false,
   "autocomplete": true,
   "bibliofile": "biblio.bib",
   "cite_by": "apalike",
   "current_citInitial": 1,
   "eqLabelWithNumbers": true,
   "eqNumInitial": 1,
   "hotkeys": {
    "equation": "Ctrl-E",
    "itemize": "Ctrl-I"
   },
   "labels_anchors": false,
   "latex_user_defs": false,
   "report_style_numbering": false,
   "user_envs_cfg": false
  },
  "toc": {
   "base_numbering": 1,
   "nav_menu": {},
   "number_sections": true,
   "sideBar": true,
   "skip_h1_title": false,
   "title_cell": "Table of Contents",
   "title_sidebar": "Contents",
   "toc_cell": false,
   "toc_position": {
    "height": "calc(100% - 180px)",
    "left": "10px",
    "top": "150px",
    "width": "276px"
   },
   "toc_section_display": true,
   "toc_window_display": true
  }
 },
 "nbformat": 4,
 "nbformat_minor": 2
}
