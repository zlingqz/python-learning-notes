{
 "cells": [
  {
   "cell_type": "markdown",
   "metadata": {},
   "source": [
    "<img src='data:image/png;base64,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'>\n",
    "\n",
    "\n",
    "# 七月在线 《Python基础入门 第三期》 第四课 函数（上）\n",
    "\n",
    "\n",
    "> [七月在线](https://www.julyedu.com) David@2018-12-10"
   ]
  },
  {
   "cell_type": "markdown",
   "metadata": {},
   "source": [
    "## 本节课程目标\n",
    "### 复习上节课内容\n",
    "### 函数定义，函数体，位置参数与关键字参数，函数返回值\n",
    "### 不定长位置参数与关键字参数\n",
    "### 偏函数\n",
    "### Python中的LEGB访问规则\n",
    "\n",
    "### 完成课后作业："
   ]
  },
  {
   "cell_type": "markdown",
   "metadata": {},
   "source": [
    "## 函数定义，函数结构，位置参数与关键字参数，函数返回值"
   ]
  },
  {
   "cell_type": "markdown",
   "metadata": {},
   "source": [
    "### 函数定义，与函数结构"
   ]
  },
  {
   "cell_type": "code",
   "execution_count": 4,
   "metadata": {
    "ExecuteTime": {
     "end_time": "2018-12-09T12:34:02.673443Z",
     "start_time": "2018-12-09T12:34:02.667441Z"
    }
   },
   "outputs": [
    {
     "data": {
      "text/plain": [
       "3"
      ]
     },
     "execution_count": 4,
     "metadata": {},
     "output_type": "execute_result"
    }
   ],
   "source": [
    "l1=[1,'s','china']\n",
    "s1={'f',56}\n",
    "d1={'name':'jack'}\n",
    "len(s2)"
   ]
  },
  {
   "cell_type": "code",
   "execution_count": 5,
   "metadata": {},
   "outputs": [],
   "source": [
    "%config ZMQInteractiveShell.ast_node_interactivity='all'"
   ]
  },
  {
   "cell_type": "code",
   "execution_count": 19,
   "metadata": {
    "ExecuteTime": {
     "end_time": "2018-12-09T12:43:27.351846Z",
     "start_time": "2018-12-09T12:43:27.344880Z"
    }
   },
   "outputs": [
    {
     "data": {
      "text/plain": [
       "'china is amazing'"
      ]
     },
     "execution_count": 19,
     "metadata": {},
     "output_type": "execute_result"
    }
   ],
   "source": [
    "#函数定义与函数结构\n",
    "def myfunc1(parm1,parm2='amazing'):\n",
    "    \"\\\n",
    "    here is document for this function\\\n",
    "    multi lines \\\n",
    "    \"#__doc__ here\n",
    "    \n",
    "    something=parm1\n",
    "    \n",
    "    return str(something)+' is '+parm2\n",
    "\n",
    "myfunc1\n",
    "myfunc1('china')"
   ]
  },
  {
   "cell_type": "code",
   "execution_count": 15,
   "metadata": {
    "ExecuteTime": {
     "end_time": "2018-12-09T12:41:24.375871Z",
     "start_time": "2018-12-09T12:41:24.366910Z"
    }
   },
   "outputs": [
    {
     "name": "stdout",
     "output_type": "stream",
     "text": [
      "Variable   Type        Data/Info\n",
      "--------------------------------\n",
      "d1         dict        n=1\n",
      "l1         list        n=3\n",
      "myfunc1    function    <function myfunc1 at 0x0000026ABDFC8A60>\n",
      "s1         set         {'f', 56}\n"
     ]
    }
   ],
   "source": [
    "%whos"
   ]
  },
  {
   "cell_type": "markdown",
   "metadata": {},
   "source": [
    "##### 延伸阅读:Python3新增函数特性：注释增强/Annotations"
   ]
  },
  {
   "cell_type": "code",
   "execution_count": 20,
   "metadata": {
    "ExecuteTime": {
     "end_time": "2018-12-09T12:58:01.562116Z",
     "start_time": "2018-12-09T12:58:01.555111Z"
    }
   },
   "outputs": [
    {
     "data": {
      "text/plain": [
       "{'parm1': 'parm user given string to output',\n",
       " 'parm2': 'this parm default value is amazing, user still can replace it',\n",
       " 'return': 'function return should be a string'}"
      ]
     },
     "execution_count": 20,
     "metadata": {},
     "output_type": "execute_result"
    }
   ],
   "source": [
    "def myfunc1(parm1:'parm user given string to output',parm2:'this parm default value is amazing, user still can replace it'='amazing')-> 'function return should be a string':\n",
    "    \"#__doc__ here\"\n",
    "    something=parm1\n",
    "    return str(something)+' is '+parm2\n",
    "myfunc1.__annotations__"
   ]
  },
  {
   "cell_type": "markdown",
   "metadata": {},
   "source": [
    "##### 延伸阅读:\n",
    "def:运行期指令，以代码对象为参数创建函数实例，并在当前上下文中与指定的名字相关联"
   ]
  },
  {
   "cell_type": "code",
   "execution_count": 21,
   "metadata": {},
   "outputs": [
    {
     "name": "stdout",
     "output_type": "stream",
     "text": [
      "  1           0 LOAD_CONST               0 (<code object test at 0x0000023812E75A50, file \"\", line 1>)\n",
      "              2 LOAD_CONST               1 ('test')\n",
      "              4 MAKE_FUNCTION            0\n",
      "              6 STORE_NAME               0 (test)\n",
      "              8 LOAD_CONST               2 (None)\n",
      "             10 RETURN_VALUE\n"
     ]
    }
   ],
   "source": [
    "#def是运行期指令\n",
    "import dis;dis.dis(compile(\"def test():pass\",\"\",\"exec\"))"
   ]
  },
  {
   "cell_type": "code",
   "execution_count": 23,
   "metadata": {},
   "outputs": [
    {
     "name": "stdout",
     "output_type": "stream",
     "text": [
      "2439859905536 2439860375248\n",
      "2439859734184 2439860375248\n",
      "2439859735408 2439860375248\n",
      "2439859734864 2439860375248\n"
     ]
    },
    {
     "data": {
      "text/plain": [
       "[<function __main__.make_func.<locals>.test()>,\n",
       " <function __main__.make_func.<locals>.test()>,\n",
       " <function __main__.make_func.<locals>.test()>,\n",
       " <function __main__.make_func.<locals>.test()>]"
      ]
     },
     "execution_count": 23,
     "metadata": {},
     "output_type": "execute_result"
    }
   ],
   "source": [
    "#def的伪码\n",
    "#test=make_function('test',code)#dis操作是在函数实例创建完成后针对__code__，而非针对创建过程\n",
    "\n",
    "#以单个代码对象为模板创建多个函数实例\n",
    "def make_func(n):\n",
    "    ret=[]\n",
    "    for i in range(n):\n",
    "        def test():print('hello',n)\n",
    "        print(id(test),id(test.__code__))\n",
    "        ret.append(test)\n",
    "    return ret\n",
    "\n",
    "make_func(4)#不同实例，相同代码，也可以不同实例，不同代码（属性动态添加）"
   ]
  },
  {
   "cell_type": "markdown",
   "metadata": {},
   "source": [
    "##### 延伸阅读：Python的函数对象PyFunctionObject：\n",
    ">作用：为上下文提供调用实例，并管理所需的状态数据。负责管理运行期状态，如默认参数，动态添加的属性，由MAKE_FUNCTION指令创建"
   ]
  },
  {
   "cell_type": "code",
   "execution_count": 21,
   "metadata": {
    "ExecuteTime": {
     "end_time": "2018-12-09T12:58:40.966615Z",
     "start_time": "2018-12-09T12:58:40.960636Z"
    }
   },
   "outputs": [],
   "source": [
    "def test1(a,b,c=1):\n",
    "    str1='julyedu.com'\n",
    "    print(c)\n",
    "    return b"
   ]
  },
  {
   "cell_type": "code",
   "execution_count": 71,
   "metadata": {},
   "outputs": [
    {
     "data": {
      "text/plain": [
       "('co_name', 'test1')"
      ]
     },
     "execution_count": 71,
     "metadata": {},
     "output_type": "execute_result"
    },
    {
     "data": {
      "text/plain": [
       "('co_object',\n",
       " <code object test1 at 0x0000023813057780, file \"<ipython-input-71-22c079bb329c>\", line 2>)"
      ]
     },
     "execution_count": 71,
     "metadata": {},
     "output_type": "execute_result"
    },
    {
     "data": {
      "text/plain": [
       "('co_code', b'd\\x01}\\x03t\\x00|\\x02\\x83\\x01\\x01\\x00|\\x01S\\x00')"
      ]
     },
     "execution_count": 71,
     "metadata": {},
     "output_type": "execute_result"
    },
    {
     "data": {
      "text/plain": [
       "('co_lnotab', b'\\x00\\x01\\x04\\x01\\x08\\x01')"
      ]
     },
     "execution_count": 71,
     "metadata": {},
     "output_type": "execute_result"
    },
    {
     "data": {
      "text/plain": [
       "('co_filename', '<ipython-input-71-22c079bb329c>')"
      ]
     },
     "execution_count": 71,
     "metadata": {},
     "output_type": "execute_result"
    },
    {
     "data": {
      "text/plain": [
       "('co_firstlineno', 2)"
      ]
     },
     "execution_count": 71,
     "metadata": {},
     "output_type": "execute_result"
    },
    {
     "data": {
      "text/plain": [
       "('co_stacksize', 2)"
      ]
     },
     "execution_count": 71,
     "metadata": {},
     "output_type": "execute_result"
    },
    {
     "data": {
      "text/plain": [
       "('符号名集合co_names', ('print',))"
      ]
     },
     "execution_count": 71,
     "metadata": {},
     "output_type": "execute_result"
    },
    {
     "data": {
      "text/plain": [
       "('常量集合co_const', (None, 'julyedu.com'))"
      ]
     },
     "execution_count": 71,
     "metadata": {},
     "output_type": "execute_result"
    }
   ],
   "source": [
    "#探索PyFunctionOjbect\n",
    "def test1(a,b,c=1):\n",
    "    str1='julyedu.com'\n",
    "    print(c)\n",
    "    return b\n",
    "\n",
    "'co_name',test1.__code__.co_name#函数名\n",
    "'co_object',test1.__code__# PyCodeObject<code object test1 at 0x0000023812E75A50, file \"<ipython-input-14-1306b5bc9b20>\", line 1>\n",
    "'co_code',test1.__code__.co_code#函数中的代码对象字节码（二进制存储）\n",
    "'co_lnotab',test1.__code__.co_lnotab#'字节码的偏移值与对应的源码的行号的相对值'\n",
    "\n",
    "\n",
    "'co_filename',test1.__code__.co_filename#函数所在文件名<ipython-input-16-fc6b304ba0cd>\n",
    "'co_firstlineno',test1.__code__.co_firstlineno#函数在文件中的首行的行数1\n",
    "\n",
    "'co_stacksize',test1.__code__.co_stacksize#占用了几个栈桢"
   ]
  },
  {
   "cell_type": "markdown",
   "metadata": {},
   "source": [
    "##### 扩展阅读：栈(Stack)与栈帧（Stack Frame）\n",
    "\n",
    "Python中栈的分类：\n",
    "> 用户栈：函数被调用时，会专门为其分配用户栈内存，用户栈内存除用来存储变量外，还包括字节码参数和返回值所需空间。   \n",
    "> 系统栈：用于机器执行，用户栈用于代码执行状态。\n",
    "\n",
    "\n",
    "Python中栈的作用：\n",
    "> 栈用于指令执行，与线程绑定。函数调用与执行都依赖于线程栈上存储的上下文和执行状态。"
   ]
  },
  {
   "cell_type": "markdown",
   "metadata": {},
   "source": [
    "```\n",
    "import dis\n",
    "def test(a,b):\n",
    "    c=a+b\n",
    "    return c\n",
    "    \n",
    "dis.dis(test)\n",
    "\n",
    "  2           0 LOAD_FAST                0 (a) #从Fast读取参数a,压入用户栈\n",
    "              2 LOAD_FAST                1 (b)#从Fast读取参数b,压入用户栈\n",
    "               4 BINARY_ADD                  #系统指令从用户栈读取操作数，执行加法操作\n",
    "              6 STORE_FAST               2 (c)#结果写回Fast\n",
    "\n",
    "  3           8 LOAD_FAST                2 (c)\n",
    "             10 RETURN_VALUE\n",
    "```"
   ]
  },
  {
   "cell_type": "markdown",
   "metadata": {},
   "source": [
    "栈帧（Stack Frame）\n",
    "> 线程栈这块内存中，每个被调用函数都分配着一块区域\n",
    "> Call stack是函数调用堆栈（运行时函数的调用过程）,除返回地址，还有为函数提供参数，局部变量存储空间等\n",
    "\n",
    "调用函数时的内存变化：\n",
    ">函数每次调用，都会新建栈帧，用于局部变量和执行过程存储。执行完成后，栈帧内存被回收，同时释放相关对象。"
   ]
  },
  {
   "cell_type": "code",
   "execution_count": 12,
   "metadata": {},
   "outputs": [
    {
     "name": "stdout",
     "output_type": "stream",
     "text": [
      "2439859900488\n",
      "2439859902432\n"
     ]
    }
   ],
   "source": [
    "def test():\n",
    "    return id(locals())\n",
    "\n",
    "print(test())#Create New StackFrame\n",
    "print(test())#Create Another New StackFrame"
   ]
  },
  {
   "cell_type": "markdown",
   "metadata": {},
   "source": [
    "查看栈帧对象PyFrameObject\n",
    "> PyFrameObject,栈帧表示程序运行时函数调用栈中的某一帧。函数没有属性可以获取它，因为它在函数调用时才会产生   \n",
    "> 想要获得某个函数相关的栈帧，则必须在调用这个函数且这个函数尚未返回时获取。\n",
    "\n",
    "\n",
    ">sys._getframe()方法可以获取当前栈帧   \n",
    ">>_back: 调用栈的前一帧   \n",
    ">>f_code: 栈帧对应的code对象   \n",
    ">>f_locals: 用在当前栈帧时与内建函数locals()相同，但你可以先获取其他帧然后使用这个属性获取那个帧的locals()   \n",
    ">>f_globals: 用在当前栈帧时与内建函数globals()相同，但你可以先获取其他帧……   \n",
    ">>f_builtins -> dict key:  python的内置函数名   \n"
   ]
  },
  {
   "cell_type": "code",
   "execution_count": 25,
   "metadata": {},
   "outputs": [
    {
     "name": "stdout",
     "output_type": "stream",
     "text": [
      "{'frame': <frame object at 0x00000238130365E8>}\n",
      "{'__name__': '__main__', '__doc__': 'Automatically created module for IPython interactive environment', '__package__': None, '__loader__': None, '__spec__': None, '__builtin__': <module 'builtins' (built-in)>, '__builtins__': <module 'builtins' (built-in)>, '_ih': ['', '#函数定义与函数结构\\ndef myfunc1(parm1,parm2=\\'amazing\\'):\\n    \"    here is document for this function    multi lines     \"#__doc__ here\\n    \\n    something=parm1\\n    \\n    return str(something)+\\' is \\'+parm2\\n\\nmyfunc1(\\'daivd\\')\\nmyfunc1(\\'daivd\\',\\'perfect\\')', '#函数定义与函数结构\\ndef myfunc1(parm1,parm2=\\'amazing\\'):\\n    \"    here is document for this function    multi lines     \"#__doc__ here\\n    \\n    something=parm1\\n    \\n    return str(something)+\\' is \\'+parm2\\n\\nmyfunc1(\\'daivd\\')\\nmyfunc1(\\'daivd\\',\\'perfect\\')', \"from inspect import signature# 注意是小写的signature\\n\\ndef func(parm1,parm2='kw'):\\n    return parm1\\n\\ndef func(parm1):\\n    pass\\n\\n# 获取函数签名\\nfunc_sig = signature(func)\\n# 通过函数签名的parameters属性，可以获取函数参数\\nfunc_params = func_sig.parameters\\nfunc_params\\n\\n#或者直接使用ipython下的?\", \"def test1(a,b,c=1):\\n    str1='julyedu.com'\\n    return b\\n\\ntest1.__code__.co_name#函数名\\n\\ntest1.__code__.co_filename#函数所在文件名\\ntest1.__code__.co_firstlineno#函数在文件中的首行的行数\\n\\ntest1.__code__.co_argcount#参数个数\\ntest1.__code__.co_varnames#局部变量名\\n\\ntest1.__code__.co_code###字节码（二进制存储）\\n\\ntest1.__code__.co_nlocals#多少个局部变量\\ntest1.__code__.co_varnames#多少个局部变量的名字。\\n\\ntest1.__code__.co_stacksize#栈桢的大小\", 'get_ipython().run_line_magic(\\'config\\', \"ZMQInteractiveShell.ast_node_interactivity=\\'all\\'\")', \"def test1(a,b,c=1):\\n    str1='julyedu.com'\\n    return b\\n\\ntest1.__code__.co_name#函数名\\n\\ntest1.__code__.co_filename#函数所在文件名\\ntest1.__code__.co_firstlineno#函数在文件中的首行的行数\\n\\ntest1.__code__.co_argcount#参数个数\\ntest1.__code__.co_varnames#局部变量名\\n\\ntest1.__code__.co_code###字节码（二进制存储）\\n\\ntest1.__code__.co_nlocals#多少个局部变量\\ntest1.__code__.co_varnames#多少个局部变量的名字。\\n\\ntest1.__code__.co_stacksize#栈桢的大小\", \"def myadd1(a,b,c,d,*parms):\\n    print(type(parms))\\n    print('parms:',parms)\\n    print('a,b,c,d:',a,b,c,d)\\n    return sum(parms)\\n\\nmyadd1(1,2,3,4,5,6)\\n\\ndef myadd2(arg,*args):\\n    print(type(args))\\n    print(args)\\n    return sum(args)\\n\\nmyadd2(18,1,2,3)\\n\\n\\ndef myadd3(arg,*args):\\n    print(type(args))\\n    print(args)\\n    return sum(args)\\nmyadd3(18,1,2,3)\", 'help(round)', '```\\ndef test(a,b):\\n    c=a+b\\n    return c\\n    \\ndis.dis(test)\\n\\n  2           0 LOAD_FAST                0 (a) #从Fast读取参数a,压入用户栈\\n              2 LOAD_FAST                1 (b)#从Fast读取参数b,压入用户栈\\n              4 BINARY_ADD#系统指令从用户栈读取操作数，执行加法操作\\n              6 STORE_FAST               2 (c)#结果写回Fast\\n\\n  3           8 LOAD_FAST                2 (c)\\n             10 RETURN_VALUE\\n```', 'def test():\\n    return id(locals())\\n\\nprint(test())', 'def test():\\n    return id(locals())\\n\\nprint(test())#Create New StackFrame\\nprint(test())#Create Another New StackFrame\\nprint(test()==test())#Create Another New StackFrame', 'def test():\\n    return id(locals())\\n\\nprint(test())#Create New StackFrame\\nprint(test())#Create Another New StackFrame', '#函数定义与函数结构\\ndef myfunc1(parm1,parm2=\\'amazing\\'):\\n    \"    here is document for this function    multi lines     \"#__doc__ here\\n    \\n    something=parm1\\n    \\n    return str(something)+\\' is \\'+parm2\\n\\nmyfunc1(\\'daivd\\')\\nmyfunc1(\\'daivd\\',\\'perfect\\')', \"def test1(a,b,c=1):\\n    str1='julyedu.com'\\n    return b\\n\\ntest1.__code__#代码对象\\ntest1.__code__.co_name#函数名\\n\\ntest1.__code__.co_filename#函数所在文件名\\ntest1.__code__.co_firstlineno#函数在文件中的首行的行数\\n\\ntest1.__code__.co_argcount#参数个数\\ntest1.__code__.co_varnames#局部变量名\\n\\ntest1.__code__.co_code###字节码（二进制存储）\\n\\ntest1.__code__.co_nlocals#多少个局部变量\\ntest1.__code__.co_varnames#多少个局部变量的名字。\\n\\ntest1.__code__.co_stacksize#占用了几个栈桢\", \"def test1(a,b,c=1):\\n    str1='julyedu.com'\\n    return b\\n\\ntest1.__code__#代码对象\\n# test1.__code__.co_name#函数名\\n\\n# test1.__code__.co_filename#函数所在文件名\\n# test1.__code__.co_firstlineno#函数在文件中的首行的行数\\n\\n# test1.__code__.co_argcount#参数个数\\n# test1.__code__.co_varnames#局部变量名\\n\\n# test1.__code__.co_code###字节码（二进制存储）\\n\\n# test1.__code__.co_nlocals#多少个局部变量\\n# test1.__code__.co_varnames#多少个局部变量的名字。\\n\\n# test1.__code__.co_stacksize#占用了几个栈桢\", 'def test1(a,b,c=1):\\n    str1=\\'julyedu.com\\'\\n    return b\\n\\ntest1.__code__#代码对象 <code object test1 at 0x0000023812E75A50, file \"<ipython-input-14-1306b5bc9b20>\", line 1>\\ntest1.__code__.co_name#函数名\\n\\ntest1.__code__.co_filename#函数所在文件名\\ntest1.__code__.co_firstlineno#函数在文件中的首行的行数\\n\\ntest1.__code__.co_argcount#参数个数\\ntest1.__code__.co_varnames#局部变量名\\n\\ntest1.__code__.co_code###字节码（二进制存储）\\n\\ntest1.__code__.co_nlocals#多少个局部变量\\ntest1.__code__.co_varnames#多少个局部变量的名字。\\n\\n# test1.__code__.co_stacksize#占用了几个栈桢', '##### 扩展阅读：', 'def add(n):\\n    return n*num\\nadd.num=77\\nadd(7)', '#def是运行期指令\\nimport dis;dis.dis(compile(\"def test():pass\",\"\",\"exec\"))', '#def是运行期指令\\nimport dis;dis.dis(compile(\"def test():pass\",\"\",\"exec\"))\\n\\n#def伪码\\ntest=make_function(\\'test\\',code)#dis操作是在函数实例创建完成后针对__code__，而非针对创建过程', '#def是运行期指令\\nimport dis;dis.dis(compile(\"def test():pass\",\"\",\"exec\"))', \"#def伪码\\ntest=make_function('test',code)#dis操作是在函数实例创建完成后针对__code__，而非针对创建过程\\n\\n#以单个代码对象为模板创建多个函数实例\\ndef make_func(n):\\n    ret=[]\\n    for i in range(n):\\n        def test():print('hello',n)\\n        print(id(test),id(test.__code__))\\n        ret.append(test)\\n    return ret\\n\\nmake_func(4)#不同实例，相同代码，也可以不同实例，不同代码（属性动态添加）\", \"#def伪码\\n#test=make_function('test',code)#dis操作是在函数实例创建完成后针对__code__，而非针对创建过程\\n\\n#以单个代码对象为模板创建多个函数实例\\ndef make_func(n):\\n    ret=[]\\n    for i in range(n):\\n        def test():print('hello',n)\\n        print(id(test),id(test.__code__))\\n        ret.append(test)\\n    return ret\\n\\nmake_func(4)#不同实例，相同代码，也可以不同实例，不同代码（属性动态添加）\", 'def func():\\n    import sys\\n    frame = sys._getframe()\\n    print(frame.f_locals)\\n    print(frame.f_globals)\\n    print(frame.f_back.f_locals)\\n    #你可以打印frame的各个域\\n    print(s)\\nfunc()    ', 'import sys\\ndef func():    \\n    frame = sys._getframe()\\n    print(frame.f_locals)\\n    print(frame.f_globals)\\n    print(frame.f_back.f_locals)\\n    #你可以打印frame的各个域\\n    print(s)\\nfunc()    '], '_oh': {1: 'daivd is perfect', 2: 'daivd is perfect', 3: mappingproxy(OrderedDict([('parm1', <Parameter \"parm1\">)])), 4: 1, 6: 1, 7: 6, 13: 'daivd is perfect', 14: 1, 15: <code object test1 at 0x0000023812F3BED0, file \"<ipython-input-15-6aea59552b55>\", line 1>, 16: ('a', 'b', 'c', 'str1'), 23: [<function make_func.<locals>.test at 0x0000023812FBA400>, <function make_func.<locals>.test at 0x0000023812F906A8>, <function make_func.<locals>.test at 0x0000023812F90B70>, <function make_func.<locals>.test at 0x0000023812F90950>]}, '_dh': ['C:\\\\Users\\\\David'], 'In': ['', '#函数定义与函数结构\\ndef myfunc1(parm1,parm2=\\'amazing\\'):\\n    \"    here is document for this function    multi lines     \"#__doc__ here\\n    \\n    something=parm1\\n    \\n    return str(something)+\\' is \\'+parm2\\n\\nmyfunc1(\\'daivd\\')\\nmyfunc1(\\'daivd\\',\\'perfect\\')', '#函数定义与函数结构\\ndef myfunc1(parm1,parm2=\\'amazing\\'):\\n    \"    here is document for this function    multi lines     \"#__doc__ here\\n    \\n    something=parm1\\n    \\n    return str(something)+\\' is \\'+parm2\\n\\nmyfunc1(\\'daivd\\')\\nmyfunc1(\\'daivd\\',\\'perfect\\')', \"from inspect import signature# 注意是小写的signature\\n\\ndef func(parm1,parm2='kw'):\\n    return parm1\\n\\ndef func(parm1):\\n    pass\\n\\n# 获取函数签名\\nfunc_sig = signature(func)\\n# 通过函数签名的parameters属性，可以获取函数参数\\nfunc_params = func_sig.parameters\\nfunc_params\\n\\n#或者直接使用ipython下的?\", \"def test1(a,b,c=1):\\n    str1='julyedu.com'\\n    return b\\n\\ntest1.__code__.co_name#函数名\\n\\ntest1.__code__.co_filename#函数所在文件名\\ntest1.__code__.co_firstlineno#函数在文件中的首行的行数\\n\\ntest1.__code__.co_argcount#参数个数\\ntest1.__code__.co_varnames#局部变量名\\n\\ntest1.__code__.co_code###字节码（二进制存储）\\n\\ntest1.__code__.co_nlocals#多少个局部变量\\ntest1.__code__.co_varnames#多少个局部变量的名字。\\n\\ntest1.__code__.co_stacksize#栈桢的大小\", 'get_ipython().run_line_magic(\\'config\\', \"ZMQInteractiveShell.ast_node_interactivity=\\'all\\'\")', \"def test1(a,b,c=1):\\n    str1='julyedu.com'\\n    return b\\n\\ntest1.__code__.co_name#函数名\\n\\ntest1.__code__.co_filename#函数所在文件名\\ntest1.__code__.co_firstlineno#函数在文件中的首行的行数\\n\\ntest1.__code__.co_argcount#参数个数\\ntest1.__code__.co_varnames#局部变量名\\n\\ntest1.__code__.co_code###字节码（二进制存储）\\n\\ntest1.__code__.co_nlocals#多少个局部变量\\ntest1.__code__.co_varnames#多少个局部变量的名字。\\n\\ntest1.__code__.co_stacksize#栈桢的大小\", \"def myadd1(a,b,c,d,*parms):\\n    print(type(parms))\\n    print('parms:',parms)\\n    print('a,b,c,d:',a,b,c,d)\\n    return sum(parms)\\n\\nmyadd1(1,2,3,4,5,6)\\n\\ndef myadd2(arg,*args):\\n    print(type(args))\\n    print(args)\\n    return sum(args)\\n\\nmyadd2(18,1,2,3)\\n\\n\\ndef myadd3(arg,*args):\\n    print(type(args))\\n    print(args)\\n    return sum(args)\\nmyadd3(18,1,2,3)\", 'help(round)', '```\\ndef test(a,b):\\n    c=a+b\\n    return c\\n    \\ndis.dis(test)\\n\\n  2           0 LOAD_FAST                0 (a) #从Fast读取参数a,压入用户栈\\n              2 LOAD_FAST                1 (b)#从Fast读取参数b,压入用户栈\\n              4 BINARY_ADD#系统指令从用户栈读取操作数，执行加法操作\\n              6 STORE_FAST               2 (c)#结果写回Fast\\n\\n  3           8 LOAD_FAST                2 (c)\\n             10 RETURN_VALUE\\n```', 'def test():\\n    return id(locals())\\n\\nprint(test())', 'def test():\\n    return id(locals())\\n\\nprint(test())#Create New StackFrame\\nprint(test())#Create Another New StackFrame\\nprint(test()==test())#Create Another New StackFrame', 'def test():\\n    return id(locals())\\n\\nprint(test())#Create New StackFrame\\nprint(test())#Create Another New StackFrame', '#函数定义与函数结构\\ndef myfunc1(parm1,parm2=\\'amazing\\'):\\n    \"    here is document for this function    multi lines     \"#__doc__ here\\n    \\n    something=parm1\\n    \\n    return str(something)+\\' is \\'+parm2\\n\\nmyfunc1(\\'daivd\\')\\nmyfunc1(\\'daivd\\',\\'perfect\\')', \"def test1(a,b,c=1):\\n    str1='julyedu.com'\\n    return b\\n\\ntest1.__code__#代码对象\\ntest1.__code__.co_name#函数名\\n\\ntest1.__code__.co_filename#函数所在文件名\\ntest1.__code__.co_firstlineno#函数在文件中的首行的行数\\n\\ntest1.__code__.co_argcount#参数个数\\ntest1.__code__.co_varnames#局部变量名\\n\\ntest1.__code__.co_code###字节码（二进制存储）\\n\\ntest1.__code__.co_nlocals#多少个局部变量\\ntest1.__code__.co_varnames#多少个局部变量的名字。\\n\\ntest1.__code__.co_stacksize#占用了几个栈桢\", \"def test1(a,b,c=1):\\n    str1='julyedu.com'\\n    return b\\n\\ntest1.__code__#代码对象\\n# test1.__code__.co_name#函数名\\n\\n# test1.__code__.co_filename#函数所在文件名\\n# test1.__code__.co_firstlineno#函数在文件中的首行的行数\\n\\n# test1.__code__.co_argcount#参数个数\\n# test1.__code__.co_varnames#局部变量名\\n\\n# test1.__code__.co_code###字节码（二进制存储）\\n\\n# test1.__code__.co_nlocals#多少个局部变量\\n# test1.__code__.co_varnames#多少个局部变量的名字。\\n\\n# test1.__code__.co_stacksize#占用了几个栈桢\", 'def test1(a,b,c=1):\\n    str1=\\'julyedu.com\\'\\n    return b\\n\\ntest1.__code__#代码对象 <code object test1 at 0x0000023812E75A50, file \"<ipython-input-14-1306b5bc9b20>\", line 1>\\ntest1.__code__.co_name#函数名\\n\\ntest1.__code__.co_filename#函数所在文件名\\ntest1.__code__.co_firstlineno#函数在文件中的首行的行数\\n\\ntest1.__code__.co_argcount#参数个数\\ntest1.__code__.co_varnames#局部变量名\\n\\ntest1.__code__.co_code###字节码（二进制存储）\\n\\ntest1.__code__.co_nlocals#多少个局部变量\\ntest1.__code__.co_varnames#多少个局部变量的名字。\\n\\n# test1.__code__.co_stacksize#占用了几个栈桢', '##### 扩展阅读：', 'def add(n):\\n    return n*num\\nadd.num=77\\nadd(7)', '#def是运行期指令\\nimport dis;dis.dis(compile(\"def test():pass\",\"\",\"exec\"))', '#def是运行期指令\\nimport dis;dis.dis(compile(\"def test():pass\",\"\",\"exec\"))\\n\\n#def伪码\\ntest=make_function(\\'test\\',code)#dis操作是在函数实例创建完成后针对__code__，而非针对创建过程', '#def是运行期指令\\nimport dis;dis.dis(compile(\"def test():pass\",\"\",\"exec\"))', \"#def伪码\\ntest=make_function('test',code)#dis操作是在函数实例创建完成后针对__code__，而非针对创建过程\\n\\n#以单个代码对象为模板创建多个函数实例\\ndef make_func(n):\\n    ret=[]\\n    for i in range(n):\\n        def test():print('hello',n)\\n        print(id(test),id(test.__code__))\\n        ret.append(test)\\n    return ret\\n\\nmake_func(4)#不同实例，相同代码，也可以不同实例，不同代码（属性动态添加）\", \"#def伪码\\n#test=make_function('test',code)#dis操作是在函数实例创建完成后针对__code__，而非针对创建过程\\n\\n#以单个代码对象为模板创建多个函数实例\\ndef make_func(n):\\n    ret=[]\\n    for i in range(n):\\n        def test():print('hello',n)\\n        print(id(test),id(test.__code__))\\n        ret.append(test)\\n    return ret\\n\\nmake_func(4)#不同实例，相同代码，也可以不同实例，不同代码（属性动态添加）\", 'def func():\\n    import sys\\n    frame = sys._getframe()\\n    print(frame.f_locals)\\n    print(frame.f_globals)\\n    print(frame.f_back.f_locals)\\n    #你可以打印frame的各个域\\n    print(s)\\nfunc()    ', 'import sys\\ndef func():    \\n    frame = sys._getframe()\\n    print(frame.f_locals)\\n    print(frame.f_globals)\\n    print(frame.f_back.f_locals)\\n    #你可以打印frame的各个域\\n    print(s)\\nfunc()    '], 'Out': {1: 'daivd is perfect', 2: 'daivd is perfect', 3: mappingproxy(OrderedDict([('parm1', <Parameter \"parm1\">)])), 4: 1, 6: 1, 7: 6, 13: 'daivd is perfect', 14: 1, 15: <code object test1 at 0x0000023812F3BED0, file \"<ipython-input-15-6aea59552b55>\", line 1>, 16: ('a', 'b', 'c', 'str1'), 23: [<function make_func.<locals>.test at 0x0000023812FBA400>, <function make_func.<locals>.test at 0x0000023812F906A8>, <function make_func.<locals>.test at 0x0000023812F90B70>, <function make_func.<locals>.test at 0x0000023812F90950>]}, 'get_ipython': <bound method InteractiveShell.get_ipython of <ipykernel.zmqshell.ZMQInteractiveShell object at 0x000002381260AC88>>, 'exit': <IPython.core.autocall.ZMQExitAutocall object at 0x0000023812E625F8>, 'quit': <IPython.core.autocall.ZMQExitAutocall object at 0x0000023812E625F8>, '_': [<function make_func.<locals>.test at 0x0000023812FBA400>, <function make_func.<locals>.test at 0x0000023812F906A8>, <function make_func.<locals>.test at 0x0000023812F90B70>, <function make_func.<locals>.test at 0x0000023812F90950>], '__': ('a', 'b', 'c', 'str1'), '___': 4, '_i': 'def func():\\n    import sys\\n    frame = sys._getframe()\\n    print(frame.f_locals)\\n    print(frame.f_globals)\\n    print(frame.f_back.f_locals)\\n    #你可以打印frame的各个域\\n    print(s)\\nfunc()    ', '_ii': \"#def伪码\\n#test=make_function('test',code)#dis操作是在函数实例创建完成后针对__code__，而非针对创建过程\\n\\n#以单个代码对象为模板创建多个函数实例\\ndef make_func(n):\\n    ret=[]\\n    for i in range(n):\\n        def test():print('hello',n)\\n        print(id(test),id(test.__code__))\\n        ret.append(test)\\n    return ret\\n\\nmake_func(4)#不同实例，相同代码，也可以不同实例，不同代码（属性动态添加）\", '_iii': \"#def伪码\\ntest=make_function('test',code)#dis操作是在函数实例创建完成后针对__code__，而非针对创建过程\\n\\n#以单个代码对象为模板创建多个函数实例\\ndef make_func(n):\\n    ret=[]\\n    for i in range(n):\\n        def test():print('hello',n)\\n        print(id(test),id(test.__code__))\\n        ret.append(test)\\n    return ret\\n\\nmake_func(4)#不同实例，相同代码，也可以不同实例，不同代码（属性动态添加）\", '_i1': '#函数定义与函数结构\\ndef myfunc1(parm1,parm2=\\'amazing\\'):\\n    \"\\\\\\n    here is document for this function\\\\\\n    multi lines \\\\\\n    \"#__doc__ here\\n    \\n    something=parm1\\n    \\n    return str(something)+\\' is \\'+parm2\\n\\nmyfunc1(\\'daivd\\')\\nmyfunc1(\\'daivd\\',\\'perfect\\')', 'myfunc1': <function myfunc1 at 0x0000023812FBA620>, '_1': 'daivd is perfect', '_i2': '#函数定义与函数结构\\ndef myfunc1(parm1,parm2=\\'amazing\\'):\\n    \"\\\\\\n    here is document for this function\\\\\\n    multi lines \\\\\\n    \"#__doc__ here\\n    \\n    something=parm1\\n    \\n    return str(something)+\\' is \\'+parm2\\n\\nmyfunc1(\\'daivd\\')\\nmyfunc1(\\'daivd\\',\\'perfect\\')', '_2': 'daivd is perfect', '_i3': \"from inspect import signature# 注意是小写的signature\\n\\ndef func(parm1,parm2='kw'):\\n    return parm1\\n\\ndef func(parm1):\\n    pass\\n\\n# 获取函数签名\\nfunc_sig = signature(func)\\n# 通过函数签名的parameters属性，可以获取函数参数\\nfunc_params = func_sig.parameters\\nfunc_params\\n\\n#或者直接使用ipython下的?\", 'signature': <function signature at 0x0000023811016D08>, 'func': <function func at 0x0000023812FBA048>, 'func_sig': <Signature (parm1)>, 'func_params': mappingproxy(OrderedDict([('parm1', <Parameter \"parm1\">)])), '_3': mappingproxy(OrderedDict([('parm1', <Parameter \"parm1\">)])), '_i4': \"def test1(a,b,c=1):\\n    str1='julyedu.com'\\n    return b\\n\\ntest1.__code__.co_name#函数名\\n\\ntest1.__code__.co_filename#函数所在文件名\\ntest1.__code__.co_firstlineno#函数在文件中的首行的行数\\n\\ntest1.__code__.co_argcount#参数个数\\ntest1.__code__.co_varnames#局部变量名\\n\\ntest1.__code__.co_code###字节码（二进制存储）\\n\\ntest1.__code__.co_nlocals#多少个局部变量\\ntest1.__code__.co_varnames#多少个局部变量的名字。\\n\\ntest1.__code__.co_stacksize#栈桢的大小\", 'test1': <function test1 at 0x0000023812FBA730>, '_4': 1, '_i5': \"%config ZMQInteractiveShell.ast_node_interactivity='all'\", '_i6': \"def test1(a,b,c=1):\\n    str1='julyedu.com'\\n    return b\\n\\ntest1.__code__.co_name#函数名\\n\\ntest1.__code__.co_filename#函数所在文件名\\ntest1.__code__.co_firstlineno#函数在文件中的首行的行数\\n\\ntest1.__code__.co_argcount#参数个数\\ntest1.__code__.co_varnames#局部变量名\\n\\ntest1.__code__.co_code###字节码（二进制存储）\\n\\ntest1.__code__.co_nlocals#多少个局部变量\\ntest1.__code__.co_varnames#多少个局部变量的名字。\\n\\ntest1.__code__.co_stacksize#栈桢的大小\", '_6': 1, '_i7': \"def myadd1(a,b,c,d,*parms):\\n    print(type(parms))\\n    print('parms:',parms)\\n    print('a,b,c,d:',a,b,c,d)\\n    return sum(parms)\\n\\nmyadd1(1,2,3,4,5,6)\\n\\ndef myadd2(arg,*args):\\n    print(type(args))\\n    print(args)\\n    return sum(args)\\n\\nmyadd2(18,1,2,3)\\n\\n\\ndef myadd3(arg,*args):\\n    print(type(args))\\n    print(args)\\n    return sum(args)\\nmyadd3(18,1,2,3)\", 'myadd1': <function myadd1 at 0x0000023812F40EA0>, '_7': 6, 'myadd2': <function myadd2 at 0x0000023812F900D0>, 'myadd3': <function myadd3 at 0x0000023812F40B70>, '_i8': 'help(round)', '_i9': '```\\ndef test(a,b):\\n    c=a+b\\n    return c\\n    \\ndis.dis(test)\\n\\n  2           0 LOAD_FAST                0 (a) #从Fast读取参数a,压入用户栈\\n              2 LOAD_FAST                1 (b)#从Fast读取参数b,压入用户栈\\n              4 BINARY_ADD#系统指令从用户栈读取操作数，执行加法操作\\n              6 STORE_FAST               2 (c)#结果写回Fast\\n\\n  3           8 LOAD_FAST                2 (c)\\n             10 RETURN_VALUE\\n```', '_i10': 'def test():\\n    return id(locals())\\n\\nprint(test())', 'test': <function test at 0x0000023812FBAA60>, '_i11': 'def test():\\n    return id(locals())\\n\\nprint(test())#Create New StackFrame\\nprint(test())#Create Another New StackFrame\\nprint(test()==test())#Create Another New StackFrame', '_i12': 'def test():\\n    return id(locals())\\n\\nprint(test())#Create New StackFrame\\nprint(test())#Create Another New StackFrame', '_i13': '#函数定义与函数结构\\ndef myfunc1(parm1,parm2=\\'amazing\\'):\\n    \"\\\\\\n    here is document for this function\\\\\\n    multi lines \\\\\\n    \"#__doc__ here\\n    \\n    something=parm1\\n    \\n    return str(something)+\\' is \\'+parm2\\n\\nmyfunc1(\\'daivd\\')\\nmyfunc1(\\'daivd\\',\\'perfect\\')', '_13': 'daivd is perfect', '_i14': \"def test1(a,b,c=1):\\n    str1='julyedu.com'\\n    return b\\n\\ntest1.__code__#代码对象\\ntest1.__code__.co_name#函数名\\n\\ntest1.__code__.co_filename#函数所在文件名\\ntest1.__code__.co_firstlineno#函数在文件中的首行的行数\\n\\ntest1.__code__.co_argcount#参数个数\\ntest1.__code__.co_varnames#局部变量名\\n\\ntest1.__code__.co_code###字节码（二进制存储）\\n\\ntest1.__code__.co_nlocals#多少个局部变量\\ntest1.__code__.co_varnames#多少个局部变量的名字。\\n\\ntest1.__code__.co_stacksize#占用了几个栈桢\", '_14': 1, '_i15': \"def test1(a,b,c=1):\\n    str1='julyedu.com'\\n    return b\\n\\ntest1.__code__#代码对象\\n# test1.__code__.co_name#函数名\\n\\n# test1.__code__.co_filename#函数所在文件名\\n# test1.__code__.co_firstlineno#函数在文件中的首行的行数\\n\\n# test1.__code__.co_argcount#参数个数\\n# test1.__code__.co_varnames#局部变量名\\n\\n# test1.__code__.co_code###字节码（二进制存储）\\n\\n# test1.__code__.co_nlocals#多少个局部变量\\n# test1.__code__.co_varnames#多少个局部变量的名字。\\n\\n# test1.__code__.co_stacksize#占用了几个栈桢\", '_15': <code object test1 at 0x0000023812F3BED0, file \"<ipython-input-15-6aea59552b55>\", line 1>, '_i16': 'def test1(a,b,c=1):\\n    str1=\\'julyedu.com\\'\\n    return b\\n\\ntest1.__code__#代码对象 <code object test1 at 0x0000023812E75A50, file \"<ipython-input-14-1306b5bc9b20>\", line 1>\\ntest1.__code__.co_name#函数名\\n\\ntest1.__code__.co_filename#函数所在文件名\\ntest1.__code__.co_firstlineno#函数在文件中的首行的行数\\n\\ntest1.__code__.co_argcount#参数个数\\ntest1.__code__.co_varnames#局部变量名\\n\\ntest1.__code__.co_code###字节码（二进制存储）\\n\\ntest1.__code__.co_nlocals#多少个局部变量\\ntest1.__code__.co_varnames#多少个局部变量的名字。\\n\\n# test1.__code__.co_stacksize#占用了几个栈桢', '_16': ('a', 'b', 'c', 'str1'), '_i17': '##### 扩展阅读：', '_i18': 'def add(n):\\n    return n*num\\nadd.num=77\\nadd(7)', 'add': <function add at 0x0000023812E77D08>, '_i19': '#def是运行期指令\\nimport dis;dis.dis(compile(\"def test():pass\",\"\",\"exec\"))', 'dis': <module 'dis' from 'C:\\\\Users\\\\David\\\\Anaconda3\\\\lib\\\\dis.py'>, '_i20': '#def是运行期指令\\nimport dis;dis.dis(compile(\"def test():pass\",\"\",\"exec\"))\\n\\n#def伪码\\ntest=make_function(\\'test\\',code)#dis操作是在函数实例创建完成后针对__code__，而非针对创建过程', '_i21': '#def是运行期指令\\nimport dis;dis.dis(compile(\"def test():pass\",\"\",\"exec\"))', '_i22': \"#def伪码\\ntest=make_function('test',code)#dis操作是在函数实例创建完成后针对__code__，而非针对创建过程\\n\\n#以单个代码对象为模板创建多个函数实例\\ndef make_func(n):\\n    ret=[]\\n    for i in range(n):\\n        def test():print('hello',n)\\n        print(id(test),id(test.__code__))\\n        ret.append(test)\\n    return ret\\n\\nmake_func(4)#不同实例，相同代码，也可以不同实例，不同代码（属性动态添加）\", '_i23': \"#def伪码\\n#test=make_function('test',code)#dis操作是在函数实例创建完成后针对__code__，而非针对创建过程\\n\\n#以单个代码对象为模板创建多个函数实例\\ndef make_func(n):\\n    ret=[]\\n    for i in range(n):\\n        def test():print('hello',n)\\n        print(id(test),id(test.__code__))\\n        ret.append(test)\\n    return ret\\n\\nmake_func(4)#不同实例，相同代码，也可以不同实例，不同代码（属性动态添加）\", 'make_func': <function make_func at 0x0000023812FBA598>, '_23': [<function make_func.<locals>.test at 0x0000023812FBA400>, <function make_func.<locals>.test at 0x0000023812F906A8>, <function make_func.<locals>.test at 0x0000023812F90B70>, <function make_func.<locals>.test at 0x0000023812F90950>], '_i24': 'def func():\\n    import sys\\n    frame = sys._getframe()\\n    print(frame.f_locals)\\n    print(frame.f_globals)\\n    print(frame.f_back.f_locals)\\n    #你可以打印frame的各个域\\n    print(s)\\nfunc()    ', '_i25': 'import sys\\ndef func():    \\n    frame = sys._getframe()\\n    print(frame.f_locals)\\n    print(frame.f_globals)\\n    print(frame.f_back.f_locals)\\n    #你可以打印frame的各个域\\n    print(s)\\nfunc()    ', 'sys': <module 'sys' (built-in)>}\n",
      "{'__name__': '__main__', '__doc__': 'Automatically created module for IPython interactive environment', '__package__': None, '__loader__': None, '__spec__': None, '__builtin__': <module 'builtins' (built-in)>, '__builtins__': <module 'builtins' (built-in)>, '_ih': ['', '#函数定义与函数结构\\ndef myfunc1(parm1,parm2=\\'amazing\\'):\\n    \"    here is document for this function    multi lines     \"#__doc__ here\\n    \\n    something=parm1\\n    \\n    return str(something)+\\' is \\'+parm2\\n\\nmyfunc1(\\'daivd\\')\\nmyfunc1(\\'daivd\\',\\'perfect\\')', '#函数定义与函数结构\\ndef myfunc1(parm1,parm2=\\'amazing\\'):\\n    \"    here is document for this function    multi lines     \"#__doc__ here\\n    \\n    something=parm1\\n    \\n    return str(something)+\\' is \\'+parm2\\n\\nmyfunc1(\\'daivd\\')\\nmyfunc1(\\'daivd\\',\\'perfect\\')', \"from inspect import signature# 注意是小写的signature\\n\\ndef func(parm1,parm2='kw'):\\n    return parm1\\n\\ndef func(parm1):\\n    pass\\n\\n# 获取函数签名\\nfunc_sig = signature(func)\\n# 通过函数签名的parameters属性，可以获取函数参数\\nfunc_params = func_sig.parameters\\nfunc_params\\n\\n#或者直接使用ipython下的?\", \"def test1(a,b,c=1):\\n    str1='julyedu.com'\\n    return b\\n\\ntest1.__code__.co_name#函数名\\n\\ntest1.__code__.co_filename#函数所在文件名\\ntest1.__code__.co_firstlineno#函数在文件中的首行的行数\\n\\ntest1.__code__.co_argcount#参数个数\\ntest1.__code__.co_varnames#局部变量名\\n\\ntest1.__code__.co_code###字节码（二进制存储）\\n\\ntest1.__code__.co_nlocals#多少个局部变量\\ntest1.__code__.co_varnames#多少个局部变量的名字。\\n\\ntest1.__code__.co_stacksize#栈桢的大小\", 'get_ipython().run_line_magic(\\'config\\', \"ZMQInteractiveShell.ast_node_interactivity=\\'all\\'\")', \"def test1(a,b,c=1):\\n    str1='julyedu.com'\\n    return b\\n\\ntest1.__code__.co_name#函数名\\n\\ntest1.__code__.co_filename#函数所在文件名\\ntest1.__code__.co_firstlineno#函数在文件中的首行的行数\\n\\ntest1.__code__.co_argcount#参数个数\\ntest1.__code__.co_varnames#局部变量名\\n\\ntest1.__code__.co_code###字节码（二进制存储）\\n\\ntest1.__code__.co_nlocals#多少个局部变量\\ntest1.__code__.co_varnames#多少个局部变量的名字。\\n\\ntest1.__code__.co_stacksize#栈桢的大小\", \"def myadd1(a,b,c,d,*parms):\\n    print(type(parms))\\n    print('parms:',parms)\\n    print('a,b,c,d:',a,b,c,d)\\n    return sum(parms)\\n\\nmyadd1(1,2,3,4,5,6)\\n\\ndef myadd2(arg,*args):\\n    print(type(args))\\n    print(args)\\n    return sum(args)\\n\\nmyadd2(18,1,2,3)\\n\\n\\ndef myadd3(arg,*args):\\n    print(type(args))\\n    print(args)\\n    return sum(args)\\nmyadd3(18,1,2,3)\", 'help(round)', '```\\ndef test(a,b):\\n    c=a+b\\n    return c\\n    \\ndis.dis(test)\\n\\n  2           0 LOAD_FAST                0 (a) #从Fast读取参数a,压入用户栈\\n              2 LOAD_FAST                1 (b)#从Fast读取参数b,压入用户栈\\n              4 BINARY_ADD#系统指令从用户栈读取操作数，执行加法操作\\n              6 STORE_FAST               2 (c)#结果写回Fast\\n\\n  3           8 LOAD_FAST                2 (c)\\n             10 RETURN_VALUE\\n```', 'def test():\\n    return id(locals())\\n\\nprint(test())', 'def test():\\n    return id(locals())\\n\\nprint(test())#Create New StackFrame\\nprint(test())#Create Another New StackFrame\\nprint(test()==test())#Create Another New StackFrame', 'def test():\\n    return id(locals())\\n\\nprint(test())#Create New StackFrame\\nprint(test())#Create Another New StackFrame', '#函数定义与函数结构\\ndef myfunc1(parm1,parm2=\\'amazing\\'):\\n    \"    here is document for this function    multi lines     \"#__doc__ here\\n    \\n    something=parm1\\n    \\n    return str(something)+\\' is \\'+parm2\\n\\nmyfunc1(\\'daivd\\')\\nmyfunc1(\\'daivd\\',\\'perfect\\')', \"def test1(a,b,c=1):\\n    str1='julyedu.com'\\n    return b\\n\\ntest1.__code__#代码对象\\ntest1.__code__.co_name#函数名\\n\\ntest1.__code__.co_filename#函数所在文件名\\ntest1.__code__.co_firstlineno#函数在文件中的首行的行数\\n\\ntest1.__code__.co_argcount#参数个数\\ntest1.__code__.co_varnames#局部变量名\\n\\ntest1.__code__.co_code###字节码（二进制存储）\\n\\ntest1.__code__.co_nlocals#多少个局部变量\\ntest1.__code__.co_varnames#多少个局部变量的名字。\\n\\ntest1.__code__.co_stacksize#占用了几个栈桢\", \"def test1(a,b,c=1):\\n    str1='julyedu.com'\\n    return b\\n\\ntest1.__code__#代码对象\\n# test1.__code__.co_name#函数名\\n\\n# test1.__code__.co_filename#函数所在文件名\\n# test1.__code__.co_firstlineno#函数在文件中的首行的行数\\n\\n# test1.__code__.co_argcount#参数个数\\n# test1.__code__.co_varnames#局部变量名\\n\\n# test1.__code__.co_code###字节码（二进制存储）\\n\\n# test1.__code__.co_nlocals#多少个局部变量\\n# test1.__code__.co_varnames#多少个局部变量的名字。\\n\\n# test1.__code__.co_stacksize#占用了几个栈桢\", 'def test1(a,b,c=1):\\n    str1=\\'julyedu.com\\'\\n    return b\\n\\ntest1.__code__#代码对象 <code object test1 at 0x0000023812E75A50, file \"<ipython-input-14-1306b5bc9b20>\", line 1>\\ntest1.__code__.co_name#函数名\\n\\ntest1.__code__.co_filename#函数所在文件名\\ntest1.__code__.co_firstlineno#函数在文件中的首行的行数\\n\\ntest1.__code__.co_argcount#参数个数\\ntest1.__code__.co_varnames#局部变量名\\n\\ntest1.__code__.co_code###字节码（二进制存储）\\n\\ntest1.__code__.co_nlocals#多少个局部变量\\ntest1.__code__.co_varnames#多少个局部变量的名字。\\n\\n# test1.__code__.co_stacksize#占用了几个栈桢', '##### 扩展阅读：', 'def add(n):\\n    return n*num\\nadd.num=77\\nadd(7)', '#def是运行期指令\\nimport dis;dis.dis(compile(\"def test():pass\",\"\",\"exec\"))', '#def是运行期指令\\nimport dis;dis.dis(compile(\"def test():pass\",\"\",\"exec\"))\\n\\n#def伪码\\ntest=make_function(\\'test\\',code)#dis操作是在函数实例创建完成后针对__code__，而非针对创建过程', '#def是运行期指令\\nimport dis;dis.dis(compile(\"def test():pass\",\"\",\"exec\"))', \"#def伪码\\ntest=make_function('test',code)#dis操作是在函数实例创建完成后针对__code__，而非针对创建过程\\n\\n#以单个代码对象为模板创建多个函数实例\\ndef make_func(n):\\n    ret=[]\\n    for i in range(n):\\n        def test():print('hello',n)\\n        print(id(test),id(test.__code__))\\n        ret.append(test)\\n    return ret\\n\\nmake_func(4)#不同实例，相同代码，也可以不同实例，不同代码（属性动态添加）\", \"#def伪码\\n#test=make_function('test',code)#dis操作是在函数实例创建完成后针对__code__，而非针对创建过程\\n\\n#以单个代码对象为模板创建多个函数实例\\ndef make_func(n):\\n    ret=[]\\n    for i in range(n):\\n        def test():print('hello',n)\\n        print(id(test),id(test.__code__))\\n        ret.append(test)\\n    return ret\\n\\nmake_func(4)#不同实例，相同代码，也可以不同实例，不同代码（属性动态添加）\", 'def func():\\n    import sys\\n    frame = sys._getframe()\\n    print(frame.f_locals)\\n    print(frame.f_globals)\\n    print(frame.f_back.f_locals)\\n    #你可以打印frame的各个域\\n    print(s)\\nfunc()    ', 'import sys\\ndef func():    \\n    frame = sys._getframe()\\n    print(frame.f_locals)\\n    print(frame.f_globals)\\n    print(frame.f_back.f_locals)\\n    #你可以打印frame的各个域\\n    print(s)\\nfunc()    '], '_oh': {1: 'daivd is perfect', 2: 'daivd is perfect', 3: mappingproxy(OrderedDict([('parm1', <Parameter \"parm1\">)])), 4: 1, 6: 1, 7: 6, 13: 'daivd is perfect', 14: 1, 15: <code object test1 at 0x0000023812F3BED0, file \"<ipython-input-15-6aea59552b55>\", line 1>, 16: ('a', 'b', 'c', 'str1'), 23: [<function make_func.<locals>.test at 0x0000023812FBA400>, <function make_func.<locals>.test at 0x0000023812F906A8>, <function make_func.<locals>.test at 0x0000023812F90B70>, <function make_func.<locals>.test at 0x0000023812F90950>]}, '_dh': ['C:\\\\Users\\\\David'], 'In': ['', '#函数定义与函数结构\\ndef myfunc1(parm1,parm2=\\'amazing\\'):\\n    \"    here is document for this function    multi lines     \"#__doc__ here\\n    \\n    something=parm1\\n    \\n    return str(something)+\\' is \\'+parm2\\n\\nmyfunc1(\\'daivd\\')\\nmyfunc1(\\'daivd\\',\\'perfect\\')', '#函数定义与函数结构\\ndef myfunc1(parm1,parm2=\\'amazing\\'):\\n    \"    here is document for this function    multi lines     \"#__doc__ here\\n    \\n    something=parm1\\n    \\n    return str(something)+\\' is \\'+parm2\\n\\nmyfunc1(\\'daivd\\')\\nmyfunc1(\\'daivd\\',\\'perfect\\')', \"from inspect import signature# 注意是小写的signature\\n\\ndef func(parm1,parm2='kw'):\\n    return parm1\\n\\ndef func(parm1):\\n    pass\\n\\n# 获取函数签名\\nfunc_sig = signature(func)\\n# 通过函数签名的parameters属性，可以获取函数参数\\nfunc_params = func_sig.parameters\\nfunc_params\\n\\n#或者直接使用ipython下的?\", \"def test1(a,b,c=1):\\n    str1='julyedu.com'\\n    return b\\n\\ntest1.__code__.co_name#函数名\\n\\ntest1.__code__.co_filename#函数所在文件名\\ntest1.__code__.co_firstlineno#函数在文件中的首行的行数\\n\\ntest1.__code__.co_argcount#参数个数\\ntest1.__code__.co_varnames#局部变量名\\n\\ntest1.__code__.co_code###字节码（二进制存储）\\n\\ntest1.__code__.co_nlocals#多少个局部变量\\ntest1.__code__.co_varnames#多少个局部变量的名字。\\n\\ntest1.__code__.co_stacksize#栈桢的大小\", 'get_ipython().run_line_magic(\\'config\\', \"ZMQInteractiveShell.ast_node_interactivity=\\'all\\'\")', \"def test1(a,b,c=1):\\n    str1='julyedu.com'\\n    return b\\n\\ntest1.__code__.co_name#函数名\\n\\ntest1.__code__.co_filename#函数所在文件名\\ntest1.__code__.co_firstlineno#函数在文件中的首行的行数\\n\\ntest1.__code__.co_argcount#参数个数\\ntest1.__code__.co_varnames#局部变量名\\n\\ntest1.__code__.co_code###字节码（二进制存储）\\n\\ntest1.__code__.co_nlocals#多少个局部变量\\ntest1.__code__.co_varnames#多少个局部变量的名字。\\n\\ntest1.__code__.co_stacksize#栈桢的大小\", \"def myadd1(a,b,c,d,*parms):\\n    print(type(parms))\\n    print('parms:',parms)\\n    print('a,b,c,d:',a,b,c,d)\\n    return sum(parms)\\n\\nmyadd1(1,2,3,4,5,6)\\n\\ndef myadd2(arg,*args):\\n    print(type(args))\\n    print(args)\\n    return sum(args)\\n\\nmyadd2(18,1,2,3)\\n\\n\\ndef myadd3(arg,*args):\\n    print(type(args))\\n    print(args)\\n    return sum(args)\\nmyadd3(18,1,2,3)\", 'help(round)', '```\\ndef test(a,b):\\n    c=a+b\\n    return c\\n    \\ndis.dis(test)\\n\\n  2           0 LOAD_FAST                0 (a) #从Fast读取参数a,压入用户栈\\n              2 LOAD_FAST                1 (b)#从Fast读取参数b,压入用户栈\\n              4 BINARY_ADD#系统指令从用户栈读取操作数，执行加法操作\\n              6 STORE_FAST               2 (c)#结果写回Fast\\n\\n  3           8 LOAD_FAST                2 (c)\\n             10 RETURN_VALUE\\n```', 'def test():\\n    return id(locals())\\n\\nprint(test())', 'def test():\\n    return id(locals())\\n\\nprint(test())#Create New StackFrame\\nprint(test())#Create Another New StackFrame\\nprint(test()==test())#Create Another New StackFrame', 'def test():\\n    return id(locals())\\n\\nprint(test())#Create New StackFrame\\nprint(test())#Create Another New StackFrame', '#函数定义与函数结构\\ndef myfunc1(parm1,parm2=\\'amazing\\'):\\n    \"    here is document for this function    multi lines     \"#__doc__ here\\n    \\n    something=parm1\\n    \\n    return str(something)+\\' is \\'+parm2\\n\\nmyfunc1(\\'daivd\\')\\nmyfunc1(\\'daivd\\',\\'perfect\\')', \"def test1(a,b,c=1):\\n    str1='julyedu.com'\\n    return b\\n\\ntest1.__code__#代码对象\\ntest1.__code__.co_name#函数名\\n\\ntest1.__code__.co_filename#函数所在文件名\\ntest1.__code__.co_firstlineno#函数在文件中的首行的行数\\n\\ntest1.__code__.co_argcount#参数个数\\ntest1.__code__.co_varnames#局部变量名\\n\\ntest1.__code__.co_code###字节码（二进制存储）\\n\\ntest1.__code__.co_nlocals#多少个局部变量\\ntest1.__code__.co_varnames#多少个局部变量的名字。\\n\\ntest1.__code__.co_stacksize#占用了几个栈桢\", \"def test1(a,b,c=1):\\n    str1='julyedu.com'\\n    return b\\n\\ntest1.__code__#代码对象\\n# test1.__code__.co_name#函数名\\n\\n# test1.__code__.co_filename#函数所在文件名\\n# test1.__code__.co_firstlineno#函数在文件中的首行的行数\\n\\n# test1.__code__.co_argcount#参数个数\\n# test1.__code__.co_varnames#局部变量名\\n\\n# test1.__code__.co_code###字节码（二进制存储）\\n\\n# test1.__code__.co_nlocals#多少个局部变量\\n# test1.__code__.co_varnames#多少个局部变量的名字。\\n\\n# test1.__code__.co_stacksize#占用了几个栈桢\", 'def test1(a,b,c=1):\\n    str1=\\'julyedu.com\\'\\n    return b\\n\\ntest1.__code__#代码对象 <code object test1 at 0x0000023812E75A50, file \"<ipython-input-14-1306b5bc9b20>\", line 1>\\ntest1.__code__.co_name#函数名\\n\\ntest1.__code__.co_filename#函数所在文件名\\ntest1.__code__.co_firstlineno#函数在文件中的首行的行数\\n\\ntest1.__code__.co_argcount#参数个数\\ntest1.__code__.co_varnames#局部变量名\\n\\ntest1.__code__.co_code###字节码（二进制存储）\\n\\ntest1.__code__.co_nlocals#多少个局部变量\\ntest1.__code__.co_varnames#多少个局部变量的名字。\\n\\n# test1.__code__.co_stacksize#占用了几个栈桢', '##### 扩展阅读：', 'def add(n):\\n    return n*num\\nadd.num=77\\nadd(7)', '#def是运行期指令\\nimport dis;dis.dis(compile(\"def test():pass\",\"\",\"exec\"))', '#def是运行期指令\\nimport dis;dis.dis(compile(\"def test():pass\",\"\",\"exec\"))\\n\\n#def伪码\\ntest=make_function(\\'test\\',code)#dis操作是在函数实例创建完成后针对__code__，而非针对创建过程', '#def是运行期指令\\nimport dis;dis.dis(compile(\"def test():pass\",\"\",\"exec\"))', \"#def伪码\\ntest=make_function('test',code)#dis操作是在函数实例创建完成后针对__code__，而非针对创建过程\\n\\n#以单个代码对象为模板创建多个函数实例\\ndef make_func(n):\\n    ret=[]\\n    for i in range(n):\\n        def test():print('hello',n)\\n        print(id(test),id(test.__code__))\\n        ret.append(test)\\n    return ret\\n\\nmake_func(4)#不同实例，相同代码，也可以不同实例，不同代码（属性动态添加）\", \"#def伪码\\n#test=make_function('test',code)#dis操作是在函数实例创建完成后针对__code__，而非针对创建过程\\n\\n#以单个代码对象为模板创建多个函数实例\\ndef make_func(n):\\n    ret=[]\\n    for i in range(n):\\n        def test():print('hello',n)\\n        print(id(test),id(test.__code__))\\n        ret.append(test)\\n    return ret\\n\\nmake_func(4)#不同实例，相同代码，也可以不同实例，不同代码（属性动态添加）\", 'def func():\\n    import sys\\n    frame = sys._getframe()\\n    print(frame.f_locals)\\n    print(frame.f_globals)\\n    print(frame.f_back.f_locals)\\n    #你可以打印frame的各个域\\n    print(s)\\nfunc()    ', 'import sys\\ndef func():    \\n    frame = sys._getframe()\\n    print(frame.f_locals)\\n    print(frame.f_globals)\\n    print(frame.f_back.f_locals)\\n    #你可以打印frame的各个域\\n    print(s)\\nfunc()    '], 'Out': {1: 'daivd is perfect', 2: 'daivd is perfect', 3: mappingproxy(OrderedDict([('parm1', <Parameter \"parm1\">)])), 4: 1, 6: 1, 7: 6, 13: 'daivd is perfect', 14: 1, 15: <code object test1 at 0x0000023812F3BED0, file \"<ipython-input-15-6aea59552b55>\", line 1>, 16: ('a', 'b', 'c', 'str1'), 23: [<function make_func.<locals>.test at 0x0000023812FBA400>, <function make_func.<locals>.test at 0x0000023812F906A8>, <function make_func.<locals>.test at 0x0000023812F90B70>, <function make_func.<locals>.test at 0x0000023812F90950>]}, 'get_ipython': <bound method InteractiveShell.get_ipython of <ipykernel.zmqshell.ZMQInteractiveShell object at 0x000002381260AC88>>, 'exit': <IPython.core.autocall.ZMQExitAutocall object at 0x0000023812E625F8>, 'quit': <IPython.core.autocall.ZMQExitAutocall object at 0x0000023812E625F8>, '_': [<function make_func.<locals>.test at 0x0000023812FBA400>, <function make_func.<locals>.test at 0x0000023812F906A8>, <function make_func.<locals>.test at 0x0000023812F90B70>, <function make_func.<locals>.test at 0x0000023812F90950>], '__': ('a', 'b', 'c', 'str1'), '___': 4, '_i': 'def func():\\n    import sys\\n    frame = sys._getframe()\\n    print(frame.f_locals)\\n    print(frame.f_globals)\\n    print(frame.f_back.f_locals)\\n    #你可以打印frame的各个域\\n    print(s)\\nfunc()    ', '_ii': \"#def伪码\\n#test=make_function('test',code)#dis操作是在函数实例创建完成后针对__code__，而非针对创建过程\\n\\n#以单个代码对象为模板创建多个函数实例\\ndef make_func(n):\\n    ret=[]\\n    for i in range(n):\\n        def test():print('hello',n)\\n        print(id(test),id(test.__code__))\\n        ret.append(test)\\n    return ret\\n\\nmake_func(4)#不同实例，相同代码，也可以不同实例，不同代码（属性动态添加）\", '_iii': \"#def伪码\\ntest=make_function('test',code)#dis操作是在函数实例创建完成后针对__code__，而非针对创建过程\\n\\n#以单个代码对象为模板创建多个函数实例\\ndef make_func(n):\\n    ret=[]\\n    for i in range(n):\\n        def test():print('hello',n)\\n        print(id(test),id(test.__code__))\\n        ret.append(test)\\n    return ret\\n\\nmake_func(4)#不同实例，相同代码，也可以不同实例，不同代码（属性动态添加）\", '_i1': '#函数定义与函数结构\\ndef myfunc1(parm1,parm2=\\'amazing\\'):\\n    \"\\\\\\n    here is document for this function\\\\\\n    multi lines \\\\\\n    \"#__doc__ here\\n    \\n    something=parm1\\n    \\n    return str(something)+\\' is \\'+parm2\\n\\nmyfunc1(\\'daivd\\')\\nmyfunc1(\\'daivd\\',\\'perfect\\')', 'myfunc1': <function myfunc1 at 0x0000023812FBA620>, '_1': 'daivd is perfect', '_i2': '#函数定义与函数结构\\ndef myfunc1(parm1,parm2=\\'amazing\\'):\\n    \"\\\\\\n    here is document for this function\\\\\\n    multi lines \\\\\\n    \"#__doc__ here\\n    \\n    something=parm1\\n    \\n    return str(something)+\\' is \\'+parm2\\n\\nmyfunc1(\\'daivd\\')\\nmyfunc1(\\'daivd\\',\\'perfect\\')', '_2': 'daivd is perfect', '_i3': \"from inspect import signature# 注意是小写的signature\\n\\ndef func(parm1,parm2='kw'):\\n    return parm1\\n\\ndef func(parm1):\\n    pass\\n\\n# 获取函数签名\\nfunc_sig = signature(func)\\n# 通过函数签名的parameters属性，可以获取函数参数\\nfunc_params = func_sig.parameters\\nfunc_params\\n\\n#或者直接使用ipython下的?\", 'signature': <function signature at 0x0000023811016D08>, 'func': <function func at 0x0000023812FBA048>, 'func_sig': <Signature (parm1)>, 'func_params': mappingproxy(OrderedDict([('parm1', <Parameter \"parm1\">)])), '_3': mappingproxy(OrderedDict([('parm1', <Parameter \"parm1\">)])), '_i4': \"def test1(a,b,c=1):\\n    str1='julyedu.com'\\n    return b\\n\\ntest1.__code__.co_name#函数名\\n\\ntest1.__code__.co_filename#函数所在文件名\\ntest1.__code__.co_firstlineno#函数在文件中的首行的行数\\n\\ntest1.__code__.co_argcount#参数个数\\ntest1.__code__.co_varnames#局部变量名\\n\\ntest1.__code__.co_code###字节码（二进制存储）\\n\\ntest1.__code__.co_nlocals#多少个局部变量\\ntest1.__code__.co_varnames#多少个局部变量的名字。\\n\\ntest1.__code__.co_stacksize#栈桢的大小\", 'test1': <function test1 at 0x0000023812FBA730>, '_4': 1, '_i5': \"%config ZMQInteractiveShell.ast_node_interactivity='all'\", '_i6': \"def test1(a,b,c=1):\\n    str1='julyedu.com'\\n    return b\\n\\ntest1.__code__.co_name#函数名\\n\\ntest1.__code__.co_filename#函数所在文件名\\ntest1.__code__.co_firstlineno#函数在文件中的首行的行数\\n\\ntest1.__code__.co_argcount#参数个数\\ntest1.__code__.co_varnames#局部变量名\\n\\ntest1.__code__.co_code###字节码（二进制存储）\\n\\ntest1.__code__.co_nlocals#多少个局部变量\\ntest1.__code__.co_varnames#多少个局部变量的名字。\\n\\ntest1.__code__.co_stacksize#栈桢的大小\", '_6': 1, '_i7': \"def myadd1(a,b,c,d,*parms):\\n    print(type(parms))\\n    print('parms:',parms)\\n    print('a,b,c,d:',a,b,c,d)\\n    return sum(parms)\\n\\nmyadd1(1,2,3,4,5,6)\\n\\ndef myadd2(arg,*args):\\n    print(type(args))\\n    print(args)\\n    return sum(args)\\n\\nmyadd2(18,1,2,3)\\n\\n\\ndef myadd3(arg,*args):\\n    print(type(args))\\n    print(args)\\n    return sum(args)\\nmyadd3(18,1,2,3)\", 'myadd1': <function myadd1 at 0x0000023812F40EA0>, '_7': 6, 'myadd2': <function myadd2 at 0x0000023812F900D0>, 'myadd3': <function myadd3 at 0x0000023812F40B70>, '_i8': 'help(round)', '_i9': '```\\ndef test(a,b):\\n    c=a+b\\n    return c\\n    \\ndis.dis(test)\\n\\n  2           0 LOAD_FAST                0 (a) #从Fast读取参数a,压入用户栈\\n              2 LOAD_FAST                1 (b)#从Fast读取参数b,压入用户栈\\n              4 BINARY_ADD#系统指令从用户栈读取操作数，执行加法操作\\n              6 STORE_FAST               2 (c)#结果写回Fast\\n\\n  3           8 LOAD_FAST                2 (c)\\n             10 RETURN_VALUE\\n```', '_i10': 'def test():\\n    return id(locals())\\n\\nprint(test())', 'test': <function test at 0x0000023812FBAA60>, '_i11': 'def test():\\n    return id(locals())\\n\\nprint(test())#Create New StackFrame\\nprint(test())#Create Another New StackFrame\\nprint(test()==test())#Create Another New StackFrame', '_i12': 'def test():\\n    return id(locals())\\n\\nprint(test())#Create New StackFrame\\nprint(test())#Create Another New StackFrame', '_i13': '#函数定义与函数结构\\ndef myfunc1(parm1,parm2=\\'amazing\\'):\\n    \"\\\\\\n    here is document for this function\\\\\\n    multi lines \\\\\\n    \"#__doc__ here\\n    \\n    something=parm1\\n    \\n    return str(something)+\\' is \\'+parm2\\n\\nmyfunc1(\\'daivd\\')\\nmyfunc1(\\'daivd\\',\\'perfect\\')', '_13': 'daivd is perfect', '_i14': \"def test1(a,b,c=1):\\n    str1='julyedu.com'\\n    return b\\n\\ntest1.__code__#代码对象\\ntest1.__code__.co_name#函数名\\n\\ntest1.__code__.co_filename#函数所在文件名\\ntest1.__code__.co_firstlineno#函数在文件中的首行的行数\\n\\ntest1.__code__.co_argcount#参数个数\\ntest1.__code__.co_varnames#局部变量名\\n\\ntest1.__code__.co_code###字节码（二进制存储）\\n\\ntest1.__code__.co_nlocals#多少个局部变量\\ntest1.__code__.co_varnames#多少个局部变量的名字。\\n\\ntest1.__code__.co_stacksize#占用了几个栈桢\", '_14': 1, '_i15': \"def test1(a,b,c=1):\\n    str1='julyedu.com'\\n    return b\\n\\ntest1.__code__#代码对象\\n# test1.__code__.co_name#函数名\\n\\n# test1.__code__.co_filename#函数所在文件名\\n# test1.__code__.co_firstlineno#函数在文件中的首行的行数\\n\\n# test1.__code__.co_argcount#参数个数\\n# test1.__code__.co_varnames#局部变量名\\n\\n# test1.__code__.co_code###字节码（二进制存储）\\n\\n# test1.__code__.co_nlocals#多少个局部变量\\n# test1.__code__.co_varnames#多少个局部变量的名字。\\n\\n# test1.__code__.co_stacksize#占用了几个栈桢\", '_15': <code object test1 at 0x0000023812F3BED0, file \"<ipython-input-15-6aea59552b55>\", line 1>, '_i16': 'def test1(a,b,c=1):\\n    str1=\\'julyedu.com\\'\\n    return b\\n\\ntest1.__code__#代码对象 <code object test1 at 0x0000023812E75A50, file \"<ipython-input-14-1306b5bc9b20>\", line 1>\\ntest1.__code__.co_name#函数名\\n\\ntest1.__code__.co_filename#函数所在文件名\\ntest1.__code__.co_firstlineno#函数在文件中的首行的行数\\n\\ntest1.__code__.co_argcount#参数个数\\ntest1.__code__.co_varnames#局部变量名\\n\\ntest1.__code__.co_code###字节码（二进制存储）\\n\\ntest1.__code__.co_nlocals#多少个局部变量\\ntest1.__code__.co_varnames#多少个局部变量的名字。\\n\\n# test1.__code__.co_stacksize#占用了几个栈桢', '_16': ('a', 'b', 'c', 'str1'), '_i17': '##### 扩展阅读：', '_i18': 'def add(n):\\n    return n*num\\nadd.num=77\\nadd(7)', 'add': <function add at 0x0000023812E77D08>, '_i19': '#def是运行期指令\\nimport dis;dis.dis(compile(\"def test():pass\",\"\",\"exec\"))', 'dis': <module 'dis' from 'C:\\\\Users\\\\David\\\\Anaconda3\\\\lib\\\\dis.py'>, '_i20': '#def是运行期指令\\nimport dis;dis.dis(compile(\"def test():pass\",\"\",\"exec\"))\\n\\n#def伪码\\ntest=make_function(\\'test\\',code)#dis操作是在函数实例创建完成后针对__code__，而非针对创建过程', '_i21': '#def是运行期指令\\nimport dis;dis.dis(compile(\"def test():pass\",\"\",\"exec\"))', '_i22': \"#def伪码\\ntest=make_function('test',code)#dis操作是在函数实例创建完成后针对__code__，而非针对创建过程\\n\\n#以单个代码对象为模板创建多个函数实例\\ndef make_func(n):\\n    ret=[]\\n    for i in range(n):\\n        def test():print('hello',n)\\n        print(id(test),id(test.__code__))\\n        ret.append(test)\\n    return ret\\n\\nmake_func(4)#不同实例，相同代码，也可以不同实例，不同代码（属性动态添加）\", '_i23': \"#def伪码\\n#test=make_function('test',code)#dis操作是在函数实例创建完成后针对__code__，而非针对创建过程\\n\\n#以单个代码对象为模板创建多个函数实例\\ndef make_func(n):\\n    ret=[]\\n    for i in range(n):\\n        def test():print('hello',n)\\n        print(id(test),id(test.__code__))\\n        ret.append(test)\\n    return ret\\n\\nmake_func(4)#不同实例，相同代码，也可以不同实例，不同代码（属性动态添加）\", 'make_func': <function make_func at 0x0000023812FBA598>, '_23': [<function make_func.<locals>.test at 0x0000023812FBA400>, <function make_func.<locals>.test at 0x0000023812F906A8>, <function make_func.<locals>.test at 0x0000023812F90B70>, <function make_func.<locals>.test at 0x0000023812F90950>], '_i24': 'def func():\\n    import sys\\n    frame = sys._getframe()\\n    print(frame.f_locals)\\n    print(frame.f_globals)\\n    print(frame.f_back.f_locals)\\n    #你可以打印frame的各个域\\n    print(s)\\nfunc()    ', '_i25': 'import sys\\ndef func():    \\n    frame = sys._getframe()\\n    print(frame.f_locals)\\n    print(frame.f_globals)\\n    print(frame.f_back.f_locals)\\n    #你可以打印frame的各个域\\n    print(s)\\nfunc()    ', 'sys': <module 'sys' (built-in)>}\n"
     ]
    },
    {
     "ename": "NameError",
     "evalue": "name 's' is not defined",
     "output_type": "error",
     "traceback": [
      "\u001b[1;31m---------------------------------------------------------------------------\u001b[0m",
      "\u001b[1;31mNameError\u001b[0m                                 Traceback (most recent call last)",
      "\u001b[1;32m<ipython-input-25-4d9890f43e3d>\u001b[0m in \u001b[0;36m<module>\u001b[1;34m()\u001b[0m\n\u001b[0;32m      7\u001b[0m     \u001b[1;31m#你可以打印frame的各个域\u001b[0m\u001b[1;33m\u001b[0m\u001b[1;33m\u001b[0m\u001b[0m\n\u001b[0;32m      8\u001b[0m     \u001b[0mprint\u001b[0m\u001b[1;33m(\u001b[0m\u001b[0ms\u001b[0m\u001b[1;33m)\u001b[0m\u001b[1;33m\u001b[0m\u001b[0m\n\u001b[1;32m----> 9\u001b[1;33m \u001b[0mfunc\u001b[0m\u001b[1;33m(\u001b[0m\u001b[1;33m)\u001b[0m\u001b[1;33m\u001b[0m\u001b[0m\n\u001b[0m",
      "\u001b[1;32m<ipython-input-25-4d9890f43e3d>\u001b[0m in \u001b[0;36mfunc\u001b[1;34m()\u001b[0m\n\u001b[0;32m      6\u001b[0m     \u001b[0mprint\u001b[0m\u001b[1;33m(\u001b[0m\u001b[0mframe\u001b[0m\u001b[1;33m.\u001b[0m\u001b[0mf_back\u001b[0m\u001b[1;33m.\u001b[0m\u001b[0mf_locals\u001b[0m\u001b[1;33m)\u001b[0m\u001b[1;33m\u001b[0m\u001b[0m\n\u001b[0;32m      7\u001b[0m     \u001b[1;31m#你可以打印frame的各个域\u001b[0m\u001b[1;33m\u001b[0m\u001b[1;33m\u001b[0m\u001b[0m\n\u001b[1;32m----> 8\u001b[1;33m     \u001b[0mprint\u001b[0m\u001b[1;33m(\u001b[0m\u001b[0ms\u001b[0m\u001b[1;33m)\u001b[0m\u001b[1;33m\u001b[0m\u001b[0m\n\u001b[0m\u001b[0;32m      9\u001b[0m \u001b[0mfunc\u001b[0m\u001b[1;33m(\u001b[0m\u001b[1;33m)\u001b[0m\u001b[1;33m\u001b[0m\u001b[0m\n",
      "\u001b[1;31mNameError\u001b[0m: name 's' is not defined"
     ]
    }
   ],
   "source": [
    "import sys\n",
    "def func():    \n",
    "    frame = sys._getframe()\n",
    "    print(frame.f_locals)\n",
    "    print(frame.f_globals)\n",
    "    print(frame.f_back.f_locals)\n",
    "    #你可以打印frame的各个域\n",
    "    print(s)\n",
    "func()    "
   ]
  },
  {
   "cell_type": "code",
   "execution_count": 26,
   "metadata": {},
   "outputs": [
    {
     "name": "stdout",
     "output_type": "stream",
     "text": [
      "------\n",
      "current function is :  A\n",
      "caller function is :  B\n",
      "caller's local namespace :  {'b': 2, 'a': 1}\n",
      "caller's global namespace :  dict_keys(['__name__', '__doc__', '__package__', '__loader__', '__spec__', '__builtin__', '__builtins__', '_ih', '_oh', '_dh', 'In', 'Out', 'get_ipython', 'exit', 'quit', '_', '__', '___', '_i', '_ii', '_iii', '_i1', 'myfunc1', '_1', '_i2', '_2', '_i3', 'signature', 'func', 'func_sig', 'func_params', '_3', '_i4', 'test1', '_4', '_i5', '_i6', '_6', '_i7', 'myadd1', '_7', 'myadd2', 'myadd3', '_i8', '_i9', '_i10', 'test', '_i11', '_i12', '_i13', '_13', '_i14', '_14', '_i15', '_15', '_i16', '_16', '_i17', '_i18', 'add', '_i19', 'dis', '_i20', '_i21', '_i22', '_i23', 'make_func', '_23', '_i24', '_i25', 'sys', '_i26', 'value', 'A', 'B'])\n",
      "------\n"
     ]
    }
   ],
   "source": [
    "import sys\n",
    "value = 3\n",
    "def A():\n",
    "    frame = sys._getframe()\n",
    "    print ('current function is : ', frame.f_code.co_name)\n",
    "    caller = frame.f_back\n",
    "    print ('caller function is : ', caller.f_code.co_name)\n",
    "    print (\"caller's local namespace : \", caller.f_locals)\n",
    "    print (\"caller's global namespace : \",caller.f_globals.keys())\n",
    "def B():\n",
    "    a = 1\n",
    "    b = 2\n",
    "    print('------')\n",
    "    A()\n",
    "    print('------')\n",
    "    \n",
    "B()\n",
    "\n",
    "cf=sys._current_frames()"
   ]
  },
  {
   "cell_type": "code",
   "execution_count": 170,
   "metadata": {},
   "outputs": [
    {
     "name": "stdout",
     "output_type": "stream",
     "text": [
      "frame及遍历---------------------------------------------------------------\n",
      "C 栈帧类型和对象: <class 'frame'> <frame object at 0x0000023812BE0298>\n",
      "名字空间---------------------------------------------------------------\n",
      "C 名字空间f_locals（运行期）: {'f': <frame object at 0x0000023812BE0298>, 'c_var': 'test'}\n",
      "代码对象---------------------------------------------------------------\n",
      "C 代码对象f_code: <code object C at 0x0000023813098E40, file \"<ipython-input-170-06ace6844c46>\", line 9>\n",
      "C 代码对象f_fileno: 21\n",
      "C 最后执行指令的偏移量f_lasti: 126\n",
      "栈帧对象---------------------------------------------------------------\n",
      "C  frame f_back: <frame object at 0x0000023812BCCEA8>\n",
      "C  frame f_trace: None\n",
      "f_code,---------------------------------------------------------------\n",
      "该f_code即为对应函数的代码对象-------------------------\n",
      "co_stacksize 5\n"
     ]
    }
   ],
   "source": [
    "import sys,dis\n",
    "def A():\n",
    "    x='func A'\n",
    "    B()\n",
    "\n",
    "def B():\n",
    "    C()\n",
    "\n",
    "def C():\n",
    "    c_var='test'\n",
    "    f=sys._getframe(0)#向上2级，获取A栈帧,1获取B,0是当前\n",
    "    print('frame及遍历---------------------------------------------------------------') \n",
    "    print(f.f_code.co_name,'栈帧类型和对象:',type(f),f)  \n",
    "#     print('遍历:',dir(f))\n",
    "    print('名字空间---------------------------------------------------------------')\n",
    "#     print('函数所在模块的的名字空间f_globalsa或直接globals():',f.f_globals)#返回函数所在模块的的名字空间\n",
    "#     print('frame f_builtins:',f.f_builtins)#A人   \n",
    "    print(f.f_code.co_name,'名字空间f_locals（运行期）:',f.f_locals)#A名字空间（运行期）\n",
    "    print('代码对象---------------------------------------------------------------')    \n",
    "    print(f.f_code.co_name,'代码对象f_code:',f.f_code)#A代码对象\n",
    "    print(f.f_code.co_name,'代码对象f_fileno:',f.f_lineno)#所在文件行数   \n",
    "    print(f.f_code.co_name,'最后执行指令的偏移量f_lasti:',f.f_lasti)#A最后执行指令的偏移量\n",
    "\n",
    "    print('栈帧对象---------------------------------------------------------------')        \n",
    "    print(f.f_code.co_name,' frame f_back:',f.f_back)#前一帧对象\n",
    "    print(f.f_code.co_name,' frame f_trace:',f.f_trace)#trace对象\n",
    "    \n",
    "    print('f_code,---------------------------------------------------------------')        \n",
    "    print('该f_code即为对应函数的代码对象-------------------------')\n",
    "#     print('遍历f_code:',dir(f.f_code))\n",
    "    print('co_stacksize',f.f_code.co_stacksize)\n",
    "    \n",
    "\n",
    "A()"
   ]
  },
  {
   "cell_type": "markdown",
   "metadata": {},
   "source": [
    "返回所有栈帧\n",
    "> sys._current_frames()#返回一个dict对象"
   ]
  },
  {
   "cell_type": "code",
   "execution_count": 28,
   "metadata": {
    "ExecuteTime": {
     "end_time": "2018-12-09T13:07:50.802893Z",
     "start_time": "2018-12-09T13:07:50.795894Z"
    }
   },
   "outputs": [
    {
     "data": {
      "text/plain": [
       "{6792: <frame at 0x26abc39a278>,\n",
       " 7640: <frame at 0x26abaaa24e8>,\n",
       " 9380: <frame at 0x26abad67938>,\n",
       " 10816: <frame at 0x26abcf05cf8>,\n",
       " 13344: <frame at 0x26abada6008>}"
      ]
     },
     "execution_count": 28,
     "metadata": {},
     "output_type": "execute_result"
    }
   ],
   "source": [
    "import sys\n",
    "sys._current_frames()#返回一个dict"
   ]
  },
  {
   "cell_type": "markdown",
   "metadata": {},
   "source": [
    "### 函数的参数:位置参数（定位参数）     与       关键字参数"
   ]
  },
  {
   "cell_type": "markdown",
   "metadata": {},
   "source": [
    "#### 位置参数（定位参数）"
   ]
  },
  {
   "cell_type": "code",
   "execution_count": null,
   "metadata": {},
   "outputs": [],
   "source": [
    "def myadd2(a,b):\n",
    "    return a+b\n",
    "\n",
    "def myadd3(a,b,c):\n",
    "    return a+b+c\n",
    "\n",
    "def myadd4(a,b,c,d):\n",
    "    print(d)"
   ]
  },
  {
   "cell_type": "code",
   "execution_count": 35,
   "metadata": {
    "ExecuteTime": {
     "end_time": "2018-12-09T13:11:57.976686Z",
     "start_time": "2018-12-09T13:11:57.972680Z"
    }
   },
   "outputs": [],
   "source": [
    "#个数匹配"
   ]
  },
  {
   "cell_type": "markdown",
   "metadata": {},
   "source": [
    "##### 扩展阅读： Python可选位置参数"
   ]
  },
  {
   "cell_type": "markdown",
   "metadata": {},
   "source": [
    "Python内置电池round函数的帮助中，出现了[, ndigits]这个东东。\n",
    "其它的一些Python对象提供的方法中也有类似的东东出没，比如对序列对象进行切片访问时。\n",
    "\n",
    "就是Python可选位置参数。\n",
    "\n",
    "注意：这样的参数是无法通过自定义函数来创建的。只有Python中的内置函数可以。\n",
    "\n",
    "\n",
    "```\n",
    "Help on built-in function round in module builtins:\n",
    "\n",
    "round(...)\n",
    "    round(number[, ndigits]) -> number\n",
    "    \n",
    "    Round a number to a given precision in decimal digits (default 0 digits).\n",
    "    This returns an int when called with one argument, otherwise the\n",
    "    same type as the number. ndigits may be negative.\n",
    "\n",
    "```"
   ]
  },
  {
   "cell_type": "markdown",
   "metadata": {},
   "source": [
    "### 关键字参数"
   ]
  },
  {
   "cell_type": "code",
   "execution_count": null,
   "metadata": {},
   "outputs": [],
   "source": [
    "#关键字参数，与不定长关键字参数\n",
    "def myadd0(args,lastnum=1000):\n",
    "    return args+lastnum\n",
    "\n",
    "myadd0(7)"
   ]
  },
  {
   "cell_type": "code",
   "execution_count": 47,
   "metadata": {
    "ExecuteTime": {
     "end_time": "2018-12-09T13:15:31.394258Z",
     "start_time": "2018-12-09T13:15:31.355227Z"
    }
   },
   "outputs": [],
   "source": [
    "def myadd(parm1,parm2=500):\n",
    "    print(parm1+parm2)\n",
    "    \n",
    "def myadd(parm1,parm2=500,parm3=5):\n",
    "    print(parm1+parm2)    \n",
    "    \n",
    "myadd?"
   ]
  },
  {
   "cell_type": "markdown",
   "metadata": {},
   "source": [
    "##### 扩展阅读：查看函数签名"
   ]
  },
  {
   "cell_type": "code",
   "execution_count": 45,
   "metadata": {
    "ExecuteTime": {
     "end_time": "2018-12-09T13:15:05.865106Z",
     "start_time": "2018-12-09T13:15:05.852104Z"
    }
   },
   "outputs": [
    {
     "data": {
      "text/plain": [
       "mappingproxy({'parm1': <Parameter \"parm1\">})"
      ]
     },
     "execution_count": 45,
     "metadata": {},
     "output_type": "execute_result"
    }
   ],
   "source": [
    "from inspect import signature# 注意是小写的signature\n",
    "\n",
    "def func(parm1,parm2='kw'):\n",
    "    return parm1\n",
    "\n",
    "def func(parm1):\n",
    "    pass\n",
    "\n",
    "# 获取函数签名\n",
    "func_sig = signature(func)\n",
    "# 通过函数签名的parameters属性，可以获取函数参数\n",
    "func_params = func_sig.parameters\n",
    "func_params\n",
    "\n",
    "#或者直接使用ipython下的?"
   ]
  },
  {
   "cell_type": "markdown",
   "metadata": {},
   "source": [
    "##### 扩展阅读：函数参数在`__code__`对象下的反映"
   ]
  },
  {
   "cell_type": "code",
   "execution_count": 72,
   "metadata": {},
   "outputs": [
    {
     "data": {
      "text/plain": [
       "('co_argcount', 3)"
      ]
     },
     "execution_count": 72,
     "metadata": {},
     "output_type": "execute_result"
    },
    {
     "data": {
      "text/plain": [
       "('co_nlocals&co_varnames', 4, ('a', 'b', 'c', 'str1'))"
      ]
     },
     "execution_count": 72,
     "metadata": {},
     "output_type": "execute_result"
    },
    {
     "data": {
      "text/plain": [
       "('符号名集合co_names', ())"
      ]
     },
     "execution_count": 72,
     "metadata": {},
     "output_type": "execute_result"
    },
    {
     "data": {
      "text/plain": [
       "('常量集合co_const', (None, 'julyedu.com'))"
      ]
     },
     "execution_count": 72,
     "metadata": {},
     "output_type": "execute_result"
    },
    {
     "data": {
      "text/plain": [
       "('co_flags', 67)"
      ]
     },
     "execution_count": 72,
     "metadata": {},
     "output_type": "execute_result"
    }
   ],
   "source": [
    "def test1(a,b,c=1):\n",
    "    str1='julyedu.com'\n",
    "    return b\n",
    "    \n",
    "'co_argcount',test1.__code__.co_argcount#位置参数的个数，而co_nlocals是局部变量数目，包括位置参数在内。\n",
    "'co_nlocals&co_varnames',test1.__code__.co_nlocals,test1.__code__.co_varnames#多少个局部变量,以及及变量的名字。\n",
    "\n",
    "'符号名集合co_names',test1.__code__.co_names   #符号名集合\n",
    "'常量集合co_const',test1.__code__.co_consts  #常量集合\n",
    "\n",
    "\n",
    "# 位置参数，键（关键字）参数，*args扩展位置参数[元组对象]和**kwargs扩展键（关键字）参数[字典]。\n",
    "\n",
    "# 位置参数还能设置默认值，如果有默认值，默认值是在MAKE_FUNCTION指令赋值给`funcname.__defaults__`的。\n",
    "\n",
    "'co_flags',test1.__code__.co_flags\n",
    "# 【1】function没有args或*kw时，`funcname.__code__.co_flags=67`;\n",
    "# 【2】function有args没有*kw时，funcname.__code__.co_flags=71;\n",
    "# 【3】function没有args有*kw时，funcname.__code__.co_flags=75;\n",
    "# 【4】function既有args也有*kw时，funcname.__code__.co_flags=79;\n",
    "# 【5】function是一个generator时，funcname.__code__.co_flags=99.\n",
    "\n",
    "#对于像 def f(a, b, *lst):这样的函数，如果调用函数时参数为f(1,2,3,4)，其实在PyCodeObject对象中的co_argcount=2, co_nlocals=3。"
   ]
  },
  {
   "cell_type": "markdown",
   "metadata": {},
   "source": [
    "##### 扩展阅读：动态管理函数对象的参数的默认值与属性"
   ]
  },
  {
   "cell_type": "code",
   "execution_count": 116,
   "metadata": {},
   "outputs": [
    {
     "data": {
      "text/plain": [
       "('KB',)"
      ]
     },
     "execution_count": 116,
     "metadata": {},
     "output_type": "execute_result"
    },
    {
     "data": {
      "text/plain": [
       "('TB',)"
      ]
     },
     "execution_count": 116,
     "metadata": {},
     "output_type": "execute_result"
    },
    {
     "data": {
      "text/plain": [
       "'100264106TB'"
      ]
     },
     "execution_count": 116,
     "metadata": {},
     "output_type": "execute_result"
    }
   ],
   "source": [
    "##函数对象参数的默认值存放在函数对象的,__defaults__属性中，是一个Tuple类对象\n",
    "\n",
    "#字节数换算为KB，MB,GB,TB\n",
    "def CaluSize(bytesize,trans='KB'):\n",
    "    if trans=='KB':size=1024\n",
    "    if trans=='MB':size=1024**2\n",
    "    if trans=='GB':size=1024**3\n",
    "    if trans=='TB':size=1024**4\n",
    "    return str(bytesize//size)+trans\n",
    "CaluSize.__defaults__\n",
    "\n",
    "CaluSize.__defaults__=('TB',)\n",
    "CaluSize.__defaults__\n",
    "\n",
    "CaluSize(110241550654651654544)"
   ]
  },
  {
   "cell_type": "code",
   "execution_count": 117,
   "metadata": {},
   "outputs": [
    {
     "data": {
      "text/plain": [
       "<function __main__.CaluSize(bytesize, trans='TB')>"
      ]
     },
     "execution_count": 117,
     "metadata": {},
     "output_type": "execute_result"
    },
    {
     "data": {
      "text/plain": [
       "{}"
      ]
     },
     "execution_count": 117,
     "metadata": {},
     "output_type": "execute_result"
    },
    {
     "data": {
      "text/plain": [
       "{'new_atrr': 'test'}"
      ]
     },
     "execution_count": 117,
     "metadata": {},
     "output_type": "execute_result"
    }
   ],
   "source": [
    "##函数对象属性\n",
    "##函数对象属性值存放在函数对象的,__dict__属性中，是一个Dict类对象\n",
    "CaluSize\n",
    "CaluSize.__dict__\n",
    "CaluSize.__dict__['new_atrr']='test'\n",
    "CaluSize.__dict__"
   ]
  },
  {
   "cell_type": "markdown",
   "metadata": {},
   "source": [
    "### 函数返回值 "
   ]
  },
  {
   "cell_type": "code",
   "execution_count": null,
   "metadata": {},
   "outputs": [],
   "source": [
    "#函数返回值      \n",
    "#有返回值 与无返回值（即使没有return语句，依旧会return一个NoneType类的对象None)\n",
    "\n",
    "def myadd(a):\n",
    "    return a,5\n",
    "\n",
    "def myadd1(a,b,c,d):\n",
    "    print(a+b+c+d)\n",
    "\n",
    "def myadd2(a,b):\n",
    "    pass"
   ]
  },
  {
   "cell_type": "markdown",
   "metadata": {},
   "source": [
    "##  不定长位置参数与不定长关键字参数"
   ]
  },
  {
   "cell_type": "markdown",
   "metadata": {},
   "source": [
    "### 不定长位置参数"
   ]
  },
  {
   "cell_type": "code",
   "execution_count": 7,
   "metadata": {},
   "outputs": [
    {
     "name": "stdout",
     "output_type": "stream",
     "text": [
      "<class 'tuple'>\n",
      "parms: (5, 6)\n",
      "a,b,c,d: 1 2 3 4\n"
     ]
    },
    {
     "data": {
      "text/plain": [
       "11"
      ]
     },
     "execution_count": 7,
     "metadata": {},
     "output_type": "execute_result"
    },
    {
     "name": "stdout",
     "output_type": "stream",
     "text": [
      "<class 'tuple'>\n",
      "(1, 2, 3)\n"
     ]
    },
    {
     "data": {
      "text/plain": [
       "6"
      ]
     },
     "execution_count": 7,
     "metadata": {},
     "output_type": "execute_result"
    },
    {
     "name": "stdout",
     "output_type": "stream",
     "text": [
      "<class 'tuple'>\n",
      "(1, 2, 3)\n"
     ]
    },
    {
     "data": {
      "text/plain": [
       "6"
      ]
     },
     "execution_count": 7,
     "metadata": {},
     "output_type": "execute_result"
    }
   ],
   "source": [
    "def myadd1(a,b,c,d,*parms):\n",
    "    print(type(parms))\n",
    "    print('parms:',parms)\n",
    "    print('a,b,c,d:',a,b,c,d)\n",
    "    return sum(parms)\n",
    "\n",
    "myadd1(1,2,3,4,5,6)\n",
    "\n",
    "def myadd2(arg,*args):\n",
    "    print(type(args))\n",
    "    print(args)\n",
    "    return sum(args)\n",
    "\n",
    "myadd2(18,1,2,3)\n",
    "\n",
    "\n",
    "def myadd3(arg,*args):\n",
    "    print(type(args))\n",
    "    print(args)\n",
    "    return sum(args)\n",
    "myadd3(18,1,2,3)"
   ]
  },
  {
   "cell_type": "markdown",
   "metadata": {},
   "source": [
    "### 不定长关键字参数"
   ]
  },
  {
   "cell_type": "code",
   "execution_count": null,
   "metadata": {},
   "outputs": [],
   "source": [
    "def myadd(**kwargs):\n",
    "    print(kwargs)\n",
    "    \n",
    "myadd(add='sh',tel=13333,name='jack',height=178)\n",
    "\n",
    "myadd(address='sh',cellphone=13333,)\n",
    "\n",
    "\n",
    "def myaddkw(**names):\n",
    "    print(type(names))\n",
    "    print(list(names.values()))\n",
    "    return list(names.values())\n",
    "    \n",
    "myaddkw(name='david',gender='male',age=0)\n",
    "myadd0(args=5, lastnum=6)"
   ]
  },
  {
   "cell_type": "markdown",
   "metadata": {},
   "source": [
    "### 综合使用"
   ]
  },
  {
   "cell_type": "code",
   "execution_count": 83,
   "metadata": {
    "ExecuteTime": {
     "end_time": "2018-12-09T13:36:20.623955Z",
     "start_time": "2018-12-09T13:36:20.616948Z"
    }
   },
   "outputs": [
    {
     "data": {
      "text/plain": [
       "6"
      ]
     },
     "execution_count": 83,
     "metadata": {},
     "output_type": "execute_result"
    }
   ],
   "source": [
    "l1=[1,2,3,4,5,6]\n",
    "a,b,c,d,e,f=l1\n",
    "f"
   ]
  },
  {
   "cell_type": "code",
   "execution_count": 74,
   "metadata": {
    "ExecuteTime": {
     "end_time": "2018-12-09T13:29:15.107362Z",
     "start_time": "2018-12-09T13:29:15.093362Z"
    }
   },
   "outputs": [
    {
     "name": "stdout",
     "output_type": "stream",
     "text": [
      "(1, 2, 3, 4, 5, 6, 7)\n",
      "name\n",
      "add\n",
      "date\n"
     ]
    }
   ],
   "source": [
    "l1=[1,2,3,4,5,6]\n",
    "a,b,*c,d,e=l1\n",
    "a,b,c,d,e\n",
    "\n",
    "def myfun1(*args,**kwargs):\n",
    "    print(args)\n",
    "    for item in kwargs:\n",
    "         print(item)\n",
    "d1={'name':'david','add':'bj','date':'2018-8-1'}\n",
    "l1=[1,2,3,4,5,6,7]\n",
    "myfun1(*l1,**d1)"
   ]
  },
  {
   "cell_type": "markdown",
   "metadata": {},
   "source": [
    "##### 扩展阅读:Python函数参数中的`/`与`*`"
   ]
  },
  {
   "cell_type": "code",
   "execution_count": 55,
   "metadata": {
    "ExecuteTime": {
     "end_time": "2018-12-09T13:18:33.274277Z",
     "start_time": "2018-12-09T13:18:33.269277Z"
    }
   },
   "outputs": [],
   "source": [
    "sorted?"
   ]
  },
  {
   "cell_type": "code",
   "execution_count": 171,
   "metadata": {},
   "outputs": [
    {
     "data": {
      "text/plain": [
       "['Beijing', 'China', 'Japan', 'UK']"
      ]
     },
     "execution_count": 171,
     "metadata": {},
     "output_type": "execute_result"
    },
    {
     "data": {
      "text/plain": [
       "['UK', 'Japan', 'China', 'Beijing']"
      ]
     },
     "execution_count": 171,
     "metadata": {},
     "output_type": "execute_result"
    }
   ],
   "source": [
    "l1=['China','Japan','UK','Beijing']\n",
    "\n",
    "#Signature: sorted(iterable, /, *, key=None, reverse=False)\n",
    "#参数/是指，iterable这个参数只能以位置参数形式给，不能以关键字参数形式给，否则报错\n",
    "#这类参数只能在C API中被指定，def定义会报错\n",
    "\n",
    "#正常\n",
    "sorted(l1)\n",
    "#报错\n",
    "#sorted(iterable=l1)#TypeError: Function takes at least 1 positional arguments (0 given)\n",
    "\n",
    "#参数*是指，key这个参数只能以关键字参数形式给，不能以位置参数形式给，以否则报错\n",
    "#这类参数可以自行定义\n",
    "#正常\n",
    "sorted(l1,key=lambda x:(x[-2]))\n",
    "#报错\n",
    "# sorted(l1,lambda x:(x[-1]))#TypeError: must use keyword argument for key function\n"
   ]
  },
  {
   "cell_type": "markdown",
   "metadata": {},
   "source": [
    "## 偏函数"
   ]
  },
  {
   "cell_type": "code",
   "execution_count": 79,
   "metadata": {
    "ExecuteTime": {
     "end_time": "2018-12-09T13:32:51.833178Z",
     "start_time": "2018-12-09T13:32:51.824171Z"
    }
   },
   "outputs": [
    {
     "data": {
      "text/plain": [
       "functools.partial"
      ]
     },
     "execution_count": 79,
     "metadata": {},
     "output_type": "execute_result"
    }
   ],
   "source": [
    "#偏函数,固定了部分参数的函数\n",
    "\n",
    "import functools\n",
    "\n",
    "a=0x24\n",
    "a\n",
    "int(str(a),base=32)\n",
    "\n",
    "hex2int=functools.partial(int,base=16)\n",
    "\n",
    "type(hex2int)\n",
    "# hex2int(str(a))"
   ]
  },
  {
   "cell_type": "code",
   "execution_count": 80,
   "metadata": {
    "ExecuteTime": {
     "end_time": "2018-12-09T13:34:22.357298Z",
     "start_time": "2018-12-09T13:34:22.339330Z"
    }
   },
   "outputs": [
    {
     "data": {
      "text/plain": [
       "410000"
      ]
     },
     "execution_count": 80,
     "metadata": {},
     "output_type": "execute_result"
    }
   ],
   "source": [
    "def mysal(nums,rate=6.95):\n",
    "    return nums*rate\n",
    "\n",
    "mysal(5000)\n",
    "mysal(12000)\n",
    "\n",
    "import functools\n",
    "rmb2eur=functools.partial(mysal,rate=1.01)\n",
    "rmb2jpn=functools.partial(mysal,rate=82)\n",
    "\n",
    "rmb2jpn(5000)"
   ]
  },
  {
   "cell_type": "markdown",
   "metadata": {},
   "source": [
    "## Python中的LEGB访问规则"
   ]
  },
  {
   "cell_type": "markdown",
   "metadata": {},
   "source": [
    "### 先讲LGB这三层楼（名字空间），E这层楼下节课会讲到\n",
    "\n",
    "<img src='data:image/jpeg;base64,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'>"
   ]
  },
  {
   "cell_type": "code",
   "execution_count": 84,
   "metadata": {
    "ExecuteTime": {
     "end_time": "2018-12-09T13:37:33.785548Z",
     "start_time": "2018-12-09T13:37:33.777584Z"
    }
   },
   "outputs": [
    {
     "name": "stdout",
     "output_type": "stream",
     "text": [
      "{'f': 15}\n"
     ]
    },
    {
     "data": {
      "text/plain": [
       "6"
      ]
     },
     "execution_count": 84,
     "metadata": {},
     "output_type": "execute_result"
    }
   ],
   "source": [
    "def a():\n",
    "    f=15\n",
    "    print(locals())\n",
    "    \n",
    "a()\n",
    "f"
   ]
  },
  {
   "cell_type": "markdown",
   "metadata": {},
   "source": [
    "##### 扩展阅读：Eval与Exec这两个函数在名字空间"
   ]
  },
  {
   "cell_type": "code",
   "execution_count": 161,
   "metadata": {
    "scrolled": true
   },
   "outputs": [
    {
     "data": {
      "text/plain": [
       "<function inside_func()>"
      ]
     },
     "execution_count": 161,
     "metadata": {},
     "output_type": "execute_result"
    }
   ],
   "source": [
    "# exec?\n",
    "# Signature: exec(source, globals=None, locals=None, /)\n",
    "# Docstring:\n",
    "# Execute the given source in the context of globals and locals.\n",
    "\n",
    "\n",
    "#要exec的python源码\n",
    "ns={}#传入的容器是空的\n",
    "exec('def inside_func():pass',ns)\n",
    "ns['inside_func']#返回的窗器是带有结果的，也就是说传入名字空间被改变了"
   ]
  },
  {
   "cell_type": "code",
   "execution_count": 167,
   "metadata": {},
   "outputs": [
    {
     "name": "stdout",
     "output_type": "stream",
     "text": [
      "入口程序模块： 0x23813168ea0 __main__\n",
      "0x238130b84c8 builtins\n",
      "Variable   Type    Data/Info\n",
      "----------------------------\n",
      "g          dict    n=3\n",
      "l          dict    n=2\n",
      "ns         dict    n=2\n",
      "s          str     \\ndef test():\\n    print(<...>ltins模块下进行运行的\\n\\ntest()\\n\n"
     ]
    }
   ],
   "source": [
    "s='''\n",
    "def test():\n",
    "    print(hex(id(locals())),__name__)\n",
    "    #exec的代码是以builtins模块下进行运行的\n",
    "\n",
    "test()\n",
    "'''\n",
    "g={'g':666}#传给s的全局名字空间\n",
    "print('入口程序模块：',hex(id(ns)),__name__)\n",
    "\n",
    "exec(s,g)\n",
    "\n",
    "%whos"
   ]
  },
  {
   "cell_type": "code",
   "execution_count": 158,
   "metadata": {},
   "outputs": [
    {
     "data": {
      "text/plain": [
       "201"
      ]
     },
     "execution_count": 158,
     "metadata": {},
     "output_type": "execute_result"
    }
   ],
   "source": [
    "#eavl,显示传入容器对象做为动态代码的专用名字空间\n",
    "# Signature: eval(source, globals=None, locals=None, /)\n",
    "# Docstring:\n",
    "# Evaluate the given source in the context of globals and locals.\n",
    "\n",
    "g={\"x\":100}\n",
    "l={\"y\":101}\n",
    "\n",
    "eval(\"x+y\",g,l)"
   ]
  },
  {
   "cell_type": "markdown",
   "metadata": {},
   "source": [
    "## 完成课后作业："
   ]
  },
  {
   "cell_type": "markdown",
   "metadata": {},
   "source": [
    "### 实现能输出指定长度fib数列函数"
   ]
  },
  {
   "cell_type": "code",
   "execution_count": null,
   "metadata": {},
   "outputs": [],
   "source": []
  },
  {
   "cell_type": "markdown",
   "metadata": {},
   "source": [
    "### 定义一个函数，接受任意三个数字的输入，并按顺序从小到大输出"
   ]
  },
  {
   "cell_type": "code",
   "execution_count": null,
   "metadata": {},
   "outputs": [],
   "source": []
  },
  {
   "cell_type": "markdown",
   "metadata": {},
   "source": [
    "### 自己实现一个支持可变参数的函数"
   ]
  },
  {
   "cell_type": "code",
   "execution_count": null,
   "metadata": {},
   "outputs": [],
   "source": []
  },
  {
   "cell_type": "markdown",
   "metadata": {},
   "source": [
    "### 要求创建一个函数，它可以接收，位置参数，不定长位置参数，不定长关键词参数，并按要求输出 。\n",
    "- 输入班级名，班级特色（如’勤奋’,’颜值高’ ）等等不同特色，班级不同同学的姓名与年龄。\n",
    "- 要求输出，班级名，班级特色，班级成员，班级成员的平均年龄。"
   ]
  },
  {
   "cell_type": "code",
   "execution_count": null,
   "metadata": {},
   "outputs": [],
   "source": []
  },
  {
   "cell_type": "markdown",
   "metadata": {},
   "source": [
    "### 创建能根据输入计算BMI指数的函数\n",
    "\n",
    "身体质量指数（BMI）是根据人的体重和身高计算得出的一个数字，BMI是可靠的身体肥胖指标，其计算公式：BMI=Weight/High2，其中体重单位为公斤，身高单位为米。\n",
    "\n",
    "- 计算公式为：$BMI=体重（kg）÷身高^2（m）$\n",
    "\n",
    "- 提示用户输入体重（kg）和身高的数字(m)(注意单位），然后计算BMI。\n",
    "\n",
    "- 根据BMI指数范围，定义当前健康状态。BMI指数在18至25之间定义为健康的标准体重,小于该范围定义为偏瘦，超过该范围定义为偏重。\n",
    "\n",
    "- 将BMI指数和其所代表状态输出 "
   ]
  },
  {
   "cell_type": "code",
   "execution_count": null,
   "metadata": {},
   "outputs": [],
   "source": []
  }
 ],
 "metadata": {
  "kernelspec": {
   "display_name": "Python 3",
   "language": "python",
   "name": "python3"
  },
  "language_info": {
   "codemirror_mode": {
    "name": "ipython",
    "version": 3
   },
   "file_extension": ".py",
   "mimetype": "text/x-python",
   "name": "python",
   "nbconvert_exporter": "python",
   "pygments_lexer": "ipython3",
   "version": "3.6.4"
  },
  "latex_envs": {
   "LaTeX_envs_menu_present": true,
   "autoclose": false,
   "autocomplete": true,
   "bibliofile": "biblio.bib",
   "cite_by": "apalike",
   "current_citInitial": 1,
   "eqLabelWithNumbers": true,
   "eqNumInitial": 1,
   "hotkeys": {
    "equation": "Ctrl-E",
    "itemize": "Ctrl-I"
   },
   "labels_anchors": false,
   "latex_user_defs": false,
   "report_style_numbering": false,
   "user_envs_cfg": false
  },
  "toc": {
   "base_numbering": 1,
   "nav_menu": {},
   "number_sections": true,
   "sideBar": true,
   "skip_h1_title": false,
   "title_cell": "Table of Contents",
   "title_sidebar": "Contents",
   "toc_cell": false,
   "toc_position": {
    "height": "calc(100% - 180px)",
    "left": "10px",
    "top": "150px",
    "width": "349px"
   },
   "toc_section_display": true,
   "toc_window_display": false
  }
 },
 "nbformat": 4,
 "nbformat_minor": 2
}
